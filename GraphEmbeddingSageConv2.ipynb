{
 "cells": [
  {
   "cell_type": "markdown",
   "metadata": {},
   "source": [
    "# Data Preprocessing"
   ]
  },
  {
   "cell_type": "code",
   "execution_count": 12,
   "metadata": {},
   "outputs": [],
   "source": [
    "import rdkit\n",
    "from torch_geometric.datasets import MoleculeNet\n",
    "\n",
    "# Load the Free Energy of Solvation dataset\n",
    "dataset = MoleculeNet(root=\".\", name=\"FreeSolv\")"
   ]
  },
  {
   "cell_type": "code",
   "execution_count": 13,
   "metadata": {},
   "outputs": [
    {
     "name": "stdout",
     "output_type": "stream",
     "text": [
      "Dataset type:  <class 'torch_geometric.datasets.molecule_net.MoleculeNet'>\n",
      "Dataset features:  9\n",
      "Dataset target:  485\n",
      "Dataset length:  <bound method InMemoryDataset.len of FreeSolv(642)>\n",
      "Dataset sample:  Data(x=[13, 9], edge_index=[2, 26], edge_attr=[26, 3], smiles='CN(C)C(=O)c1ccc(cc1)OC', y=[1, 1])\n",
      "Sample  nodes:  13\n",
      "Sample  edges:  26\n"
     ]
    },
    {
     "name": "stderr",
     "output_type": "stream",
     "text": [
      "C:\\Users\\NajibS\\AppData\\Roaming\\Python\\Python311\\site-packages\\torch_geometric\\data\\dataset.py:172: UserWarning: Found floating-point labels while calling `dataset.num_classes`. Returning the number of unique elements. Please make sure that this is expected before proceeding.\n",
      "  warnings.warn(\"Found floating-point labels while calling \"\n"
     ]
    }
   ],
   "source": [
    "data = dataset\n",
    "print(\"Dataset type: \", type(data))\n",
    "print(\"Dataset features: \", data.num_features)\n",
    "print(\"Dataset target: \", data.num_classes)\n",
    "print(\"Dataset length: \", data.len)\n",
    "print(\"Dataset sample: \", data[0])\n",
    "print(\"Sample  nodes: \", data[0].num_nodes)\n",
    "print(\"Sample  edges: \", data[0].num_edges)"
   ]
  },
  {
   "cell_type": "code",
   "execution_count": 14,
   "metadata": {},
   "outputs": [
    {
     "data": {
      "text/plain": [
       "'CN(C)C(=O)c1ccc(cc1)OC'"
      ]
     },
     "execution_count": 14,
     "metadata": {},
     "output_type": "execute_result"
    }
   ],
   "source": [
    "data[0][\"smiles\"]\n"
   ]
  },
  {
   "cell_type": "code",
   "execution_count": 15,
   "metadata": {},
   "outputs": [
    {
     "data": {
      "image/png": "[encoded data removed]",
      "text/plain": [
       "<rdkit.Chem.rdchem.Mol at 0x1361c773d10>"
      ]
     },
     "execution_count": 15,
     "metadata": {},
     "output_type": "execute_result"
    }
   ],
   "source": [
    "from rdkit import Chem\n",
    "from rdkit.Chem.Draw import IPythonConsole\n",
    "molecule = Chem.MolFromSmiles(data[1][\"smiles\"])\n",
    "molecule"
   ]
  },
  {
   "cell_type": "markdown",
   "metadata": {},
   "source": [
    "# Model definition"
   ]
  },
  {
   "cell_type": "code",
   "execution_count": 29,
   "metadata": {},
   "outputs": [
    {
     "name": "stdout",
     "output_type": "stream",
     "text": [
      "GCN(\n",
      "  (Convlayers): ModuleList(\n",
      "    (0): SAGEConv(9, 6, aggr=mean)\n",
      "    (1): SAGEConv(6, 6, aggr=mean)\n",
      "  )\n",
      "  (linear): Linear(in_features=7, out_features=1, bias=True)\n",
      ")\n",
      "Number of parameters:  200\n"
     ]
    }
   ],
   "source": [
    "import torch\n",
    "from torch.nn import Linear\n",
    "import torch.nn as nn\n",
    "import torch.nn.functional as F \n",
    "from torch_geometric.nn import GCNConv, TopKPooling, SAGEConv\n",
    "from torch_geometric.nn import global_mean_pool as gap, global_max_pool as gmp\n",
    "\n",
    "class GCN(torch.nn.Module):\n",
    "    def __init__(self, feature_count, hidden_dim, out_channels, num_deepLayers):\n",
    "        # Init parent\n",
    "        super(GCN, self).__init__()\n",
    "        # GCN layers\n",
    "        self.layersCount = num_deepLayers\n",
    "        self.Convlayers = nn.ModuleList()\n",
    "\n",
    "        for ii in range(self.layersCount):\n",
    "            in_channels = feature_count if ii == 0 else hidden_dim\n",
    "            self.Convlayers.append(SAGEConv(in_channels, hidden_dim))\n",
    "\n",
    "        # Output layer\n",
    "        self.linear = Linear(hidden_dim+1, out_channels)\n",
    "\n",
    "    def forward(self, data):\n",
    "\n",
    "        x, edge_index, batch_index = data.x, data.edge_index, data.batch\n",
    "        x = x.float()\n",
    "        #print(data[0].num_nodes)\n",
    "       # print(batch_index)\n",
    "        Num_atoms = []\n",
    "        for ii in range(len(data)):\n",
    "            Num_atoms.append(data[ii].num_nodes)\n",
    "\n",
    "        Num_atoms = torch.tensor(Num_atoms, dtype = torch.float).view(-1,1)\n",
    "\n",
    "        for jj in range(self.layersCount):\n",
    "            x = self.Convlayers[jj](x, edge_index)\n",
    "            # if jj != self.layersCount:\n",
    "            #     x = F.relu(x)\n",
    "            x = F.tanh(x)\n",
    "\n",
    "        #print(num_atoms)\n",
    "        embedding = torch.cat([gmp(x, batch_index), Num_atoms], dim=1)\n",
    "        # returned hidden is [num_graphs, hidden_dim]\n",
    "        #print(hidden.shape)\n",
    "\n",
    "        # Apply a final (linear) classifier.\n",
    "\n",
    "        x = self.linear(embedding)\n",
    "        #print(x.shape)\n",
    "\n",
    "        return x\n",
    "    \n",
    "model = GCN(data.num_features, 6,1,2)\n",
    "print(model)\n",
    "print(\"Number of parameters: \", sum(p.numel() for p in model.parameters()))"
   ]
  },
  {
   "cell_type": "markdown",
   "metadata": {},
   "source": [
    "# Training"
   ]
  },
  {
   "cell_type": "code",
   "execution_count": 36,
   "metadata": {},
   "outputs": [],
   "source": [
    "from torch_geometric.data import DataLoader\n",
    "import warnings\n",
    "warnings.filterwarnings(\"ignore\")\n",
    "\n",
    "# Root mean squared error\n",
    "loss_fn = torch.nn.MSELoss()\n",
    "optimizer = torch.optim.Adam(model.parameters(), lr=1e-5)  \n",
    "batch_size = 32\n",
    "pretrained = True\n",
    "model_path = \"GraphModelSG2_pretrained.pth\"\n",
    "if pretrained:\n",
    "   model.load_state_dict(torch.load(model_path))\n",
    "\n",
    "\n",
    "# Use GPU for training\n",
    "device = torch.device(\"cuda:0\" if torch.cuda.is_available() else \"cpu\")\n",
    "model = model.to(device)\n",
    "\n",
    "# Wrap data in a data loader\n",
    "data_size = len(data)\n",
    "\n",
    "train_loader = DataLoader(data[:int(data_size * 0.8)], \n",
    "                    batch_size=batch_size, shuffle=True, drop_last = True)\n",
    "test_loader = DataLoader(data[int(data_size * 0.8):], \n",
    "                         batch_size=batch_size, shuffle=True, drop_last = True)"
   ]
  },
  {
   "cell_type": "code",
   "execution_count": 37,
   "metadata": {},
   "outputs": [
    {
     "name": "stdout",
     "output_type": "stream",
     "text": [
      "Starting training...\n",
      "Epoch 0 | Train Loss 2.065460443496704\n",
      "Epoch 100 | Train Loss 1.061971664428711\n",
      "Epoch 200 | Train Loss 1.2425272464752197\n",
      "Epoch 300 | Train Loss 2.2832272052764893\n",
      "Epoch 400 | Train Loss 1.7112287282943726\n",
      "Epoch 500 | Train Loss 1.2369112968444824\n",
      "Epoch 600 | Train Loss 1.5305804014205933\n",
      "Epoch 700 | Train Loss 2.7026209831237793\n",
      "Epoch 800 | Train Loss 1.2699599266052246\n",
      "Epoch 900 | Train Loss 0.723000168800354\n"
     ]
    }
   ],
   "source": [
    "def train():\n",
    "    # Enumerate over the data\n",
    "    for batch in train_loader:\n",
    "      # Use GPU\n",
    "      model.train()\n",
    "      batch.to(device)  \n",
    "      # Reset gradients\n",
    "      optimizer.zero_grad() \n",
    "      # Passing the node features and the connection info\n",
    "      pred = model(batch) \n",
    "      # Calculating the loss and gradients\n",
    "      #print(pred.shape)\n",
    "      #print(batch.y.shape)\n",
    "      loss = loss_fn(pred, batch.y)     \n",
    "      loss.backward()  \n",
    "      # Update using the gradients\n",
    "      optimizer.step()   \n",
    "    return loss\n",
    "\n",
    "print(\"Starting training...\")\n",
    "losses = []\n",
    "for epoch in range(1000):\n",
    "    loss = train()\n",
    "    losses.append(loss)\n",
    "    if epoch % 100 == 0:\n",
    "      print(f\"Epoch {epoch} | Train Loss {loss}\")"
   ]
  },
  {
   "cell_type": "code",
   "execution_count": 38,
   "metadata": {},
   "outputs": [],
   "source": [
    "model_path = \"GraphModelSG2_pretrained.pth\"\n",
    "torch.save(model.state_dict(), model_path)"
   ]
  },
  {
   "cell_type": "code",
   "execution_count": 39,
   "metadata": {},
   "outputs": [
    {
     "data": {
      "application/vnd.plotly.v1+json": {
       "config": {
        "linkText": "Export to plot.ly",
        "plotlyServerURL": "https://plot.ly",
        "showLink": false
       },
       "data": [
        {
         "mode": "lines",
         "type": "scatter",
         "x": [
          0,
          1,
          2,
          3,
          4,
          5,
          6,
          7,
          8,
          9,
          10,
          11,
          12,
          13,
          14,
          15,
          16,
          17,
          18,
          19,
          20,
          21,
          22,
          23,
          24,
          25,
          26,
          27,
          28,
          29,
          30,
          31,
          32,
          33,
          34,
          35,
          36,
          37,
          38,
          39,
          40,
          41,
          42,
          43,
          44,
          45,
          46,
          47,
          48,
          49,
          50,
          51,
          52,
          53,
          54,
          55,
          56,
          57,
          58,
          59,
          60,
          61,
          62,
          63,
          64,
          65,
          66,
          67,
          68,
          69,
          70,
          71,
          72,
          73,
          74,
          75,
          76,
          77,
          78,
          79,
          80,
          81,
          82,
          83,
          84,
          85,
          86,
          87,
          88,
          89,
          90,
          91,
          92,
          93,
          94,
          95,
          96,
          97,
          98,
          99,
          100,
          101,
          102,
          103,
          104,
          105,
          106,
          107,
          108,
          109,
          110,
          111,
          112,
          113,
          114,
          115,
          116,
          117,
          118,
          119,
          120,
          121,
          122,
          123,
          124,
          125,
          126,
          127,
          128,
          129,
          130,
          131,
          132,
          133,
          134,
          135,
          136,
          137,
          138,
          139,
          140,
          141,
          142,
          143,
          144,
          145,
          146,
          147,
          148,
          149,
          150,
          151,
          152,
          153,
          154,
          155,
          156,
          157,
          158,
          159,
          160,
          161,
          162,
          163,
          164,
          165,
          166,
          167,
          168,
          169,
          170,
          171,
          172,
          173,
          174,
          175,
          176,
          177,
          178,
          179,
          180,
          181,
          182,
          183,
          184,
          185,
          186,
          187,
          188,
          189,
          190,
          191,
          192,
          193,
          194,
          195,
          196,
          197,
          198,
          199,
          200,
          201,
          202,
          203,
          204,
          205,
          206,
          207,
          208,
          209,
          210,
          211,
          212,
          213,
          214,
          215,
          216,
          217,
          218,
          219,
          220,
          221,
          222,
          223,
          224,
          225,
          226,
          227,
          228,
          229,
          230,
          231,
          232,
          233,
          234,
          235,
          236,
          237,
          238,
          239,
          240,
          241,
          242,
          243,
          244,
          245,
          246,
          247,
          248,
          249,
          250,
          251,
          252,
          253,
          254,
          255,
          256,
          257,
          258,
          259,
          260,
          261,
          262,
          263,
          264,
          265,
          266,
          267,
          268,
          269,
          270,
          271,
          272,
          273,
          274,
          275,
          276,
          277,
          278,
          279,
          280,
          281,
          282,
          283,
          284,
          285,
          286,
          287,
          288,
          289,
          290,
          291,
          292,
          293,
          294,
          295,
          296,
          297,
          298,
          299,
          300,
          301,
          302,
          303,
          304,
          305,
          306,
          307,
          308,
          309,
          310,
          311,
          312,
          313,
          314,
          315,
          316,
          317,
          318,
          319,
          320,
          321,
          322,
          323,
          324,
          325,
          326,
          327,
          328,
          329,
          330,
          331,
          332,
          333,
          334,
          335,
          336,
          337,
          338,
          339,
          340,
          341,
          342,
          343,
          344,
          345,
          346,
          347,
          348,
          349,
          350,
          351,
          352,
          353,
          354,
          355,
          356,
          357,
          358,
          359,
          360,
          361,
          362,
          363,
          364,
          365,
          366,
          367,
          368,
          369,
          370,
          371,
          372,
          373,
          374,
          375,
          376,
          377,
          378,
          379,
          380,
          381,
          382,
          383,
          384,
          385,
          386,
          387,
          388,
          389,
          390,
          391,
          392,
          393,
          394,
          395,
          396,
          397,
          398,
          399,
          400,
          401,
          402,
          403,
          404,
          405,
          406,
          407,
          408,
          409,
          410,
          411,
          412,
          413,
          414,
          415,
          416,
          417,
          418,
          419,
          420,
          421,
          422,
          423,
          424,
          425,
          426,
          427,
          428,
          429,
          430,
          431,
          432,
          433,
          434,
          435,
          436,
          437,
          438,
          439,
          440,
          441,
          442,
          443,
          444,
          445,
          446,
          447,
          448,
          449,
          450,
          451,
          452,
          453,
          454,
          455,
          456,
          457,
          458,
          459,
          460,
          461,
          462,
          463,
          464,
          465,
          466,
          467,
          468,
          469,
          470,
          471,
          472,
          473,
          474,
          475,
          476,
          477,
          478,
          479,
          480,
          481,
          482,
          483,
          484,
          485,
          486,
          487,
          488,
          489,
          490,
          491,
          492,
          493,
          494,
          495,
          496,
          497,
          498,
          499,
          500,
          501,
          502,
          503,
          504,
          505,
          506,
          507,
          508,
          509,
          510,
          511,
          512,
          513,
          514,
          515,
          516,
          517,
          518,
          519,
          520,
          521,
          522,
          523,
          524,
          525,
          526,
          527,
          528,
          529,
          530,
          531,
          532,
          533,
          534,
          535,
          536,
          537,
          538,
          539,
          540,
          541,
          542,
          543,
          544,
          545,
          546,
          547,
          548,
          549,
          550,
          551,
          552,
          553,
          554,
          555,
          556,
          557,
          558,
          559,
          560,
          561,
          562,
          563,
          564,
          565,
          566,
          567,
          568,
          569,
          570,
          571,
          572,
          573,
          574,
          575,
          576,
          577,
          578,
          579,
          580,
          581,
          582,
          583,
          584,
          585,
          586,
          587,
          588,
          589,
          590,
          591,
          592,
          593,
          594,
          595,
          596,
          597,
          598,
          599,
          600,
          601,
          602,
          603,
          604,
          605,
          606,
          607,
          608,
          609,
          610,
          611,
          612,
          613,
          614,
          615,
          616,
          617,
          618,
          619,
          620,
          621,
          622,
          623,
          624,
          625,
          626,
          627,
          628,
          629,
          630,
          631,
          632,
          633,
          634,
          635,
          636,
          637,
          638,
          639,
          640,
          641,
          642,
          643,
          644,
          645,
          646,
          647,
          648,
          649,
          650,
          651,
          652,
          653,
          654,
          655,
          656,
          657,
          658,
          659,
          660,
          661,
          662,
          663,
          664,
          665,
          666,
          667,
          668,
          669,
          670,
          671,
          672,
          673,
          674,
          675,
          676,
          677,
          678,
          679,
          680,
          681,
          682,
          683,
          684,
          685,
          686,
          687,
          688,
          689,
          690,
          691,
          692,
          693,
          694,
          695,
          696,
          697,
          698,
          699,
          700,
          701,
          702,
          703,
          704,
          705,
          706,
          707,
          708,
          709,
          710,
          711,
          712,
          713,
          714,
          715,
          716,
          717,
          718,
          719,
          720,
          721,
          722,
          723,
          724,
          725,
          726,
          727,
          728,
          729,
          730,
          731,
          732,
          733,
          734,
          735,
          736,
          737,
          738,
          739,
          740,
          741,
          742,
          743,
          744,
          745,
          746,
          747,
          748,
          749,
          750,
          751,
          752,
          753,
          754,
          755,
          756,
          757,
          758,
          759,
          760,
          761,
          762,
          763,
          764,
          765,
          766,
          767,
          768,
          769,
          770,
          771,
          772,
          773,
          774,
          775,
          776,
          777,
          778,
          779,
          780,
          781,
          782,
          783,
          784,
          785,
          786,
          787,
          788,
          789,
          790,
          791,
          792,
          793,
          794,
          795,
          796,
          797,
          798,
          799,
          800,
          801,
          802,
          803,
          804,
          805,
          806,
          807,
          808,
          809,
          810,
          811,
          812,
          813,
          814,
          815,
          816,
          817,
          818,
          819,
          820,
          821,
          822,
          823,
          824,
          825,
          826,
          827,
          828,
          829,
          830,
          831,
          832,
          833,
          834,
          835,
          836,
          837,
          838,
          839,
          840,
          841,
          842,
          843,
          844,
          845,
          846,
          847,
          848,
          849,
          850,
          851,
          852,
          853,
          854,
          855,
          856,
          857,
          858,
          859,
          860,
          861,
          862,
          863,
          864,
          865,
          866,
          867,
          868,
          869,
          870,
          871,
          872,
          873,
          874,
          875,
          876,
          877,
          878,
          879,
          880,
          881,
          882,
          883,
          884,
          885,
          886,
          887,
          888,
          889,
          890,
          891,
          892,
          893,
          894,
          895,
          896,
          897,
          898,
          899,
          900,
          901,
          902,
          903,
          904,
          905,
          906,
          907,
          908,
          909,
          910,
          911,
          912,
          913,
          914,
          915,
          916,
          917,
          918,
          919,
          920,
          921,
          922,
          923,
          924,
          925,
          926,
          927,
          928,
          929,
          930,
          931,
          932,
          933,
          934,
          935,
          936,
          937,
          938,
          939,
          940,
          941,
          942,
          943,
          944,
          945,
          946,
          947,
          948,
          949,
          950,
          951,
          952,
          953,
          954,
          955,
          956,
          957,
          958,
          959,
          960,
          961,
          962,
          963,
          964,
          965,
          966,
          967,
          968,
          969,
          970,
          971,
          972,
          973,
          974,
          975,
          976,
          977,
          978,
          979,
          980,
          981,
          982,
          983,
          984,
          985,
          986,
          987,
          988,
          989,
          990,
          991,
          992,
          993,
          994,
          995,
          996,
          997,
          998,
          999
         ],
         "y": [
          2.065460443496704,
          3.027317523956299,
          2.834780216217041,
          1.4999147653579712,
          1.9483360052108765,
          2.4521520137786865,
          3.174081802368164,
          3.2401232719421387,
          1.4242879152297974,
          1.6220381259918213,
          1.047666072845459,
          0.9724481105804443,
          2.1968579292297363,
          2.5466833114624023,
          2.7113499641418457,
          1.805416464805603,
          2.0471761226654053,
          1.5087788105010986,
          2.4033923149108887,
          1.4431045055389404,
          2.982001543045044,
          0.6277387142181396,
          1.2254621982574463,
          1.2268942594528198,
          1.5666263103485107,
          2.1708662509918213,
          1.001538634300232,
          1.3278076648712158,
          2.40781831741333,
          2.256330966949463,
          2.9792232513427734,
          2.0648982524871826,
          1.1765223741531372,
          1.7068477869033813,
          2.0647623538970947,
          2.203885793685913,
          1.819883108139038,
          1.7205742597579956,
          0.9157148003578186,
          1.6953692436218262,
          2.5299599170684814,
          2.1988284587860107,
          1.174869179725647,
          1.2095685005187988,
          1.553152084350586,
          1.591790795326233,
          1.1319524049758911,
          1.3816214799880981,
          3.0592215061187744,
          1.7440266609191895,
          1.102858304977417,
          3.356172800064087,
          2.134019613265991,
          1.336716890335083,
          1.2678812742233276,
          2.318638324737549,
          2.162814140319824,
          2.6465933322906494,
          1.454484224319458,
          1.4447592496871948,
          2.3067405223846436,
          1.635518193244934,
          1.978118896484375,
          1.243794560432434,
          1.4221224784851074,
          1.4691720008850098,
          2.244804859161377,
          2.1531524658203125,
          1.1102993488311768,
          1.9504456520080566,
          2.146272659301758,
          1.3398798704147339,
          1.3043667078018188,
          1.4738253355026245,
          2.2308335304260254,
          2.2028846740722656,
          1.7333942651748657,
          1.2535139322280884,
          2.8240010738372803,
          2.4894237518310547,
          3.2919342517852783,
          1.7407305240631104,
          1.3294963836669922,
          1.9185354709625244,
          0.8944639563560486,
          1.200208306312561,
          0.9394276142120361,
          1.5075675249099731,
          1.5928409099578857,
          0.9726946353912354,
          1.6434218883514404,
          1.4299232959747314,
          2.7872886657714844,
          1.306515097618103,
          1.939226746559143,
          1.1965599060058594,
          1.6971158981323242,
          1.8700053691864014,
          1.6880525350570679,
          1.949815034866333,
          1.061971664428711,
          2.0393810272216797,
          2.1014435291290283,
          1.8048090934753418,
          1.9503132104873657,
          3.177403450012207,
          1.4696893692016602,
          1.4660512208938599,
          0.9617220759391785,
          1.2702057361602783,
          1.6684001684188843,
          1.5222481489181519,
          1.2005670070648193,
          2.3691234588623047,
          1.3961036205291748,
          2.170999526977539,
          1.2460001707077026,
          1.5568592548370361,
          2.10305118560791,
          2.6286191940307617,
          1.2475025653839111,
          1.5895721912384033,
          2.3963370323181152,
          1.5718858242034912,
          2.426933526992798,
          0.9191619157791138,
          1.8045073747634888,
          1.1099767684936523,
          1.5500305891036987,
          1.5060676336288452,
          1.4102193117141724,
          2.97833514213562,
          1.7795084714889526,
          1.9216667413711548,
          2.546839952468872,
          1.7847496271133423,
          1.368640661239624,
          1.4803435802459717,
          2.2135696411132812,
          1.7729308605194092,
          2.4797449111938477,
          1.251258134841919,
          2.0263240337371826,
          1.617690920829773,
          2.6842198371887207,
          1.5032048225402832,
          1.1991618871688843,
          2.495831251144409,
          1.0710947513580322,
          1.8472779989242554,
          1.9127296209335327,
          1.142487645149231,
          1.8105659484863281,
          1.833581566810608,
          2.179119110107422,
          1.8492331504821777,
          1.681578516960144,
          0.9939217567443848,
          1.4425418376922607,
          1.8355718851089478,
          1.3798812627792358,
          1.764447569847107,
          1.4086134433746338,
          1.2600905895233154,
          2.588343620300293,
          1.4730658531188965,
          1.6445372104644775,
          2.089418649673462,
          1.5154763460159302,
          1.7906757593154907,
          1.8534907102584839,
          1.9183619022369385,
          2.079357147216797,
          2.584940195083618,
          1.777566909790039,
          1.888187289237976,
          1.5185432434082031,
          2.283460855484009,
          2.4478566646575928,
          1.395575761795044,
          1.6928788423538208,
          0.8940717577934265,
          1.6415725946426392,
          2.3714475631713867,
          1.4126555919647217,
          1.9094291925430298,
          2.056180238723755,
          0.9077117443084717,
          1.4884699583053589,
          1.2580913305282593,
          1.7277088165283203,
          1.8476194143295288,
          2.1160783767700195,
          1.4354724884033203,
          1.6675230264663696,
          3.4652557373046875,
          1.6478503942489624,
          1.0482420921325684,
          1.877196192741394,
          0.6500768661499023,
          1.2425272464752197,
          1.8798751831054688,
          1.3683634996414185,
          2.1298069953918457,
          2.268631935119629,
          1.1470236778259277,
          3.2243640422821045,
          1.194197654724121,
          1.003542184829712,
          1.319044828414917,
          1.398253083229065,
          0.8453379273414612,
          1.446412205696106,
          1.1431046724319458,
          1.8248790502548218,
          2.310023069381714,
          1.1578408479690552,
          2.066553831100464,
          1.9116549491882324,
          1.4467402696609497,
          2.755481243133545,
          3.35811710357666,
          2.7084803581237793,
          1.7157241106033325,
          1.7151294946670532,
          3.6575164794921875,
          1.6307940483093262,
          1.1095434427261353,
          1.6746364831924438,
          1.3998867273330688,
          2.6282687187194824,
          1.436166524887085,
          1.1231236457824707,
          0.8695610761642456,
          1.559723138809204,
          2.750074625015259,
          1.660270094871521,
          1.4409922361373901,
          2.1687850952148438,
          3.1489572525024414,
          1.751262903213501,
          1.410361886024475,
          1.7363030910491943,
          1.8937103748321533,
          2.1047754287719727,
          2.224433183670044,
          2.138371467590332,
          1.485640287399292,
          1.594395637512207,
          1.2040907144546509,
          1.242645502090454,
          1.297290563583374,
          2.0937674045562744,
          0.806757926940918,
          0.7385028600692749,
          1.037477970123291,
          1.5176360607147217,
          1.4581339359283447,
          1.2155288457870483,
          2.15425181388855,
          2.241187810897827,
          1.7920701503753662,
          2.089198350906372,
          1.4122649431228638,
          0.5453321933746338,
          1.3658316135406494,
          1.0511424541473389,
          2.097930431365967,
          2.5307772159576416,
          1.285167932510376,
          1.2195795774459839,
          1.2443013191223145,
          1.2906439304351807,
          1.9341336488723755,
          0.8111616373062134,
          2.809202194213867,
          2.0768818855285645,
          1.4483211040496826,
          1.7951669692993164,
          2.3065812587738037,
          2.237071990966797,
          2.4833343029022217,
          0.8794907927513123,
          1.5678387880325317,
          1.5270230770111084,
          1.280682921409607,
          1.2062369585037231,
          1.9190618991851807,
          1.7277880907058716,
          2.1579840183258057,
          3.2451388835906982,
          2.4015233516693115,
          1.997605323791504,
          1.5129235982894897,
          1.9794608354568481,
          1.5111136436462402,
          1.9808156490325928,
          1.4785587787628174,
          1.8273736238479614,
          1.5103044509887695,
          2.2832272052764893,
          1.6929599046707153,
          1.956544041633606,
          1.6313039064407349,
          1.5886493921279907,
          0.9698553085327148,
          2.852128028869629,
          1.9748483896255493,
          3.107717752456665,
          1.4282903671264648,
          2.60333251953125,
          1.4735846519470215,
          2.4009103775024414,
          0.8745718598365784,
          2.1199302673339844,
          2.0490026473999023,
          1.166358232498169,
          1.9343065023422241,
          1.3777096271514893,
          1.9950225353240967,
          1.2751128673553467,
          1.1223348379135132,
          2.3891794681549072,
          1.431770920753479,
          1.4761556386947632,
          1.844506859779358,
          1.551730990409851,
          0.9722618460655212,
          0.8847836852073669,
          2.50041127204895,
          1.1514885425567627,
          1.5449401140213013,
          1.4701683521270752,
          2.283984661102295,
          1.9378421306610107,
          2.828341484069824,
          0.9885226488113403,
          2.57816743850708,
          2.2961792945861816,
          3.251955270767212,
          0.839851975440979,
          2.2698142528533936,
          3.2243244647979736,
          2.584632635116577,
          0.9849165081977844,
          1.9673689603805542,
          1.1525758504867554,
          1.8404762744903564,
          3.052953004837036,
          2.1545982360839844,
          1.474318027496338,
          1.6459009647369385,
          1.632153868675232,
          1.796689510345459,
          2.2028427124023438,
          1.4108973741531372,
          1.9999281167984009,
          1.4681345224380493,
          2.3443894386291504,
          1.9110335111618042,
          1.3445746898651123,
          2.52852725982666,
          2.140059471130371,
          3.198462724685669,
          2.8878023624420166,
          1.9573458433151245,
          3.0918307304382324,
          1.050467610359192,
          1.3425278663635254,
          0.9360284209251404,
          1.0187023878097534,
          2.549882173538208,
          2.2382755279541016,
          2.2138662338256836,
          0.8303967118263245,
          2.126694440841675,
          2.666653871536255,
          3.7131900787353516,
          2.247527599334717,
          1.6327619552612305,
          3.4361822605133057,
          1.3200771808624268,
          1.2395377159118652,
          1.4394663572311401,
          1.9103119373321533,
          1.2166155576705933,
          1.686574101448059,
          1.2400264739990234,
          2.1422014236450195,
          3.317326068878174,
          2.4442832469940186,
          2.3217272758483887,
          2.022986888885498,
          1.557157039642334,
          2.6203627586364746,
          2.202622175216675,
          1.4523611068725586,
          3.5059478282928467,
          2.0696218013763428,
          2.513622760772705,
          1.7112287282943726,
          1.3576889038085938,
          2.762559175491333,
          1.7138341665267944,
          1.3781754970550537,
          2.4592576026916504,
          1.0352658033370972,
          1.7718164920806885,
          0.9639958143234253,
          2.5800416469573975,
          1.6816047430038452,
          1.1923997402191162,
          1.200555443763733,
          1.3186814785003662,
          1.6827934980392456,
          1.7451552152633667,
          1.358609914779663,
          1.3871996402740479,
          1.9310100078582764,
          1.147554874420166,
          1.732710361480713,
          1.2453490495681763,
          1.6895270347595215,
          1.4596887826919556,
          2.466301918029785,
          4.816704750061035,
          1.325020432472229,
          1.4572536945343018,
          1.3692796230316162,
          1.4974535703659058,
          1.663217544555664,
          2.017915725708008,
          1.938179612159729,
          2.1441240310668945,
          1.7353907823562622,
          1.5104106664657593,
          1.3460232019424438,
          1.299256443977356,
          2.175457000732422,
          2.100504159927368,
          0.8087484836578369,
          0.7326774001121521,
          1.367018461227417,
          2.019130229949951,
          3.73616623878479,
          1.9883235692977905,
          1.4879546165466309,
          2.22826886177063,
          1.1451205015182495,
          1.9839630126953125,
          2.780416965484619,
          2.944486379623413,
          1.477486491203308,
          1.66593337059021,
          3.041578769683838,
          2.860240936279297,
          1.5593621730804443,
          1.1268274784088135,
          3.400646209716797,
          1.630871057510376,
          1.3901300430297852,
          1.2445085048675537,
          2.222252368927002,
          1.395513892173767,
          2.7893669605255127,
          0.8995943069458008,
          1.1167666912078857,
          2.5420708656311035,
          1.4049257040023804,
          1.8976898193359375,
          1.7917225360870361,
          2.581737756729126,
          1.946821928024292,
          2.7849950790405273,
          2.131920576095581,
          2.288705825805664,
          1.6975140571594238,
          1.1497595310211182,
          1.0156461000442505,
          1.4884233474731445,
          1.646247148513794,
          2.870969772338867,
          0.838081419467926,
          1.467764139175415,
          2.158308982849121,
          1.635027289390564,
          0.7047097682952881,
          2.955174446105957,
          2.866713762283325,
          2.2788357734680176,
          1.7643446922302246,
          3.032341957092285,
          3.06996750831604,
          1.46050226688385,
          1.4096722602844238,
          2.230318069458008,
          1.7892717123031616,
          1.4700913429260254,
          2.3388614654541016,
          2.595686912536621,
          1.2369112968444824,
          1.6915082931518555,
          1.314446210861206,
          0.9675201773643494,
          1.9487450122833252,
          1.9056739807128906,
          2.647906541824341,
          3.3784286975860596,
          1.204586386680603,
          2.0231199264526367,
          0.8647106289863586,
          2.307617425918579,
          0.9647330045700073,
          1.199853777885437,
          1.229204535484314,
          1.7158737182617188,
          1.7581969499588013,
          2.36667799949646,
          1.2599108219146729,
          2.3113389015197754,
          1.5994127988815308,
          1.95320725440979,
          1.609633445739746,
          2.215618133544922,
          1.3050967454910278,
          1.157135248184204,
          2.3313820362091064,
          1.6227962970733643,
          1.1350457668304443,
          1.1298015117645264,
          1.815192461013794,
          1.3570163249969482,
          0.8387207388877869,
          2.7618253231048584,
          2.7616140842437744,
          1.3028684854507446,
          1.3747490644454956,
          1.3377954959869385,
          1.6190248727798462,
          1.5398060083389282,
          2.8021771907806396,
          2.235283613204956,
          0.6714738607406616,
          1.394771695137024,
          1.9188096523284912,
          2.332987070083618,
          1.5599665641784668,
          2.1410577297210693,
          1.5529671907424927,
          1.3877111673355103,
          3.3147666454315186,
          1.7649564743041992,
          1.9876866340637207,
          1.6416316032409668,
          1.3564269542694092,
          1.589463472366333,
          1.9485845565795898,
          0.6641381978988647,
          0.8977668881416321,
          1.205365538597107,
          1.2920138835906982,
          1.3925045728683472,
          1.7226327657699585,
          1.9388930797576904,
          2.2369086742401123,
          1.943673849105835,
          2.3423521518707275,
          1.1881945133209229,
          0.9383338093757629,
          1.2139508724212646,
          1.593709111213684,
          1.579615831375122,
          1.7011840343475342,
          1.3173917531967163,
          1.725852131843567,
          2.344451904296875,
          2.2202911376953125,
          1.746792197227478,
          2.1749560832977295,
          1.5763102769851685,
          2.535310745239258,
          1.2279820442199707,
          2.774684429168701,
          2.324326276779175,
          2.4373958110809326,
          2.0074706077575684,
          1.460497260093689,
          1.675774335861206,
          1.7665265798568726,
          2.368936538696289,
          1.014365553855896,
          1.3891222476959229,
          1.8014438152313232,
          2.390753746032715,
          2.2884607315063477,
          1.911800503730774,
          1.8675559759140015,
          2.2511184215545654,
          2.219057559967041,
          2.891453504562378,
          1.5305804014205933,
          1.9248486757278442,
          1.7186816930770874,
          1.5768630504608154,
          2.516594409942627,
          1.775985836982727,
          0.8053445816040039,
          0.8463941812515259,
          1.8387492895126343,
          2.6120734214782715,
          2.570333242416382,
          1.6536766290664673,
          1.401515007019043,
          1.8916279077529907,
          0.91201251745224,
          1.80097234249115,
          1.8750038146972656,
          1.131421446800232,
          1.22095787525177,
          2.8110175132751465,
          2.0875377655029297,
          2.0265116691589355,
          2.2730607986450195,
          2.504702091217041,
          0.8944392204284668,
          1.5293534994125366,
          3.3199172019958496,
          1.3057279586791992,
          1.3678277730941772,
          0.953217625617981,
          1.5718051195144653,
          3.2049155235290527,
          1.1091740131378174,
          3.646024227142334,
          2.217741012573242,
          3.063539505004883,
          2.0131797790527344,
          1.3529869318008423,
          1.6053166389465332,
          1.6843321323394775,
          1.5637149810791016,
          2.0964510440826416,
          2.2237203121185303,
          2.596837043762207,
          1.8896058797836304,
          1.4786860942840576,
          1.565238118171692,
          1.8943259716033936,
          2.4154632091522217,
          2.5475234985351562,
          2.2232682704925537,
          1.7810261249542236,
          1.074512243270874,
          2.044614791870117,
          1.3965554237365723,
          1.9521563053131104,
          2.2878518104553223,
          1.600301742553711,
          2.230738639831543,
          2.2749595642089844,
          1.4911015033721924,
          1.7509937286376953,
          2.019109010696411,
          0.9225143790245056,
          2.853050947189331,
          2.7850165367126465,
          2.258774757385254,
          2.2938363552093506,
          1.7322242259979248,
          1.3981335163116455,
          1.6500191688537598,
          1.8724043369293213,
          1.1590852737426758,
          0.8654932975769043,
          0.932285487651825,
          2.0292434692382812,
          2.465047597885132,
          2.505237340927124,
          2.4037771224975586,
          1.5245870351791382,
          1.609168291091919,
          1.2821674346923828,
          1.2266851663589478,
          3.691375255584717,
          2.0618200302124023,
          2.8267529010772705,
          1.4074912071228027,
          1.3124195337295532,
          1.438025712966919,
          1.2053600549697876,
          1.1702572107315063,
          2.0207934379577637,
          0.9683133363723755,
          2.0850677490234375,
          2.876223087310791,
          1.3289142847061157,
          1.9608092308044434,
          1.7613558769226074,
          1.20536470413208,
          2.4974312782287598,
          2.7026209831237793,
          2.1335530281066895,
          2.5530946254730225,
          2.458902359008789,
          1.1936320066452026,
          1.6117713451385498,
          0.9589688777923584,
          1.1609606742858887,
          1.0553150177001953,
          1.6438273191452026,
          1.387298822402954,
          2.6936354637145996,
          1.568983554840088,
          1.226866602897644,
          2.318690299987793,
          1.803982138633728,
          2.052607774734497,
          2.514378070831299,
          1.2374205589294434,
          2.248175621032715,
          2.720822811126709,
          1.0616319179534912,
          1.9460272789001465,
          2.355379104614258,
          1.0483341217041016,
          2.9358134269714355,
          1.2540878057479858,
          0.9327053427696228,
          3.455157995223999,
          0.805106520652771,
          1.5501456260681152,
          1.2127234935760498,
          2.1741256713867188,
          1.210744857788086,
          1.5670090913772583,
          1.3494166135787964,
          1.7119938135147095,
          2.3954083919525146,
          1.249151349067688,
          1.7919639348983765,
          2.239955186843872,
          3.182582378387451,
          1.350691795349121,
          1.4129760265350342,
          1.02067232131958,
          1.2231694459915161,
          0.9302258491516113,
          0.9841141700744629,
          2.6920528411865234,
          1.5367308855056763,
          0.7828369140625,
          2.4923129081726074,
          0.9474917650222778,
          2.4667813777923584,
          1.6559104919433594,
          1.0190317630767822,
          2.199160099029541,
          1.3417836427688599,
          0.990128755569458,
          1.929142951965332,
          1.3133385181427002,
          1.8307174444198608,
          1.8569244146347046,
          1.4754674434661865,
          1.9273645877838135,
          0.9508949518203735,
          1.5855350494384766,
          0.9669734239578247,
          2.192535400390625,
          2.637970209121704,
          1.8816221952438354,
          2.502969264984131,
          1.1200591325759888,
          1.818490982055664,
          1.1618402004241943,
          3.0375823974609375,
          1.6982009410858154,
          3.3847999572753906,
          2.2465224266052246,
          2.0192112922668457,
          2.611159563064575,
          1.1225450038909912,
          1.2815741300582886,
          1.7242075204849243,
          1.7897924184799194,
          2.220076084136963,
          1.6619441509246826,
          2.966636896133423,
          1.8142986297607422,
          1.2039787769317627,
          1.6442946195602417,
          2.022015333175659,
          1.3517436981201172,
          1.2103338241577148,
          1.2557159662246704,
          0.825308620929718,
          1.6586607694625854,
          1.5697613954544067,
          1.6408900022506714,
          1.62404465675354,
          1.2699599266052246,
          1.7041157484054565,
          3.2675983905792236,
          3.8221983909606934,
          2.4422128200531006,
          3.0148894786834717,
          3.655565023422241,
          3.007847785949707,
          1.9657821655273438,
          2.5360677242279053,
          0.8404313325881958,
          2.160407543182373,
          1.5141850709915161,
          1.4869005680084229,
          1.612329363822937,
          2.1183481216430664,
          1.8009401559829712,
          2.1073174476623535,
          2.0430424213409424,
          1.6147441864013672,
          1.3904783725738525,
          0.7225010395050049,
          2.133835792541504,
          2.3431055545806885,
          1.5095645189285278,
          3.270095109939575,
          1.4443119764328003,
          2.4747188091278076,
          0.9165149331092834,
          1.3997445106506348,
          3.0530388355255127,
          1.7497303485870361,
          1.6473057270050049,
          1.0890477895736694,
          2.299605369567871,
          2.0513532161712646,
          1.8130067586898804,
          2.4871838092803955,
          0.885633647441864,
          2.0778090953826904,
          2.669161081314087,
          0.9678328037261963,
          1.7578526735305786,
          1.6912357807159424,
          1.0361032485961914,
          1.685555338859558,
          2.251767158508301,
          1.4390696287155151,
          1.5077548027038574,
          1.241363763809204,
          0.9591488838195801,
          1.5312508344650269,
          1.270430088043213,
          2.0632376670837402,
          1.9360123872756958,
          1.8144060373306274,
          2.5353546142578125,
          1.5755552053451538,
          3.1378626823425293,
          1.2062568664550781,
          1.179059624671936,
          1.8633100986480713,
          2.3619518280029297,
          2.759998083114624,
          1.3293482065200806,
          1.36298406124115,
          1.2702293395996094,
          1.262417197227478,
          2.732879400253296,
          1.985137939453125,
          1.6560333967208862,
          2.080716133117676,
          1.0644950866699219,
          1.6067085266113281,
          1.1349267959594727,
          3.08642840385437,
          2.0503289699554443,
          1.753638505935669,
          1.1179684400558472,
          1.2785370349884033,
          0.9446811676025391,
          0.8841390609741211,
          1.7486882209777832,
          2.7829856872558594,
          2.4120004177093506,
          1.8829971551895142,
          3.4039218425750732,
          1.8539172410964966,
          0.8387227058410645,
          3.0814261436462402,
          1.6638318300247192,
          2.0099310874938965,
          3.331080436706543,
          2.7976927757263184,
          0.9354993104934692,
          1.0970585346221924,
          1.1355899572372437,
          1.036898136138916,
          1.889575719833374,
          2.102565288543701,
          0.723000168800354,
          0.9433332681655884,
          1.5976405143737793,
          1.2397570610046387,
          1.0862400531768799,
          1.654022455215454,
          1.9084875583648682,
          1.6074498891830444,
          1.6420788764953613,
          1.3845629692077637,
          2.112722396850586,
          1.0075997114181519,
          2.499236822128296,
          2.106189727783203,
          1.6386138200759888,
          2.33986759185791,
          1.5530940294265747,
          2.0048751831054688,
          1.606229543685913,
          1.9088964462280273,
          0.8980154991149902,
          1.836320161819458,
          2.4708330631256104,
          2.183920383453369,
          1.3074570894241333,
          2.26281476020813,
          0.8040047883987427,
          1.043091058731079,
          1.6979714632034302,
          1.272110939025879,
          1.0816794633865356,
          1.4553604125976562,
          1.4595073461532593,
          1.6030120849609375,
          1.7875092029571533,
          1.3341068029403687,
          1.3300251960754395,
          0.66822749376297,
          1.4309484958648682,
          1.6147770881652832,
          1.9948129653930664,
          1.2364811897277832,
          2.0028867721557617,
          1.0608835220336914,
          1.303715467453003,
          1.543491005897522,
          1.4776227474212646,
          1.8302701711654663,
          1.9715943336486816,
          2.153301954269409,
          1.8186073303222656,
          2.1326940059661865,
          2.315870761871338,
          2.1291093826293945,
          1.3723552227020264,
          1.786340355873108,
          2.441033363342285,
          1.2488545179367065,
          1.637717366218567,
          1.2639141082763672,
          2.1071205139160156,
          2.5146372318267822,
          1.8547085523605347,
          2.9344751834869385,
          1.4127013683319092,
          1.7394516468048096,
          1.753135323524475,
          1.2122193574905396,
          1.6915870904922485,
          1.3330813646316528,
          1.8227424621582031,
          2.4420716762542725,
          1.4548068046569824,
          2.0327844619750977,
          1.5894269943237305,
          2.3025081157684326,
          1.1419166326522827,
          1.4365702867507935,
          1.5524616241455078,
          1.3263484239578247,
          1.078454852104187,
          0.6942750215530396,
          1.308050274848938,
          1.798372507095337,
          3.3314998149871826,
          1.2066360712051392,
          0.7244129776954651,
          1.3450133800506592,
          1.8698420524597168,
          2.4712469577789307,
          1.9807310104370117,
          0.8646965026855469,
          1.6543687582015991,
          1.135267734527588,
          1.9369221925735474,
          1.0934425592422485,
          1.9205683469772339,
          0.9031339287757874,
          2.040825366973877,
          1.6372190713882446
         ]
        }
       ],
       "layout": {
        "template": {
         "data": {
          "bar": [
           {
            "error_x": {
             "color": "#2a3f5f"
            },
            "error_y": {
             "color": "#2a3f5f"
            },
            "marker": {
             "line": {
              "color": "#E5ECF6",
              "width": 0.5
             },
             "pattern": {
              "fillmode": "overlay",
              "size": 10,
              "solidity": 0.2
             }
            },
            "type": "bar"
           }
          ],
          "barpolar": [
           {
            "marker": {
             "line": {
              "color": "#E5ECF6",
              "width": 0.5
             },
             "pattern": {
              "fillmode": "overlay",
              "size": 10,
              "solidity": 0.2
             }
            },
            "type": "barpolar"
           }
          ],
          "carpet": [
           {
            "aaxis": {
             "endlinecolor": "#2a3f5f",
             "gridcolor": "white",
             "linecolor": "white",
             "minorgridcolor": "white",
             "startlinecolor": "#2a3f5f"
            },
            "baxis": {
             "endlinecolor": "#2a3f5f",
             "gridcolor": "white",
             "linecolor": "white",
             "minorgridcolor": "white",
             "startlinecolor": "#2a3f5f"
            },
            "type": "carpet"
           }
          ],
          "choropleth": [
           {
            "colorbar": {
             "outlinewidth": 0,
             "ticks": ""
            },
            "type": "choropleth"
           }
          ],
          "contour": [
           {
            "colorbar": {
             "outlinewidth": 0,
             "ticks": ""
            },
            "colorscale": [
             [
              0,
              "#0d0887"
             ],
             [
              0.1111111111111111,
              "#46039f"
             ],
             [
              0.2222222222222222,
              "#7201a8"
             ],
             [
              0.3333333333333333,
              "#9c179e"
             ],
             [
              0.4444444444444444,
              "#bd3786"
             ],
             [
              0.5555555555555556,
              "#d8576b"
             ],
             [
              0.6666666666666666,
              "#ed7953"
             ],
             [
              0.7777777777777778,
              "#fb9f3a"
             ],
             [
              0.8888888888888888,
              "#fdca26"
             ],
             [
              1,
              "#f0f921"
             ]
            ],
            "type": "contour"
           }
          ],
          "contourcarpet": [
           {
            "colorbar": {
             "outlinewidth": 0,
             "ticks": ""
            },
            "type": "contourcarpet"
           }
          ],
          "heatmap": [
           {
            "colorbar": {
             "outlinewidth": 0,
             "ticks": ""
            },
            "colorscale": [
             [
              0,
              "#0d0887"
             ],
             [
              0.1111111111111111,
              "#46039f"
             ],
             [
              0.2222222222222222,
              "#7201a8"
             ],
             [
              0.3333333333333333,
              "#9c179e"
             ],
             [
              0.4444444444444444,
              "#bd3786"
             ],
             [
              0.5555555555555556,
              "#d8576b"
             ],
             [
              0.6666666666666666,
              "#ed7953"
             ],
             [
              0.7777777777777778,
              "#fb9f3a"
             ],
             [
              0.8888888888888888,
              "#fdca26"
             ],
             [
              1,
              "#f0f921"
             ]
            ],
            "type": "heatmap"
           }
          ],
          "heatmapgl": [
           {
            "colorbar": {
             "outlinewidth": 0,
             "ticks": ""
            },
            "colorscale": [
             [
              0,
              "#0d0887"
             ],
             [
              0.1111111111111111,
              "#46039f"
             ],
             [
              0.2222222222222222,
              "#7201a8"
             ],
             [
              0.3333333333333333,
              "#9c179e"
             ],
             [
              0.4444444444444444,
              "#bd3786"
             ],
             [
              0.5555555555555556,
              "#d8576b"
             ],
             [
              0.6666666666666666,
              "#ed7953"
             ],
             [
              0.7777777777777778,
              "#fb9f3a"
             ],
             [
              0.8888888888888888,
              "#fdca26"
             ],
             [
              1,
              "#f0f921"
             ]
            ],
            "type": "heatmapgl"
           }
          ],
          "histogram": [
           {
            "marker": {
             "pattern": {
              "fillmode": "overlay",
              "size": 10,
              "solidity": 0.2
             }
            },
            "type": "histogram"
           }
          ],
          "histogram2d": [
           {
            "colorbar": {
             "outlinewidth": 0,
             "ticks": ""
            },
            "colorscale": [
             [
              0,
              "#0d0887"
             ],
             [
              0.1111111111111111,
              "#46039f"
             ],
             [
              0.2222222222222222,
              "#7201a8"
             ],
             [
              0.3333333333333333,
              "#9c179e"
             ],
             [
              0.4444444444444444,
              "#bd3786"
             ],
             [
              0.5555555555555556,
              "#d8576b"
             ],
             [
              0.6666666666666666,
              "#ed7953"
             ],
             [
              0.7777777777777778,
              "#fb9f3a"
             ],
             [
              0.8888888888888888,
              "#fdca26"
             ],
             [
              1,
              "#f0f921"
             ]
            ],
            "type": "histogram2d"
           }
          ],
          "histogram2dcontour": [
           {
            "colorbar": {
             "outlinewidth": 0,
             "ticks": ""
            },
            "colorscale": [
             [
              0,
              "#0d0887"
             ],
             [
              0.1111111111111111,
              "#46039f"
             ],
             [
              0.2222222222222222,
              "#7201a8"
             ],
             [
              0.3333333333333333,
              "#9c179e"
             ],
             [
              0.4444444444444444,
              "#bd3786"
             ],
             [
              0.5555555555555556,
              "#d8576b"
             ],
             [
              0.6666666666666666,
              "#ed7953"
             ],
             [
              0.7777777777777778,
              "#fb9f3a"
             ],
             [
              0.8888888888888888,
              "#fdca26"
             ],
             [
              1,
              "#f0f921"
             ]
            ],
            "type": "histogram2dcontour"
           }
          ],
          "mesh3d": [
           {
            "colorbar": {
             "outlinewidth": 0,
             "ticks": ""
            },
            "type": "mesh3d"
           }
          ],
          "parcoords": [
           {
            "line": {
             "colorbar": {
              "outlinewidth": 0,
              "ticks": ""
             }
            },
            "type": "parcoords"
           }
          ],
          "pie": [
           {
            "automargin": true,
            "type": "pie"
           }
          ],
          "scatter": [
           {
            "fillpattern": {
             "fillmode": "overlay",
             "size": 10,
             "solidity": 0.2
            },
            "type": "scatter"
           }
          ],
          "scatter3d": [
           {
            "line": {
             "colorbar": {
              "outlinewidth": 0,
              "ticks": ""
             }
            },
            "marker": {
             "colorbar": {
              "outlinewidth": 0,
              "ticks": ""
             }
            },
            "type": "scatter3d"
           }
          ],
          "scattercarpet": [
           {
            "marker": {
             "colorbar": {
              "outlinewidth": 0,
              "ticks": ""
             }
            },
            "type": "scattercarpet"
           }
          ],
          "scattergeo": [
           {
            "marker": {
             "colorbar": {
              "outlinewidth": 0,
              "ticks": ""
             }
            },
            "type": "scattergeo"
           }
          ],
          "scattergl": [
           {
            "marker": {
             "colorbar": {
              "outlinewidth": 0,
              "ticks": ""
             }
            },
            "type": "scattergl"
           }
          ],
          "scattermapbox": [
           {
            "marker": {
             "colorbar": {
              "outlinewidth": 0,
              "ticks": ""
             }
            },
            "type": "scattermapbox"
           }
          ],
          "scatterpolar": [
           {
            "marker": {
             "colorbar": {
              "outlinewidth": 0,
              "ticks": ""
             }
            },
            "type": "scatterpolar"
           }
          ],
          "scatterpolargl": [
           {
            "marker": {
             "colorbar": {
              "outlinewidth": 0,
              "ticks": ""
             }
            },
            "type": "scatterpolargl"
           }
          ],
          "scatterternary": [
           {
            "marker": {
             "colorbar": {
              "outlinewidth": 0,
              "ticks": ""
             }
            },
            "type": "scatterternary"
           }
          ],
          "surface": [
           {
            "colorbar": {
             "outlinewidth": 0,
             "ticks": ""
            },
            "colorscale": [
             [
              0,
              "#0d0887"
             ],
             [
              0.1111111111111111,
              "#46039f"
             ],
             [
              0.2222222222222222,
              "#7201a8"
             ],
             [
              0.3333333333333333,
              "#9c179e"
             ],
             [
              0.4444444444444444,
              "#bd3786"
             ],
             [
              0.5555555555555556,
              "#d8576b"
             ],
             [
              0.6666666666666666,
              "#ed7953"
             ],
             [
              0.7777777777777778,
              "#fb9f3a"
             ],
             [
              0.8888888888888888,
              "#fdca26"
             ],
             [
              1,
              "#f0f921"
             ]
            ],
            "type": "surface"
           }
          ],
          "table": [
           {
            "cells": {
             "fill": {
              "color": "#EBF0F8"
             },
             "line": {
              "color": "white"
             }
            },
            "header": {
             "fill": {
              "color": "#C8D4E3"
             },
             "line": {
              "color": "white"
             }
            },
            "type": "table"
           }
          ]
         },
         "layout": {
          "annotationdefaults": {
           "arrowcolor": "#2a3f5f",
           "arrowhead": 0,
           "arrowwidth": 1
          },
          "autotypenumbers": "strict",
          "coloraxis": {
           "colorbar": {
            "outlinewidth": 0,
            "ticks": ""
           }
          },
          "colorscale": {
           "diverging": [
            [
             0,
             "#8e0152"
            ],
            [
             0.1,
             "#c51b7d"
            ],
            [
             0.2,
             "#de77ae"
            ],
            [
             0.3,
             "#f1b6da"
            ],
            [
             0.4,
             "#fde0ef"
            ],
            [
             0.5,
             "#f7f7f7"
            ],
            [
             0.6,
             "#e6f5d0"
            ],
            [
             0.7,
             "#b8e186"
            ],
            [
             0.8,
             "#7fbc41"
            ],
            [
             0.9,
             "#4d9221"
            ],
            [
             1,
             "#276419"
            ]
           ],
           "sequential": [
            [
             0,
             "#0d0887"
            ],
            [
             0.1111111111111111,
             "#46039f"
            ],
            [
             0.2222222222222222,
             "#7201a8"
            ],
            [
             0.3333333333333333,
             "#9c179e"
            ],
            [
             0.4444444444444444,
             "#bd3786"
            ],
            [
             0.5555555555555556,
             "#d8576b"
            ],
            [
             0.6666666666666666,
             "#ed7953"
            ],
            [
             0.7777777777777778,
             "#fb9f3a"
            ],
            [
             0.8888888888888888,
             "#fdca26"
            ],
            [
             1,
             "#f0f921"
            ]
           ],
           "sequentialminus": [
            [
             0,
             "#0d0887"
            ],
            [
             0.1111111111111111,
             "#46039f"
            ],
            [
             0.2222222222222222,
             "#7201a8"
            ],
            [
             0.3333333333333333,
             "#9c179e"
            ],
            [
             0.4444444444444444,
             "#bd3786"
            ],
            [
             0.5555555555555556,
             "#d8576b"
            ],
            [
             0.6666666666666666,
             "#ed7953"
            ],
            [
             0.7777777777777778,
             "#fb9f3a"
            ],
            [
             0.8888888888888888,
             "#fdca26"
            ],
            [
             1,
             "#f0f921"
            ]
           ]
          },
          "colorway": [
           "#636efa",
           "#EF553B",
           "#00cc96",
           "#ab63fa",
           "#FFA15A",
           "#19d3f3",
           "#FF6692",
           "#B6E880",
           "#FF97FF",
           "#FECB52"
          ],
          "font": {
           "color": "#2a3f5f"
          },
          "geo": {
           "bgcolor": "white",
           "lakecolor": "white",
           "landcolor": "#E5ECF6",
           "showlakes": true,
           "showland": true,
           "subunitcolor": "white"
          },
          "hoverlabel": {
           "align": "left"
          },
          "hovermode": "closest",
          "mapbox": {
           "style": "light"
          },
          "paper_bgcolor": "white",
          "plot_bgcolor": "#E5ECF6",
          "polar": {
           "angularaxis": {
            "gridcolor": "white",
            "linecolor": "white",
            "ticks": ""
           },
           "bgcolor": "#E5ECF6",
           "radialaxis": {
            "gridcolor": "white",
            "linecolor": "white",
            "ticks": ""
           }
          },
          "scene": {
           "xaxis": {
            "backgroundcolor": "#E5ECF6",
            "gridcolor": "white",
            "gridwidth": 2,
            "linecolor": "white",
            "showbackground": true,
            "ticks": "",
            "zerolinecolor": "white"
           },
           "yaxis": {
            "backgroundcolor": "#E5ECF6",
            "gridcolor": "white",
            "gridwidth": 2,
            "linecolor": "white",
            "showbackground": true,
            "ticks": "",
            "zerolinecolor": "white"
           },
           "zaxis": {
            "backgroundcolor": "#E5ECF6",
            "gridcolor": "white",
            "gridwidth": 2,
            "linecolor": "white",
            "showbackground": true,
            "ticks": "",
            "zerolinecolor": "white"
           }
          },
          "shapedefaults": {
           "line": {
            "color": "#2a3f5f"
           }
          },
          "ternary": {
           "aaxis": {
            "gridcolor": "white",
            "linecolor": "white",
            "ticks": ""
           },
           "baxis": {
            "gridcolor": "white",
            "linecolor": "white",
            "ticks": ""
           },
           "bgcolor": "#E5ECF6",
           "caxis": {
            "gridcolor": "white",
            "linecolor": "white",
            "ticks": ""
           }
          },
          "title": {
           "x": 0.05
          },
          "xaxis": {
           "automargin": true,
           "gridcolor": "white",
           "linecolor": "white",
           "ticks": "",
           "title": {
            "standoff": 15
           },
           "zerolinecolor": "white",
           "zerolinewidth": 2
          },
          "yaxis": {
           "automargin": true,
           "gridcolor": "white",
           "linecolor": "white",
           "ticks": "",
           "title": {
            "standoff": 15
           },
           "zerolinecolor": "white",
           "zerolinewidth": 2
          }
         }
        },
        "title": {
         "text": "losses during training"
        },
        "xaxis": {
         "title": {
          "text": "epoch"
         }
        },
        "yaxis": {
         "title": {
          "text": "loss"
         }
        }
       }
      }
     },
     "metadata": {},
     "output_type": "display_data"
    }
   ],
   "source": [
    "# Visualize learning (training loss)\n",
    "import plotly.graph_objects as go\n",
    "from plotly.offline import iplot\n",
    "\n",
    "\n",
    "losses_float = [float(loss.cpu().detach().numpy()) for loss in losses] \n",
    "loss_indices = [i for i,l in enumerate(losses_float)] \n",
    "\n",
    "trace = go.Scatter(x = loss_indices, y = losses_float, mode = \"lines\")\n",
    "\n",
    "layout = go.Layout(title = \"losses during training\", xaxis=dict(title = \"epoch\"),\n",
    "                   yaxis = dict(title = \"loss\"))\n",
    "\n",
    "figure = go.Figure(data = [trace], layout=layout)\n",
    "\n",
    "iplot(figure)"
   ]
  },
  {
   "cell_type": "code",
   "execution_count": 42,
   "metadata": {},
   "outputs": [],
   "source": [
    "import pandas as pd \n",
    "\n",
    "# Analyze the results for one batch\n",
    "y_real = []\n",
    "y_pred = []\n",
    "with torch.no_grad():\n",
    "    model.eval()\n",
    "    for batch in test_loader:\n",
    "        pred = model(batch)\n",
    "        y_real.append(batch.y.tolist())\n",
    "        y_pred.append(pred.tolist())\n",
    "\n",
    "    y_pred = torch.reshape(torch.tensor(y_pred), (-1,1))\n",
    "    y_real = torch.reshape(torch.tensor(y_real), (-1,1))\n",
    "\n",
    "    y_pred = torch.squeeze(y_pred)\n",
    "    y_real = torch.squeeze(y_real)\n"
   ]
  },
  {
   "cell_type": "code",
   "execution_count": 43,
   "metadata": {},
   "outputs": [
    {
     "data": {
      "application/vnd.plotly.v1+json": {
       "config": {
        "linkText": "Export to plot.ly",
        "plotlyServerURL": "https://plot.ly",
        "showLink": false
       },
       "data": [
        {
         "mode": "markers",
         "type": "scatter",
         "x": [
          -1.2400000095367432,
          -0.46000000834465027,
          -3.640000104904175,
          -0.10000000149011612,
          -1.5,
          -0.25,
          0.009999999776482582,
          -4.090000152587891,
          -4.519999980926514,
          -6.25,
          -3.200000047683716,
          -5.059999942779541,
          -4.739999771118164,
          -11.529999732971191,
          -2.359999895095825,
          -3.450000047683716,
          -2.1600000858306885,
          -5.329999923706055,
          -4.389999866485596,
          -3.130000114440918,
          -2.0899999141693115,
          -7.170000076293945,
          -17.739999771118164,
          2.509999990463257,
          -3.5799999237060547,
          -3.2799999713897705,
          1.2000000476837158,
          0.1599999964237213,
          1.9199999570846558,
          -3.509999990463257,
          -0.5299999713897705,
          -5.730000019073486,
          -13.430000305175781,
          -3.049999952316284,
          -1.2000000476837158,
          -5.730000019073486,
          -6.550000190734863,
          -0.10000000149011612,
          -4.550000190734863,
          0.27000001072883606,
          -4.309999942779541,
          -1.4299999475479126,
          -6.789999961853027,
          -0.6299999952316284,
          2.380000114440918,
          -4.570000171661377,
          -6.230000019073486,
          0,
          -2.319999933242798,
          0.28999999165534973,
          -4.420000076293945,
          -9.819999694824219,
          -5.289999961853027,
          -2.0199999809265137,
          -2.490000009536743,
          3.430000066757202,
          -4.400000095367432,
          -4.579999923706055,
          -11,
          -4.159999847412109,
          -8.149999618530273,
          -2.509999990463257,
          -5.480000019073486,
          -4.230000019073486,
          -5.03000020980835,
          -6.130000114440918,
          2.130000114440918,
          -10.210000038146973,
          1.6799999475479126,
          -5.940000057220459,
          -1.2400000095367432,
          -1.159999966621399,
          -1.4600000381469727,
          -1.1699999570846558,
          -6.71999979019165,
          -1.6200000047683716,
          -0.7799999713897705,
          -6.010000228881836,
          0.7099999785423279,
          -7.480000019073486,
          -7,
          -8.829999923706055,
          -4.510000228881836,
          -3.950000047683716,
          -4.590000152587891,
          -4.090000152587891,
          -10.270000457763672,
          -4.96999979019165,
          -6.619999885559082,
          -2.7799999713897705,
          -2.640000104904175,
          -4.579999923706055,
          0.5600000023841858,
          -4.550000190734863,
          -4.820000171661377,
          -3.2799999713897705,
          -6.480000019073486,
          -2.0399999618530273,
          -0.8999999761581421,
          -2.3299999237060547,
          -2.2100000381469727,
          2.890000104904175,
          -4.199999809265137,
          -6.5,
          -11.140000343322754,
          1.659999966621399,
          -4.800000190734863,
          -2.440000057220459,
          -9.369999885559082,
          -4.389999866485596,
          -7.46999979019165,
          -5.820000171661377,
          -0.4399999976158142,
          2.930000066757202,
          -4.849999904632568,
          -0.1899999976158142,
          -2.930000066757202,
          -6.679999828338623,
          -5.989999771118164,
          -7.5,
          -2.809999942779541,
          2.9700000286102295,
          -4.840000152587891,
          -7.78000020980835,
          -9.40999984741211,
          -3.430000066757202,
          -9.609999656677246,
          -6.619999885559082
         ],
         "y": [
          -0.7972112894058228,
          -3.2782111167907715,
          -3.5932974815368652,
          0.6244670152664185,
          -1.0474611520767212,
          0.39143431186676025,
          0.871681809425354,
          -3.3715319633483887,
          -3.9781527519226074,
          -3.482889175415039,
          -7.613762378692627,
          -6.793854236602783,
          -5.666381359100342,
          -8.57407283782959,
          -3.5118184089660645,
          -3.5051136016845703,
          -3.3933911323547363,
          -6.188143730163574,
          -7.010241985321045,
          -2.83297061920166,
          -1.9687093496322632,
          -6.048241138458252,
          -12.246312141418457,
          2.3042640686035156,
          -4.115725994110107,
          -3.0002098083496094,
          0.41464483737945557,
          -0.1656099557876587,
          1.5709537267684937,
          -2.7948451042175293,
          -0.20561301708221436,
          -8.914079666137695,
          -9.774786949157715,
          -3.1444311141967773,
          -1.233491063117981,
          -7.352217197418213,
          -5.400631427764893,
          0.7004343271255493,
          -5.656422138214111,
          -0.20894873142242432,
          -1.8654704093933105,
          -1.0406616926193237,
          -6.5282511711120605,
          -0.43609631061553955,
          2.8554301261901855,
          -3.294431686401367,
          -5.9523701667785645,
          0.3909677267074585,
          -0.3172072172164917,
          0.08150136470794678,
          -3.2164506912231445,
          -6.721828937530518,
          -7.642111301422119,
          -3.8754806518554688,
          -2.760674476623535,
          -1.8774206638336182,
          -5.353488445281982,
          -8.589207649230957,
          -6.528201580047607,
          -7.135412216186523,
          -10.301236152648926,
          -3.1565918922424316,
          -4.555214881896973,
          -4.57808780670166,
          -6.980508327484131,
          -6.769114017486572,
          1.4693702459335327,
          -8.963273048400879,
          2.680459499359131,
          -7.975686550140381,
          -1.1481865644454956,
          -1.0381640195846558,
          -2.349830150604248,
          -2.3343939781188965,
          -6.546063423156738,
          -2.62697696685791,
          -2.34224271774292,
          -6.80155611038208,
          0.35954058170318604,
          -6.3298163414001465,
          -8.69813346862793,
          -8.569131851196289,
          -3.9864373207092285,
          -3.6809983253479004,
          -4.640516757965088,
          -3.7569398880004883,
          -6.130302429199219,
          -6.796931266784668,
          -6.487407684326172,
          -5.1176276206970215,
          -4.340994834899902,
          -5.346129894256592,
          0.07969605922698975,
          -8.311388969421387,
          -3.812765121459961,
          -3.4491991996765137,
          -6.379110813140869,
          -3.3796072006225586,
          -1.1841894388198853,
          -4.122733116149902,
          -3.0717415809631348,
          2.148639678955078,
          -6.081910610198975,
          -7.3591508865356445,
          -11.00218677520752,
          1.8804200887680054,
          -5.042038440704346,
          -2.265249252319336,
          -8.072420120239258,
          -3.574765205383301,
          -6.0445332527160645,
          -3.3654823303222656,
          0.465739369392395,
          1.1390794515609741,
          -3.815687656402588,
          -1.1519685983657837,
          -3.489452362060547,
          -4.871599197387695,
          -5.9455246925354,
          -5.715897083282471,
          -2.0616860389709473,
          2.3301920890808105,
          -5.330867290496826,
          -5.221423149108887,
          -9.195072174072266,
          -3.6296606063842773,
          -6.060519695281982,
          -5.8031439781188965
         ]
        },
        {
         "marker": {
          "color": "blue"
         },
         "mode": "lines",
         "name": "Perfect Prediction",
         "type": "scatter",
         "x": [
          -17.739999771118164,
          3.430000066757202
         ],
         "y": [
          -17.739999771118164,
          3.430000066757202
         ]
        }
       ],
       "layout": {
        "template": {
         "data": {
          "bar": [
           {
            "error_x": {
             "color": "#2a3f5f"
            },
            "error_y": {
             "color": "#2a3f5f"
            },
            "marker": {
             "line": {
              "color": "#E5ECF6",
              "width": 0.5
             },
             "pattern": {
              "fillmode": "overlay",
              "size": 10,
              "solidity": 0.2
             }
            },
            "type": "bar"
           }
          ],
          "barpolar": [
           {
            "marker": {
             "line": {
              "color": "#E5ECF6",
              "width": 0.5
             },
             "pattern": {
              "fillmode": "overlay",
              "size": 10,
              "solidity": 0.2
             }
            },
            "type": "barpolar"
           }
          ],
          "carpet": [
           {
            "aaxis": {
             "endlinecolor": "#2a3f5f",
             "gridcolor": "white",
             "linecolor": "white",
             "minorgridcolor": "white",
             "startlinecolor": "#2a3f5f"
            },
            "baxis": {
             "endlinecolor": "#2a3f5f",
             "gridcolor": "white",
             "linecolor": "white",
             "minorgridcolor": "white",
             "startlinecolor": "#2a3f5f"
            },
            "type": "carpet"
           }
          ],
          "choropleth": [
           {
            "colorbar": {
             "outlinewidth": 0,
             "ticks": ""
            },
            "type": "choropleth"
           }
          ],
          "contour": [
           {
            "colorbar": {
             "outlinewidth": 0,
             "ticks": ""
            },
            "colorscale": [
             [
              0,
              "#0d0887"
             ],
             [
              0.1111111111111111,
              "#46039f"
             ],
             [
              0.2222222222222222,
              "#7201a8"
             ],
             [
              0.3333333333333333,
              "#9c179e"
             ],
             [
              0.4444444444444444,
              "#bd3786"
             ],
             [
              0.5555555555555556,
              "#d8576b"
             ],
             [
              0.6666666666666666,
              "#ed7953"
             ],
             [
              0.7777777777777778,
              "#fb9f3a"
             ],
             [
              0.8888888888888888,
              "#fdca26"
             ],
             [
              1,
              "#f0f921"
             ]
            ],
            "type": "contour"
           }
          ],
          "contourcarpet": [
           {
            "colorbar": {
             "outlinewidth": 0,
             "ticks": ""
            },
            "type": "contourcarpet"
           }
          ],
          "heatmap": [
           {
            "colorbar": {
             "outlinewidth": 0,
             "ticks": ""
            },
            "colorscale": [
             [
              0,
              "#0d0887"
             ],
             [
              0.1111111111111111,
              "#46039f"
             ],
             [
              0.2222222222222222,
              "#7201a8"
             ],
             [
              0.3333333333333333,
              "#9c179e"
             ],
             [
              0.4444444444444444,
              "#bd3786"
             ],
             [
              0.5555555555555556,
              "#d8576b"
             ],
             [
              0.6666666666666666,
              "#ed7953"
             ],
             [
              0.7777777777777778,
              "#fb9f3a"
             ],
             [
              0.8888888888888888,
              "#fdca26"
             ],
             [
              1,
              "#f0f921"
             ]
            ],
            "type": "heatmap"
           }
          ],
          "heatmapgl": [
           {
            "colorbar": {
             "outlinewidth": 0,
             "ticks": ""
            },
            "colorscale": [
             [
              0,
              "#0d0887"
             ],
             [
              0.1111111111111111,
              "#46039f"
             ],
             [
              0.2222222222222222,
              "#7201a8"
             ],
             [
              0.3333333333333333,
              "#9c179e"
             ],
             [
              0.4444444444444444,
              "#bd3786"
             ],
             [
              0.5555555555555556,
              "#d8576b"
             ],
             [
              0.6666666666666666,
              "#ed7953"
             ],
             [
              0.7777777777777778,
              "#fb9f3a"
             ],
             [
              0.8888888888888888,
              "#fdca26"
             ],
             [
              1,
              "#f0f921"
             ]
            ],
            "type": "heatmapgl"
           }
          ],
          "histogram": [
           {
            "marker": {
             "pattern": {
              "fillmode": "overlay",
              "size": 10,
              "solidity": 0.2
             }
            },
            "type": "histogram"
           }
          ],
          "histogram2d": [
           {
            "colorbar": {
             "outlinewidth": 0,
             "ticks": ""
            },
            "colorscale": [
             [
              0,
              "#0d0887"
             ],
             [
              0.1111111111111111,
              "#46039f"
             ],
             [
              0.2222222222222222,
              "#7201a8"
             ],
             [
              0.3333333333333333,
              "#9c179e"
             ],
             [
              0.4444444444444444,
              "#bd3786"
             ],
             [
              0.5555555555555556,
              "#d8576b"
             ],
             [
              0.6666666666666666,
              "#ed7953"
             ],
             [
              0.7777777777777778,
              "#fb9f3a"
             ],
             [
              0.8888888888888888,
              "#fdca26"
             ],
             [
              1,
              "#f0f921"
             ]
            ],
            "type": "histogram2d"
           }
          ],
          "histogram2dcontour": [
           {
            "colorbar": {
             "outlinewidth": 0,
             "ticks": ""
            },
            "colorscale": [
             [
              0,
              "#0d0887"
             ],
             [
              0.1111111111111111,
              "#46039f"
             ],
             [
              0.2222222222222222,
              "#7201a8"
             ],
             [
              0.3333333333333333,
              "#9c179e"
             ],
             [
              0.4444444444444444,
              "#bd3786"
             ],
             [
              0.5555555555555556,
              "#d8576b"
             ],
             [
              0.6666666666666666,
              "#ed7953"
             ],
             [
              0.7777777777777778,
              "#fb9f3a"
             ],
             [
              0.8888888888888888,
              "#fdca26"
             ],
             [
              1,
              "#f0f921"
             ]
            ],
            "type": "histogram2dcontour"
           }
          ],
          "mesh3d": [
           {
            "colorbar": {
             "outlinewidth": 0,
             "ticks": ""
            },
            "type": "mesh3d"
           }
          ],
          "parcoords": [
           {
            "line": {
             "colorbar": {
              "outlinewidth": 0,
              "ticks": ""
             }
            },
            "type": "parcoords"
           }
          ],
          "pie": [
           {
            "automargin": true,
            "type": "pie"
           }
          ],
          "scatter": [
           {
            "fillpattern": {
             "fillmode": "overlay",
             "size": 10,
             "solidity": 0.2
            },
            "type": "scatter"
           }
          ],
          "scatter3d": [
           {
            "line": {
             "colorbar": {
              "outlinewidth": 0,
              "ticks": ""
             }
            },
            "marker": {
             "colorbar": {
              "outlinewidth": 0,
              "ticks": ""
             }
            },
            "type": "scatter3d"
           }
          ],
          "scattercarpet": [
           {
            "marker": {
             "colorbar": {
              "outlinewidth": 0,
              "ticks": ""
             }
            },
            "type": "scattercarpet"
           }
          ],
          "scattergeo": [
           {
            "marker": {
             "colorbar": {
              "outlinewidth": 0,
              "ticks": ""
             }
            },
            "type": "scattergeo"
           }
          ],
          "scattergl": [
           {
            "marker": {
             "colorbar": {
              "outlinewidth": 0,
              "ticks": ""
             }
            },
            "type": "scattergl"
           }
          ],
          "scattermapbox": [
           {
            "marker": {
             "colorbar": {
              "outlinewidth": 0,
              "ticks": ""
             }
            },
            "type": "scattermapbox"
           }
          ],
          "scatterpolar": [
           {
            "marker": {
             "colorbar": {
              "outlinewidth": 0,
              "ticks": ""
             }
            },
            "type": "scatterpolar"
           }
          ],
          "scatterpolargl": [
           {
            "marker": {
             "colorbar": {
              "outlinewidth": 0,
              "ticks": ""
             }
            },
            "type": "scatterpolargl"
           }
          ],
          "scatterternary": [
           {
            "marker": {
             "colorbar": {
              "outlinewidth": 0,
              "ticks": ""
             }
            },
            "type": "scatterternary"
           }
          ],
          "surface": [
           {
            "colorbar": {
             "outlinewidth": 0,
             "ticks": ""
            },
            "colorscale": [
             [
              0,
              "#0d0887"
             ],
             [
              0.1111111111111111,
              "#46039f"
             ],
             [
              0.2222222222222222,
              "#7201a8"
             ],
             [
              0.3333333333333333,
              "#9c179e"
             ],
             [
              0.4444444444444444,
              "#bd3786"
             ],
             [
              0.5555555555555556,
              "#d8576b"
             ],
             [
              0.6666666666666666,
              "#ed7953"
             ],
             [
              0.7777777777777778,
              "#fb9f3a"
             ],
             [
              0.8888888888888888,
              "#fdca26"
             ],
             [
              1,
              "#f0f921"
             ]
            ],
            "type": "surface"
           }
          ],
          "table": [
           {
            "cells": {
             "fill": {
              "color": "#EBF0F8"
             },
             "line": {
              "color": "white"
             }
            },
            "header": {
             "fill": {
              "color": "#C8D4E3"
             },
             "line": {
              "color": "white"
             }
            },
            "type": "table"
           }
          ]
         },
         "layout": {
          "annotationdefaults": {
           "arrowcolor": "#2a3f5f",
           "arrowhead": 0,
           "arrowwidth": 1
          },
          "autotypenumbers": "strict",
          "coloraxis": {
           "colorbar": {
            "outlinewidth": 0,
            "ticks": ""
           }
          },
          "colorscale": {
           "diverging": [
            [
             0,
             "#8e0152"
            ],
            [
             0.1,
             "#c51b7d"
            ],
            [
             0.2,
             "#de77ae"
            ],
            [
             0.3,
             "#f1b6da"
            ],
            [
             0.4,
             "#fde0ef"
            ],
            [
             0.5,
             "#f7f7f7"
            ],
            [
             0.6,
             "#e6f5d0"
            ],
            [
             0.7,
             "#b8e186"
            ],
            [
             0.8,
             "#7fbc41"
            ],
            [
             0.9,
             "#4d9221"
            ],
            [
             1,
             "#276419"
            ]
           ],
           "sequential": [
            [
             0,
             "#0d0887"
            ],
            [
             0.1111111111111111,
             "#46039f"
            ],
            [
             0.2222222222222222,
             "#7201a8"
            ],
            [
             0.3333333333333333,
             "#9c179e"
            ],
            [
             0.4444444444444444,
             "#bd3786"
            ],
            [
             0.5555555555555556,
             "#d8576b"
            ],
            [
             0.6666666666666666,
             "#ed7953"
            ],
            [
             0.7777777777777778,
             "#fb9f3a"
            ],
            [
             0.8888888888888888,
             "#fdca26"
            ],
            [
             1,
             "#f0f921"
            ]
           ],
           "sequentialminus": [
            [
             0,
             "#0d0887"
            ],
            [
             0.1111111111111111,
             "#46039f"
            ],
            [
             0.2222222222222222,
             "#7201a8"
            ],
            [
             0.3333333333333333,
             "#9c179e"
            ],
            [
             0.4444444444444444,
             "#bd3786"
            ],
            [
             0.5555555555555556,
             "#d8576b"
            ],
            [
             0.6666666666666666,
             "#ed7953"
            ],
            [
             0.7777777777777778,
             "#fb9f3a"
            ],
            [
             0.8888888888888888,
             "#fdca26"
            ],
            [
             1,
             "#f0f921"
            ]
           ]
          },
          "colorway": [
           "#636efa",
           "#EF553B",
           "#00cc96",
           "#ab63fa",
           "#FFA15A",
           "#19d3f3",
           "#FF6692",
           "#B6E880",
           "#FF97FF",
           "#FECB52"
          ],
          "font": {
           "color": "#2a3f5f"
          },
          "geo": {
           "bgcolor": "white",
           "lakecolor": "white",
           "landcolor": "#E5ECF6",
           "showlakes": true,
           "showland": true,
           "subunitcolor": "white"
          },
          "hoverlabel": {
           "align": "left"
          },
          "hovermode": "closest",
          "mapbox": {
           "style": "light"
          },
          "paper_bgcolor": "white",
          "plot_bgcolor": "#E5ECF6",
          "polar": {
           "angularaxis": {
            "gridcolor": "white",
            "linecolor": "white",
            "ticks": ""
           },
           "bgcolor": "#E5ECF6",
           "radialaxis": {
            "gridcolor": "white",
            "linecolor": "white",
            "ticks": ""
           }
          },
          "scene": {
           "xaxis": {
            "backgroundcolor": "#E5ECF6",
            "gridcolor": "white",
            "gridwidth": 2,
            "linecolor": "white",
            "showbackground": true,
            "ticks": "",
            "zerolinecolor": "white"
           },
           "yaxis": {
            "backgroundcolor": "#E5ECF6",
            "gridcolor": "white",
            "gridwidth": 2,
            "linecolor": "white",
            "showbackground": true,
            "ticks": "",
            "zerolinecolor": "white"
           },
           "zaxis": {
            "backgroundcolor": "#E5ECF6",
            "gridcolor": "white",
            "gridwidth": 2,
            "linecolor": "white",
            "showbackground": true,
            "ticks": "",
            "zerolinecolor": "white"
           }
          },
          "shapedefaults": {
           "line": {
            "color": "#2a3f5f"
           }
          },
          "ternary": {
           "aaxis": {
            "gridcolor": "white",
            "linecolor": "white",
            "ticks": ""
           },
           "baxis": {
            "gridcolor": "white",
            "linecolor": "white",
            "ticks": ""
           },
           "bgcolor": "#E5ECF6",
           "caxis": {
            "gridcolor": "white",
            "linecolor": "white",
            "ticks": ""
           }
          },
          "title": {
           "x": 0.05
          },
          "xaxis": {
           "automargin": true,
           "gridcolor": "white",
           "linecolor": "white",
           "ticks": "",
           "title": {
            "standoff": 15
           },
           "zerolinecolor": "white",
           "zerolinewidth": 2
          },
          "yaxis": {
           "automargin": true,
           "gridcolor": "white",
           "linecolor": "white",
           "ticks": "",
           "title": {
            "standoff": 15
           },
           "zerolinecolor": "white",
           "zerolinewidth": 2
          }
         }
        },
        "title": {
         "text": "predicted values vs real values"
        },
        "xaxis": {
         "title": {
          "text": "real"
         }
        },
        "yaxis": {
         "title": {
          "text": "pred"
         }
        }
       }
      }
     },
     "metadata": {},
     "output_type": "display_data"
    }
   ],
   "source": [
    "trace = go.Scatter(x = y_real,y = y_pred, mode = \"markers\")\n",
    "line_trace = go.Scatter(x = [min(y_real), max(y_real)],\n",
    "                        y = [min(y_real), max(y_real)],\n",
    "                        mode = \"lines\",\n",
    "                        marker=dict(color='blue'),\n",
    "                        name='Perfect Prediction')\n",
    "layout = go.Layout(title = \"predicted values vs real values\", xaxis=dict(title = \"real\"),\n",
    "                   yaxis = dict(title = \"pred\"))\n",
    "\n",
    "figure = go.Figure(data = [trace, line_trace], layout=layout)\n",
    "\n",
    "iplot(figure)"
   ]
  },
  {
   "cell_type": "code",
   "execution_count": null,
   "metadata": {},
   "outputs": [],
   "source": []
  }
 ],
 "metadata": {
  "kernelspec": {
   "display_name": "base",
   "language": "python",
   "name": "python3"
  },
  "language_info": {
   "codemirror_mode": {
    "name": "ipython",
    "version": 3
   },
   "file_extension": ".py",
   "mimetype": "text/x-python",
   "name": "python",
   "nbconvert_exporter": "python",
   "pygments_lexer": "ipython3",
   "version": "3.11.3"
  }
 },
 "nbformat": 4,
 "nbformat_minor": 2
}
