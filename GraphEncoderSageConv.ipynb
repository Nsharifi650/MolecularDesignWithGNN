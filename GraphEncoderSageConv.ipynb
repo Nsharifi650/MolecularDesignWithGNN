{
 "cells": [
  {
   "cell_type": "markdown",
   "metadata": {},
   "source": [
    "# Data Preprocessing"
   ]
  },
  {
   "cell_type": "code",
   "execution_count": 82,
   "metadata": {},
   "outputs": [],
   "source": [
    "import rdkit\n",
    "from torch_geometric.datasets import MoleculeNet\n",
    "\n",
    "# Load the Free Energy of Solvation dataset\n",
    "dataset = MoleculeNet(root=\".\", name=\"FreeSolv\")"
   ]
  },
  {
   "cell_type": "code",
   "execution_count": 83,
   "metadata": {},
   "outputs": [
    {
     "name": "stdout",
     "output_type": "stream",
     "text": [
      "Dataset type:  <class 'torch_geometric.datasets.molecule_net.MoleculeNet'>\n",
      "Dataset features:  9\n",
      "Dataset target:  485\n",
      "Dataset length:  <bound method InMemoryDataset.len of FreeSolv(642)>\n",
      "Dataset sample:  Data(x=[13, 9], edge_index=[2, 26], edge_attr=[26, 3], smiles='CN(C)C(=O)c1ccc(cc1)OC', y=[1, 1])\n",
      "Sample  nodes:  13\n",
      "Sample  edges:  26\n"
     ]
    }
   ],
   "source": [
    "data = dataset\n",
    "print(\"Dataset type: \", type(data))\n",
    "print(\"Dataset features: \", data.num_features)\n",
    "print(\"Dataset target: \", data.num_classes)\n",
    "print(\"Dataset length: \", data.len)\n",
    "print(\"Dataset sample: \", data[0])\n",
    "print(\"Sample  nodes: \", data[0].num_nodes)\n",
    "print(\"Sample  edges: \", data[0].num_edges)"
   ]
  },
  {
   "cell_type": "code",
   "execution_count": 84,
   "metadata": {},
   "outputs": [
    {
     "data": {
      "text/plain": [
       "tensor([[-11.0100]])"
      ]
     },
     "execution_count": 84,
     "metadata": {},
     "output_type": "execute_result"
    }
   ],
   "source": [
    "# Investiagte the features of the node of graph \n",
    "data[0].x\n",
    "\n",
    "# Investigating the edges in sparse COO format\n",
    "# Shape [2, num_edges]\n",
    "data[0].edge_index.t()\n",
    "\n",
    "# See the target value of data[0]\n",
    "data[0].y"
   ]
  },
  {
   "cell_type": "code",
   "execution_count": 85,
   "metadata": {},
   "outputs": [
    {
     "data": {
      "text/plain": [
       "'CN(C)C(=O)c1ccc(cc1)OC'"
      ]
     },
     "execution_count": 85,
     "metadata": {},
     "output_type": "execute_result"
    }
   ],
   "source": [
    "data[0][\"smiles\"]\n"
   ]
  },
  {
   "cell_type": "code",
   "execution_count": 86,
   "metadata": {},
   "outputs": [
    {
     "data": {
      "image/png": "[encoded data removed]",
      "text/plain": [
       "<rdkit.Chem.rdchem.Mol at 0x1efefd8a1f0>"
      ]
     },
     "execution_count": 86,
     "metadata": {},
     "output_type": "execute_result"
    }
   ],
   "source": [
    "from rdkit import Chem\n",
    "from rdkit.Chem.Draw import IPythonConsole\n",
    "molecule = Chem.MolFromSmiles(data[0][\"smiles\"])\n",
    "molecule"
   ]
  },
  {
   "cell_type": "markdown",
   "metadata": {},
   "source": [
    "# Model definition"
   ]
  },
  {
   "cell_type": "code",
   "execution_count": 87,
   "metadata": {},
   "outputs": [
    {
     "name": "stdout",
     "output_type": "stream",
     "text": [
      "GCN(\n",
      "  (Convlayers): ModuleList(\n",
      "    (0): SAGEConv(9, 5, aggr=mean)\n",
      "    (1): SAGEConv(5, 5, aggr=mean)\n",
      "  )\n",
      "  (linear): Linear(in_features=11, out_features=1, bias=True)\n",
      ")\n",
      "Number of parameters:  162\n"
     ]
    }
   ],
   "source": [
    "import torch\n",
    "from torch.nn import Linear\n",
    "import torch.nn as nn\n",
    "import torch.nn.functional as F \n",
    "from torch_geometric.nn import GCNConv, TopKPooling, SAGEConv\n",
    "from torch_geometric.nn import global_mean_pool as gap, global_max_pool as gmp\n",
    "\n",
    "class GCN(torch.nn.Module):\n",
    "    def __init__(self, feature_count, hidden_dim, out_channels, num_deepLayers):\n",
    "        # Init parent\n",
    "        super(GCN, self).__init__()\n",
    "        # GCN layers\n",
    "        self.layersCount = num_deepLayers\n",
    "\n",
    "        self.Convlayers = nn.ModuleList()\n",
    "\n",
    "        for ii in range(self.layersCount):\n",
    "            in_channels = feature_count if ii ==0 else hidden_dim\n",
    "            self.Convlayers.append(SAGEConv(in_channels, hidden_dim))\n",
    "\n",
    "        # Output layer\n",
    "        self.linear = Linear(hidden_dim*2+1, out_channels)\n",
    "\n",
    "    def forward(self, data):\n",
    "\n",
    "        x, edge_index, batch_index = data.x, data.edge_index, data.batch\n",
    "        x = x.float()\n",
    "        #print(data[0].num_nodes)\n",
    "       # print(batch_index)\n",
    "        Num_atoms = []\n",
    "        for ii in range(len(data)):\n",
    "            Num_atoms.append(data[ii].num_nodes)\n",
    "\n",
    "\n",
    "        Num_atoms = torch.tensor(Num_atoms, dtype = torch.float).view(-1,1)\n",
    "\n",
    "\n",
    "        for jj in range(self.layersCount):\n",
    "            x = self.Convlayers[jj](x, edge_index)\n",
    "            # if jj != self.layersCount:\n",
    "            #     x = F.relu(x)\n",
    "            x = F.tanh(x)\n",
    "\n",
    "        #print(num_atoms)\n",
    "        embedding = torch.cat([gmp(x, batch_index), \n",
    "                            gap(x, batch_index), Num_atoms], dim=1)\n",
    "        # returned hidden is [num_graphs, hidden_dim]\n",
    "        #print(hidden.shape)\n",
    "\n",
    "        # Apply a final (linear) classifier.\n",
    "\n",
    "        x = self.linear(embedding)\n",
    "        #print(x.shape)\n",
    "\n",
    "        return x\n",
    "\n",
    "model = GCN(data.num_features, 5,1,2)\n",
    "print(model)\n",
    "print(\"Number of parameters: \", sum(p.numel() for p in model.parameters()))"
   ]
  },
  {
   "cell_type": "markdown",
   "metadata": {},
   "source": [
    "# Training"
   ]
  },
  {
   "cell_type": "code",
   "execution_count": 94,
   "metadata": {},
   "outputs": [],
   "source": [
    "from torch_geometric.data import DataLoader\n",
    "import warnings\n",
    "warnings.filterwarnings(\"ignore\")\n",
    "\n",
    "# Root mean squared error\n",
    "loss_fn = torch.nn.MSELoss()\n",
    "optimizer = torch.optim.Adam(model.parameters(), lr=1e-5)  \n",
    "batch_size = 32\n",
    "pretrained = True\n",
    "model_path = \"GraphModelSG_pretrained.pth\"\n",
    "if pretrained:\n",
    "   model.load_state_dict(torch.load(model_path))\n",
    "\n",
    "\n",
    "\n",
    "# Use GPU for training\n",
    "device = torch.device(\"cuda:0\" if torch.cuda.is_available() else \"cpu\")\n",
    "model = model.to(device)\n",
    "\n",
    "# Wrap data in a data loader\n",
    "data_size = len(data)\n",
    "\n",
    "train_loader = DataLoader(data[:int(data_size * 0.8)], \n",
    "                    batch_size=batch_size, shuffle=True, drop_last = True)\n",
    "test_loader = DataLoader(data[int(data_size * 0.8):], \n",
    "                         batch_size=batch_size, shuffle=True, drop_last = True)"
   ]
  },
  {
   "cell_type": "code",
   "execution_count": 95,
   "metadata": {},
   "outputs": [
    {
     "name": "stdout",
     "output_type": "stream",
     "text": [
      "Starting training...\n",
      "Epoch 0 | Train Loss 3.9200658798217773\n",
      "Epoch 100 | Train Loss 2.6314754486083984\n",
      "Epoch 200 | Train Loss 1.938270092010498\n",
      "Epoch 300 | Train Loss 3.157993793487549\n",
      "Epoch 400 | Train Loss 1.4312281608581543\n",
      "Epoch 500 | Train Loss 3.0882961750030518\n",
      "Epoch 600 | Train Loss 2.452904224395752\n",
      "Epoch 700 | Train Loss 1.9299613237380981\n",
      "Epoch 800 | Train Loss 1.0989326238632202\n",
      "Epoch 900 | Train Loss 1.152491569519043\n"
     ]
    }
   ],
   "source": [
    "def train():\n",
    "    # Enumerate over the data\n",
    "    for batch in train_loader:\n",
    "      # Use GPU\n",
    "      model.train()\n",
    "      batch.to(device)  \n",
    "      # Reset gradients\n",
    "      optimizer.zero_grad() \n",
    "      # Passing the node features and the connection info\n",
    "      pred = model(batch) \n",
    "      # Calculating the loss and gradients\n",
    "      #print(pred.shape)\n",
    "      #print(batch.y.shape)\n",
    "      loss = loss_fn(pred, batch.y)     \n",
    "      loss.backward()  \n",
    "      # Update using the gradients\n",
    "      optimizer.step()   \n",
    "    return loss\n",
    "\n",
    "print(\"Starting training...\")\n",
    "losses = []\n",
    "for epoch in range(1000):\n",
    "    loss = train()\n",
    "    losses.append(loss)\n",
    "    if epoch % 100 == 0:\n",
    "      print(f\"Epoch {epoch} | Train Loss {loss}\")"
   ]
  },
  {
   "cell_type": "code",
   "execution_count": 96,
   "metadata": {},
   "outputs": [],
   "source": [
    "model_path = \"GraphModelSG_pretrained.pth\"\n",
    "torch.save(model.state_dict(), model_path)"
   ]
  },
  {
   "cell_type": "code",
   "execution_count": 97,
   "metadata": {},
   "outputs": [
    {
     "data": {
      "application/vnd.plotly.v1+json": {
       "config": {
        "linkText": "Export to plot.ly",
        "plotlyServerURL": "https://plot.ly",
        "showLink": false
       },
       "data": [
        {
         "mode": "lines",
         "type": "scatter",
         "x": [
          0,
          1,
          2,
          3,
          4,
          5,
          6,
          7,
          8,
          9,
          10,
          11,
          12,
          13,
          14,
          15,
          16,
          17,
          18,
          19,
          20,
          21,
          22,
          23,
          24,
          25,
          26,
          27,
          28,
          29,
          30,
          31,
          32,
          33,
          34,
          35,
          36,
          37,
          38,
          39,
          40,
          41,
          42,
          43,
          44,
          45,
          46,
          47,
          48,
          49,
          50,
          51,
          52,
          53,
          54,
          55,
          56,
          57,
          58,
          59,
          60,
          61,
          62,
          63,
          64,
          65,
          66,
          67,
          68,
          69,
          70,
          71,
          72,
          73,
          74,
          75,
          76,
          77,
          78,
          79,
          80,
          81,
          82,
          83,
          84,
          85,
          86,
          87,
          88,
          89,
          90,
          91,
          92,
          93,
          94,
          95,
          96,
          97,
          98,
          99,
          100,
          101,
          102,
          103,
          104,
          105,
          106,
          107,
          108,
          109,
          110,
          111,
          112,
          113,
          114,
          115,
          116,
          117,
          118,
          119,
          120,
          121,
          122,
          123,
          124,
          125,
          126,
          127,
          128,
          129,
          130,
          131,
          132,
          133,
          134,
          135,
          136,
          137,
          138,
          139,
          140,
          141,
          142,
          143,
          144,
          145,
          146,
          147,
          148,
          149,
          150,
          151,
          152,
          153,
          154,
          155,
          156,
          157,
          158,
          159,
          160,
          161,
          162,
          163,
          164,
          165,
          166,
          167,
          168,
          169,
          170,
          171,
          172,
          173,
          174,
          175,
          176,
          177,
          178,
          179,
          180,
          181,
          182,
          183,
          184,
          185,
          186,
          187,
          188,
          189,
          190,
          191,
          192,
          193,
          194,
          195,
          196,
          197,
          198,
          199,
          200,
          201,
          202,
          203,
          204,
          205,
          206,
          207,
          208,
          209,
          210,
          211,
          212,
          213,
          214,
          215,
          216,
          217,
          218,
          219,
          220,
          221,
          222,
          223,
          224,
          225,
          226,
          227,
          228,
          229,
          230,
          231,
          232,
          233,
          234,
          235,
          236,
          237,
          238,
          239,
          240,
          241,
          242,
          243,
          244,
          245,
          246,
          247,
          248,
          249,
          250,
          251,
          252,
          253,
          254,
          255,
          256,
          257,
          258,
          259,
          260,
          261,
          262,
          263,
          264,
          265,
          266,
          267,
          268,
          269,
          270,
          271,
          272,
          273,
          274,
          275,
          276,
          277,
          278,
          279,
          280,
          281,
          282,
          283,
          284,
          285,
          286,
          287,
          288,
          289,
          290,
          291,
          292,
          293,
          294,
          295,
          296,
          297,
          298,
          299,
          300,
          301,
          302,
          303,
          304,
          305,
          306,
          307,
          308,
          309,
          310,
          311,
          312,
          313,
          314,
          315,
          316,
          317,
          318,
          319,
          320,
          321,
          322,
          323,
          324,
          325,
          326,
          327,
          328,
          329,
          330,
          331,
          332,
          333,
          334,
          335,
          336,
          337,
          338,
          339,
          340,
          341,
          342,
          343,
          344,
          345,
          346,
          347,
          348,
          349,
          350,
          351,
          352,
          353,
          354,
          355,
          356,
          357,
          358,
          359,
          360,
          361,
          362,
          363,
          364,
          365,
          366,
          367,
          368,
          369,
          370,
          371,
          372,
          373,
          374,
          375,
          376,
          377,
          378,
          379,
          380,
          381,
          382,
          383,
          384,
          385,
          386,
          387,
          388,
          389,
          390,
          391,
          392,
          393,
          394,
          395,
          396,
          397,
          398,
          399,
          400,
          401,
          402,
          403,
          404,
          405,
          406,
          407,
          408,
          409,
          410,
          411,
          412,
          413,
          414,
          415,
          416,
          417,
          418,
          419,
          420,
          421,
          422,
          423,
          424,
          425,
          426,
          427,
          428,
          429,
          430,
          431,
          432,
          433,
          434,
          435,
          436,
          437,
          438,
          439,
          440,
          441,
          442,
          443,
          444,
          445,
          446,
          447,
          448,
          449,
          450,
          451,
          452,
          453,
          454,
          455,
          456,
          457,
          458,
          459,
          460,
          461,
          462,
          463,
          464,
          465,
          466,
          467,
          468,
          469,
          470,
          471,
          472,
          473,
          474,
          475,
          476,
          477,
          478,
          479,
          480,
          481,
          482,
          483,
          484,
          485,
          486,
          487,
          488,
          489,
          490,
          491,
          492,
          493,
          494,
          495,
          496,
          497,
          498,
          499,
          500,
          501,
          502,
          503,
          504,
          505,
          506,
          507,
          508,
          509,
          510,
          511,
          512,
          513,
          514,
          515,
          516,
          517,
          518,
          519,
          520,
          521,
          522,
          523,
          524,
          525,
          526,
          527,
          528,
          529,
          530,
          531,
          532,
          533,
          534,
          535,
          536,
          537,
          538,
          539,
          540,
          541,
          542,
          543,
          544,
          545,
          546,
          547,
          548,
          549,
          550,
          551,
          552,
          553,
          554,
          555,
          556,
          557,
          558,
          559,
          560,
          561,
          562,
          563,
          564,
          565,
          566,
          567,
          568,
          569,
          570,
          571,
          572,
          573,
          574,
          575,
          576,
          577,
          578,
          579,
          580,
          581,
          582,
          583,
          584,
          585,
          586,
          587,
          588,
          589,
          590,
          591,
          592,
          593,
          594,
          595,
          596,
          597,
          598,
          599,
          600,
          601,
          602,
          603,
          604,
          605,
          606,
          607,
          608,
          609,
          610,
          611,
          612,
          613,
          614,
          615,
          616,
          617,
          618,
          619,
          620,
          621,
          622,
          623,
          624,
          625,
          626,
          627,
          628,
          629,
          630,
          631,
          632,
          633,
          634,
          635,
          636,
          637,
          638,
          639,
          640,
          641,
          642,
          643,
          644,
          645,
          646,
          647,
          648,
          649,
          650,
          651,
          652,
          653,
          654,
          655,
          656,
          657,
          658,
          659,
          660,
          661,
          662,
          663,
          664,
          665,
          666,
          667,
          668,
          669,
          670,
          671,
          672,
          673,
          674,
          675,
          676,
          677,
          678,
          679,
          680,
          681,
          682,
          683,
          684,
          685,
          686,
          687,
          688,
          689,
          690,
          691,
          692,
          693,
          694,
          695,
          696,
          697,
          698,
          699,
          700,
          701,
          702,
          703,
          704,
          705,
          706,
          707,
          708,
          709,
          710,
          711,
          712,
          713,
          714,
          715,
          716,
          717,
          718,
          719,
          720,
          721,
          722,
          723,
          724,
          725,
          726,
          727,
          728,
          729,
          730,
          731,
          732,
          733,
          734,
          735,
          736,
          737,
          738,
          739,
          740,
          741,
          742,
          743,
          744,
          745,
          746,
          747,
          748,
          749,
          750,
          751,
          752,
          753,
          754,
          755,
          756,
          757,
          758,
          759,
          760,
          761,
          762,
          763,
          764,
          765,
          766,
          767,
          768,
          769,
          770,
          771,
          772,
          773,
          774,
          775,
          776,
          777,
          778,
          779,
          780,
          781,
          782,
          783,
          784,
          785,
          786,
          787,
          788,
          789,
          790,
          791,
          792,
          793,
          794,
          795,
          796,
          797,
          798,
          799,
          800,
          801,
          802,
          803,
          804,
          805,
          806,
          807,
          808,
          809,
          810,
          811,
          812,
          813,
          814,
          815,
          816,
          817,
          818,
          819,
          820,
          821,
          822,
          823,
          824,
          825,
          826,
          827,
          828,
          829,
          830,
          831,
          832,
          833,
          834,
          835,
          836,
          837,
          838,
          839,
          840,
          841,
          842,
          843,
          844,
          845,
          846,
          847,
          848,
          849,
          850,
          851,
          852,
          853,
          854,
          855,
          856,
          857,
          858,
          859,
          860,
          861,
          862,
          863,
          864,
          865,
          866,
          867,
          868,
          869,
          870,
          871,
          872,
          873,
          874,
          875,
          876,
          877,
          878,
          879,
          880,
          881,
          882,
          883,
          884,
          885,
          886,
          887,
          888,
          889,
          890,
          891,
          892,
          893,
          894,
          895,
          896,
          897,
          898,
          899,
          900,
          901,
          902,
          903,
          904,
          905,
          906,
          907,
          908,
          909,
          910,
          911,
          912,
          913,
          914,
          915,
          916,
          917,
          918,
          919,
          920,
          921,
          922,
          923,
          924,
          925,
          926,
          927,
          928,
          929,
          930,
          931,
          932,
          933,
          934,
          935,
          936,
          937,
          938,
          939,
          940,
          941,
          942,
          943,
          944,
          945,
          946,
          947,
          948,
          949,
          950,
          951,
          952,
          953,
          954,
          955,
          956,
          957,
          958,
          959,
          960,
          961,
          962,
          963,
          964,
          965,
          966,
          967,
          968,
          969,
          970,
          971,
          972,
          973,
          974,
          975,
          976,
          977,
          978,
          979,
          980,
          981,
          982,
          983,
          984,
          985,
          986,
          987,
          988,
          989,
          990,
          991,
          992,
          993,
          994,
          995,
          996,
          997,
          998,
          999
         ],
         "y": [
          3.9200658798217773,
          2.430083751678467,
          1.2404202222824097,
          1.3156859874725342,
          1.6891860961914062,
          1.152915358543396,
          1.9039478302001953,
          1.4649194478988647,
          1.8735384941101074,
          2.2061877250671387,
          2.717010974884033,
          1.781903862953186,
          1.5472577810287476,
          1.0008037090301514,
          1.987884521484375,
          2.4031455516815186,
          1.9506875276565552,
          1.0576621294021606,
          2.0252342224121094,
          1.8270225524902344,
          1.7515504360198975,
          2.3149471282958984,
          1.9670085906982422,
          1.8593472242355347,
          1.5796171426773071,
          2.5969462394714355,
          1.2362992763519287,
          2.1701555252075195,
          1.6253904104232788,
          2.0704634189605713,
          1.309741735458374,
          3.184523582458496,
          2.846301555633545,
          2.9895265102386475,
          1.0328220129013062,
          1.3331259489059448,
          3.1382079124450684,
          1.7159764766693115,
          1.463498592376709,
          1.9281909465789795,
          3.016448974609375,
          1.7574584484100342,
          1.282494068145752,
          1.6346404552459717,
          1.6513882875442505,
          2.2123756408691406,
          2.0973477363586426,
          1.369900107383728,
          2.0491600036621094,
          2.205029249191284,
          2.5351321697235107,
          2.432244300842285,
          2.0652456283569336,
          1.4328402280807495,
          1.7797720432281494,
          1.9202611446380615,
          2.3871655464172363,
          0.7618479132652283,
          1.9432649612426758,
          1.5208085775375366,
          2.2626256942749023,
          2.8164939880371094,
          2.1438066959381104,
          1.8600237369537354,
          1.814424991607666,
          2.536371946334839,
          1.9647889137268066,
          2.685885190963745,
          2.812558650970459,
          1.439640760421753,
          2.603128433227539,
          1.8496224880218506,
          1.6285803318023682,
          0.89211106300354,
          1.631881833076477,
          1.433225154876709,
          1.9491188526153564,
          2.2916390895843506,
          1.9215415716171265,
          2.2472660541534424,
          1.5715941190719604,
          1.3256921768188477,
          2.820173501968384,
          1.6611549854278564,
          0.8097897171974182,
          1.3474955558776855,
          2.035147190093994,
          1.7535974979400635,
          1.8352611064910889,
          1.437627911567688,
          2.1790239810943604,
          1.7537779808044434,
          2.576911449432373,
          1.342746615409851,
          2.8210153579711914,
          2.3371362686157227,
          1.8643765449523926,
          2.2213499546051025,
          1.5565040111541748,
          2.01200795173645,
          2.6314754486083984,
          1.7695233821868896,
          1.6774169206619263,
          1.9405697584152222,
          2.1608564853668213,
          2.7213473320007324,
          1.3872965574264526,
          1.6878563165664673,
          1.9511152505874634,
          2.8282697200775146,
          1.5171936750411987,
          2.5923421382904053,
          1.9250084161758423,
          2.7907533645629883,
          2.042956590652466,
          1.5207993984222412,
          1.8953888416290283,
          1.3803842067718506,
          1.6846790313720703,
          1.8307186365127563,
          1.785663366317749,
          1.951012372970581,
          3.078119993209839,
          2.4112534523010254,
          1.306877613067627,
          1.9805916547775269,
          3.6023850440979004,
          0.9151094555854797,
          2.855492353439331,
          1.7667499780654907,
          0.9607844352722168,
          1.9236334562301636,
          1.6450600624084473,
          3.2001919746398926,
          1.149855136871338,
          1.832366943359375,
          1.7159916162490845,
          1.9313260316848755,
          1.7610957622528076,
          1.8825557231903076,
          2.2743091583251953,
          2.1033525466918945,
          1.7063398361206055,
          1.852061152458191,
          1.0846657752990723,
          2.0294251441955566,
          3.492705821990967,
          1.9310892820358276,
          2.041391372680664,
          1.8604872226715088,
          1.9736279249191284,
          1.5158175230026245,
          1.145413875579834,
          2.174043893814087,
          3.030977725982666,
          2.5552520751953125,
          1.3216593265533447,
          3.4076526165008545,
          2.1771438121795654,
          3.4495327472686768,
          1.3242213726043701,
          1.334091067314148,
          1.821829915046692,
          2.7271411418914795,
          1.9288629293441772,
          2.353588342666626,
          1.4550700187683105,
          1.618769884109497,
          1.7794023752212524,
          2.8457629680633545,
          2.8277676105499268,
          2.205477476119995,
          1.6682336330413818,
          1.136750340461731,
          4.197690010070801,
          1.2931592464447021,
          2.2464518547058105,
          2.2560060024261475,
          1.9097599983215332,
          2.7350170612335205,
          3.1098129749298096,
          1.5741397142410278,
          1.8730942010879517,
          2.3870561122894287,
          3.4005565643310547,
          2.16520094871521,
          3.427112102508545,
          1.7210595607757568,
          2.040987968444824,
          1.688266634941101,
          1.786135196685791,
          2.2001287937164307,
          2.4623351097106934,
          2.851167678833008,
          1.717077374458313,
          3.297912120819092,
          2.8994946479797363,
          2.2510852813720703,
          1.8712104558944702,
          2.7950611114501953,
          1.938270092010498,
          1.165802001953125,
          1.9213281869888306,
          2.0908749103546143,
          1.4875706434249878,
          1.5872920751571655,
          2.524899959564209,
          1.499599814414978,
          2.3532018661499023,
          1.7652958631515503,
          1.854191541671753,
          2.700929880142212,
          2.4876856803894043,
          1.7436366081237793,
          1.1000865697860718,
          2.584458112716675,
          3.852884292602539,
          1.955863356590271,
          1.9385250806808472,
          1.5587494373321533,
          2.9167022705078125,
          2.1912434101104736,
          1.359060525894165,
          1.434077501296997,
          1.1776766777038574,
          1.4596483707427979,
          1.9972302913665771,
          2.2193820476531982,
          2.5379416942596436,
          1.66707444190979,
          2.415564775466919,
          2.859452247619629,
          2.1168878078460693,
          1.8190994262695312,
          1.7772308588027954,
          2.4371602535247803,
          3.0507729053497314,
          1.8850860595703125,
          1.5224634408950806,
          2.5684401988983154,
          1.1961555480957031,
          1.4164824485778809,
          2.3403232097625732,
          1.710758090019226,
          1.5142041444778442,
          2.5368716716766357,
          1.6364309787750244,
          2.0767359733581543,
          1.7626910209655762,
          2.5978050231933594,
          2.831935167312622,
          1.7674351930618286,
          1.387116551399231,
          1.1855590343475342,
          1.9348194599151611,
          1.44711434841156,
          2.581329345703125,
          1.488558053970337,
          1.6080443859100342,
          1.9127533435821533,
          1.3377357721328735,
          2.484215497970581,
          3.2812488079071045,
          1.6171668767929077,
          2.058804750442505,
          1.1449639797210693,
          1.109387755393982,
          1.7301419973373413,
          1.8117140531539917,
          2.424325466156006,
          1.0752308368682861,
          2.1866869926452637,
          1.671107530593872,
          2.8131818771362305,
          3.122934341430664,
          1.7527216672897339,
          1.8051847219467163,
          2.42451810836792,
          1.5501490831375122,
          2.0674619674682617,
          2.053877353668213,
          2.5264017581939697,
          2.191004753112793,
          1.8364224433898926,
          2.566396713256836,
          2.031710147857666,
          0.9288211464881897,
          1.8356314897537231,
          1.7757056951522827,
          1.503136396408081,
          2.453153133392334,
          2.157430410385132,
          2.0463738441467285,
          1.900281310081482,
          2.3687634468078613,
          2.0075433254241943,
          2.9075124263763428,
          2.4538824558258057,
          2.2758638858795166,
          2.4184210300445557,
          3.157993793487549,
          4.835913181304932,
          2.0498640537261963,
          1.4011528491973877,
          3.3969621658325195,
          0.860511064529419,
          2.9521427154541016,
          1.4145222902297974,
          1.8133912086486816,
          1.6628203392028809,
          1.2220278978347778,
          1.8407320976257324,
          2.1986656188964844,
          2.885654926300049,
          1.0502357482910156,
          1.2641841173171997,
          2.094313859939575,
          2.4614930152893066,
          1.5147449970245361,
          1.4671618938446045,
          1.007627248764038,
          1.3644227981567383,
          2.729926347732544,
          1.9045076370239258,
          2.4238243103027344,
          1.0358710289001465,
          2.177786350250244,
          1.461419701576233,
          2.312962532043457,
          1.3779751062393188,
          1.9888310432434082,
          2.0003044605255127,
          2.0423362255096436,
          3.2491884231567383,
          3.663881301879883,
          3.024498462677002,
          2.6496803760528564,
          1.8252575397491455,
          1.0822479724884033,
          1.503030776977539,
          1.0996986627578735,
          1.9824378490447998,
          2.197986364364624,
          2.1694040298461914,
          1.752364993095398,
          1.7513740062713623,
          1.6017916202545166,
          1.9988901615142822,
          1.8667923212051392,
          1.3440756797790527,
          1.775741457939148,
          2.8737833499908447,
          1.712307333946228,
          1.410348653793335,
          3.380697250366211,
          3.079617977142334,
          2.0756285190582275,
          1.978332281112671,
          2.0468990802764893,
          2.3063526153564453,
          2.4570422172546387,
          2.172297239303589,
          2.62180233001709,
          2.117990493774414,
          1.6575405597686768,
          1.6186563968658447,
          2.3127033710479736,
          1.1955053806304932,
          1.0973016023635864,
          1.7373692989349365,
          1.9214560985565186,
          1.5971276760101318,
          0.8378365635871887,
          2.4607772827148438,
          1.706215500831604,
          2.3135457038879395,
          1.4003798961639404,
          1.513806700706482,
          1.578700304031372,
          1.031622290611267,
          0.9435198307037354,
          1.990585446357727,
          2.2171361446380615,
          2.436286449432373,
          2.808767080307007,
          2.6718037128448486,
          1.5273528099060059,
          1.375209927558899,
          1.5035591125488281,
          1.7161945104599,
          1.0702251195907593,
          1.1088615655899048,
          2.112755298614502,
          1.2499494552612305,
          2.0728516578674316,
          2.4364044666290283,
          2.32607364654541,
          2.2159669399261475,
          3.269073963165283,
          2.5621604919433594,
          1.4312281608581543,
          2.685506820678711,
          2.487297296524048,
          1.2913310527801514,
          1.7073726654052734,
          3.4566898345947266,
          2.645969867706299,
          1.4183921813964844,
          1.5939990282058716,
          2.2555720806121826,
          1.9595203399658203,
          1.336602807044983,
          1.728729248046875,
          1.7773646116256714,
          2.045013427734375,
          1.7931103706359863,
          2.72445011138916,
          1.4750328063964844,
          1.7858763933181763,
          1.186891794204712,
          1.4437854290008545,
          1.789503812789917,
          2.1096274852752686,
          1.3404450416564941,
          2.7540102005004883,
          1.5380949974060059,
          2.2266452312469482,
          2.583983898162842,
          1.2518869638442993,
          1.892855167388916,
          1.454787254333496,
          1.6299941539764404,
          1.4171574115753174,
          2.013991594314575,
          1.071753740310669,
          1.4058620929718018,
          2.72440767288208,
          2.7843875885009766,
          2.7991485595703125,
          3.151136875152588,
          1.3242692947387695,
          2.6801090240478516,
          2.2527854442596436,
          1.7876546382904053,
          0.7655382752418518,
          2.156193971633911,
          1.4587664604187012,
          2.198230743408203,
          1.3619415760040283,
          2.761629581451416,
          1.564239501953125,
          1.8680864572525024,
          1.8098069429397583,
          1.0779590606689453,
          1.112507700920105,
          1.5948294401168823,
          2.453416585922241,
          2.012906074523926,
          1.157633662223816,
          2.666405200958252,
          1.5859978199005127,
          1.473623275756836,
          1.693537712097168,
          2.3224587440490723,
          1.197094440460205,
          2.8142800331115723,
          2.3112637996673584,
          1.9623641967773438,
          3.2607734203338623,
          2.492964744567871,
          2.6401469707489014,
          1.0610458850860596,
          2.8140573501586914,
          2.919675827026367,
          1.5808730125427246,
          1.6998969316482544,
          2.041316509246826,
          1.8505558967590332,
          1.3512868881225586,
          1.797731876373291,
          1.8801826238632202,
          3.149310350418091,
          3.346107244491577,
          1.9699374437332153,
          1.026215672492981,
          2.7619590759277344,
          2.2994885444641113,
          1.094448447227478,
          1.7770116329193115,
          1.555759072303772,
          3.121939182281494,
          1.751531958580017,
          1.6541647911071777,
          2.203315496444702,
          1.8708502054214478,
          1.8301798105239868,
          3.0606915950775146,
          2.783809185028076,
          1.4313077926635742,
          1.6681838035583496,
          3.0882961750030518,
          1.3251971006393433,
          2.6403520107269287,
          2.57737398147583,
          1.970999836921692,
          2.0817856788635254,
          1.5652649402618408,
          2.721717596054077,
          1.4782298803329468,
          1.1972419023513794,
          1.9389064311981201,
          1.846948266029358,
          1.37965726852417,
          1.7981619834899902,
          3.1613893508911133,
          1.1806296110153198,
          1.2790027856826782,
          2.304645538330078,
          1.8070157766342163,
          1.8162834644317627,
          2.294391393661499,
          0.9971208572387695,
          1.839064121246338,
          3.1840507984161377,
          2.556281805038452,
          1.311832308769226,
          1.7722336053848267,
          1.8245961666107178,
          2.1968791484832764,
          2.134165048599243,
          1.2063329219818115,
          2.8741683959960938,
          2.1197595596313477,
          2.336113452911377,
          2.115199327468872,
          2.1031556129455566,
          2.624191999435425,
          1.7320387363433838,
          2.069279432296753,
          3.0195343494415283,
          2.418562173843384,
          1.8539363145828247,
          1.8781601190567017,
          1.9568333625793457,
          1.9118566513061523,
          1.358380675315857,
          1.636968970298767,
          1.531355619430542,
          2.3603808879852295,
          3.545797109603882,
          1.7597036361694336,
          2.013321876525879,
          2.7909128665924072,
          1.0361241102218628,
          2.6246306896209717,
          1.3263843059539795,
          1.2601377964019775,
          1.0112775564193726,
          1.2579121589660645,
          3.3431763648986816,
          1.9529671669006348,
          2.8879637718200684,
          2.991356134414673,
          3.6752333641052246,
          2.3411738872528076,
          2.0797529220581055,
          1.9592525959014893,
          1.55375075340271,
          2.4001481533050537,
          2.0034384727478027,
          3.033651828765869,
          1.8003344535827637,
          1.7452733516693115,
          1.7267813682556152,
          1.643795132637024,
          2.061199188232422,
          1.326169490814209,
          2.0438833236694336,
          2.1378774642944336,
          1.26377534866333,
          1.22980535030365,
          1.960088849067688,
          1.5322699546813965,
          1.4260084629058838,
          1.762247085571289,
          1.6013089418411255,
          1.6575756072998047,
          1.7014381885528564,
          1.7184596061706543,
          2.1689846515655518,
          2.569937229156494,
          2.4712133407592773,
          1.9861124753952026,
          2.0989224910736084,
          1.6059554815292358,
          1.71315598487854,
          1.5900652408599854,
          1.5045162439346313,
          1.1467479467391968,
          3.255260944366455,
          2.452904224395752,
          1.4898990392684937,
          1.5330712795257568,
          1.8231483697891235,
          1.8592541217803955,
          2.334278106689453,
          1.4854645729064941,
          1.131335735321045,
          2.4496147632598877,
          3.384631395339966,
          2.275540351867676,
          1.7498085498809814,
          2.632448196411133,
          2.0665199756622314,
          2.1238834857940674,
          1.5187716484069824,
          2.3766672611236572,
          1.3831462860107422,
          2.0124008655548096,
          3.1689164638519287,
          1.37031888961792,
          1.6677207946777344,
          2.520726442337036,
          2.9192757606506348,
          2.702643394470215,
          1.2572178840637207,
          1.916456699371338,
          2.730266809463501,
          1.6615922451019287,
          1.699344515800476,
          1.3650450706481934,
          1.6408660411834717,
          1.7681504487991333,
          2.562978506088257,
          2.1282949447631836,
          1.142240047454834,
          2.0391011238098145,
          1.2807905673980713,
          1.8743715286254883,
          2.215566873550415,
          2.0056538581848145,
          2.0309953689575195,
          1.9360930919647217,
          1.6378533840179443,
          2.399555206298828,
          1.5339295864105225,
          1.042871117591858,
          1.9877220392227173,
          2.5526912212371826,
          1.5729279518127441,
          1.8380436897277832,
          2.2017366886138916,
          1.6493722200393677,
          1.1678824424743652,
          2.6972479820251465,
          1.0716098546981812,
          1.8477771282196045,
          3.4203193187713623,
          2.263732671737671,
          2.0009496212005615,
          1.608588457107544,
          1.456120491027832,
          2.083540916442871,
          1.5992827415466309,
          2.33077073097229,
          0.8854058980941772,
          2.067497730255127,
          1.7403738498687744,
          3.100518226623535,
          2.602177858352661,
          2.510131597518921,
          2.6304738521575928,
          1.4638826847076416,
          3.1263654232025146,
          2.1220693588256836,
          1.4547231197357178,
          2.16306209564209,
          2.502417802810669,
          2.312868356704712,
          2.351085662841797,
          2.2437169551849365,
          1.7224401235580444,
          1.6856410503387451,
          0.7179378867149353,
          1.9550844430923462,
          1.7098658084869385,
          1.696353554725647,
          3.224574565887451,
          2.0248310565948486,
          2.8370327949523926,
          1.9528162479400635,
          1.7891488075256348,
          1.75221586227417,
          2.227646827697754,
          2.1966476440429688,
          3.2953853607177734,
          2.1635024547576904,
          1.2101247310638428,
          0.9955273270606995,
          1.2986857891082764,
          1.9299613237380981,
          2.088817834854126,
          1.6333454847335815,
          2.585792303085327,
          2.23152494430542,
          1.780032992362976,
          2.3046019077301025,
          2.4005625247955322,
          2.523481607437134,
          1.2499687671661377,
          2.5601463317871094,
          1.8679593801498413,
          1.8676419258117676,
          1.7971500158309937,
          3.092815399169922,
          1.996768593788147,
          1.3556692600250244,
          1.8435659408569336,
          1.5968246459960938,
          1.1566474437713623,
          2.068148374557495,
          1.259423017501831,
          1.2874243259429932,
          2.5595076084136963,
          1.6589637994766235,
          2.6830968856811523,
          2.1248626708984375,
          2.01245379447937,
          1.7491888999938965,
          1.9725817441940308,
          2.6901936531066895,
          1.8583524227142334,
          1.6960904598236084,
          1.4937642812728882,
          2.031216621398926,
          1.9540044069290161,
          2.8778533935546875,
          2.0850765705108643,
          1.9628779888153076,
          1.387899398803711,
          1.174684762954712,
          3.222641706466675,
          1.5588080883026123,
          1.6391161680221558,
          1.362234115600586,
          3.2167763710021973,
          1.8798878192901611,
          1.2960987091064453,
          1.0158923864364624,
          2.1204025745391846,
          1.4470254182815552,
          1.5364913940429688,
          2.2858855724334717,
          2.484417200088501,
          2.5801877975463867,
          1.640347957611084,
          2.3238425254821777,
          1.4941089153289795,
          2.8055472373962402,
          1.9537842273712158,
          1.9986283779144287,
          1.5944031476974487,
          1.3485147953033447,
          2.767597198486328,
          1.6339774131774902,
          1.142236590385437,
          2.6537156105041504,
          2.0624823570251465,
          1.0351758003234863,
          1.9589712619781494,
          2.03578519821167,
          1.91238534450531,
          1.82413649559021,
          3.096524715423584,
          1.532400369644165,
          0.9366605281829834,
          1.9834134578704834,
          2.3746395111083984,
          2.961390495300293,
          2.5846164226531982,
          2.319187641143799,
          1.8026986122131348,
          1.8582079410552979,
          1.557547926902771,
          2.150222063064575,
          1.383631706237793,
          2.0551528930664062,
          1.705664873123169,
          2.779505968093872,
          1.868626594543457,
          1.485468864440918,
          2.064671277999878,
          2.531369686126709,
          1.5685269832611084,
          1.4635757207870483,
          1.4361811876296997,
          1.0824781656265259,
          1.5894712209701538,
          1.9786767959594727,
          3.0717310905456543,
          1.0989326238632202,
          2.544445037841797,
          3.1176047325134277,
          2.0783143043518066,
          2.415832281112671,
          2.914119005203247,
          1.387899398803711,
          3.2257022857666016,
          1.0982613563537598,
          2.1949498653411865,
          2.38409423828125,
          1.406636357307434,
          1.8142863512039185,
          2.1292970180511475,
          1.1032016277313232,
          2.5529143810272217,
          1.7525893449783325,
          2.6283366680145264,
          1.678576946258545,
          2.366835355758667,
          1.4071446657180786,
          1.3194732666015625,
          1.895240068435669,
          1.6655583381652832,
          1.8095169067382812,
          1.4000194072723389,
          2.211594581604004,
          1.4961174726486206,
          2.287899971008301,
          1.9441667795181274,
          2.489729404449463,
          1.6208521127700806,
          2.1468310356140137,
          0.7915058135986328,
          1.793036699295044,
          1.7209206819534302,
          1.696542739868164,
          1.8040183782577515,
          1.6036648750305176,
          2.3345956802368164,
          1.4070597887039185,
          3.184494972229004,
          1.4307903051376343,
          1.294504165649414,
          1.5720137357711792,
          2.830254077911377,
          3.055901050567627,
          2.644077777862549,
          1.4855074882507324,
          1.9626272916793823,
          2.904386281967163,
          2.056900978088379,
          1.4677671194076538,
          3.437469959259033,
          0.988506555557251,
          2.0786468982696533,
          1.3620853424072266,
          2.8991339206695557,
          1.75501549243927,
          2.1015679836273193,
          2.0649216175079346,
          1.890474796295166,
          2.66743540763855,
          1.2204474210739136,
          2.926776170730591,
          3.0405704975128174,
          2.233397960662842,
          1.1023467779159546,
          1.0484472513198853,
          0.9803372621536255,
          2.932750940322876,
          3.097357749938965,
          1.9863545894622803,
          1.7448574304580688,
          2.2890524864196777,
          1.7066471576690674,
          1.165061593055725,
          1.6656309366226196,
          1.2366164922714233,
          1.7744523286819458,
          1.6028295755386353,
          2.2068002223968506,
          1.5275137424468994,
          1.7448086738586426,
          2.396933078765869,
          1.5898652076721191,
          2.5166850090026855,
          1.6913621425628662,
          2.8634915351867676,
          2.0787136554718018,
          2.1351964473724365,
          2.6314477920532227,
          1.4579651355743408,
          1.7134044170379639,
          0.9393340945243835,
          1.5277048349380493,
          2.330197334289551,
          0.6559110879898071,
          1.5547846555709839,
          2.6413073539733887,
          1.152491569519043,
          2.529644250869751,
          3.0366098880767822,
          1.7814921140670776,
          1.8944863080978394,
          2.8776588439941406,
          0.9614630937576294,
          1.403876781463623,
          2.584886312484741,
          1.9538475275039673,
          1.8562326431274414,
          1.953234314918518,
          2.1589605808258057,
          1.5796794891357422,
          1.2257187366485596,
          1.8322713375091553,
          1.1801691055297852,
          2.4414587020874023,
          1.4734697341918945,
          2.6671507358551025,
          2.0476129055023193,
          2.2608089447021484,
          2.3346571922302246,
          1.0667921304702759,
          2.922340154647827,
          2.5975542068481445,
          0.9269739985466003,
          1.9257476329803467,
          1.8507850170135498,
          1.2065130472183228,
          1.3366583585739136,
          1.0902918577194214,
          3.438399314880371,
          3.2559871673583984,
          2.0872256755828857,
          2.007340908050537,
          2.0037806034088135,
          2.9599876403808594,
          1.2937376499176025,
          1.5223439931869507,
          1.129919171333313,
          1.9225261211395264,
          2.5800297260284424,
          1.309746265411377,
          1.9444606304168701,
          2.1884398460388184,
          2.5436742305755615,
          1.422913670539856,
          1.436748743057251,
          2.372323751449585,
          1.7085356712341309,
          0.9186491966247559,
          0.9217588901519775,
          2.3936164379119873,
          1.9908313751220703,
          2.8701372146606445,
          1.655935525894165,
          1.5037297010421753,
          3.0124614238739014,
          2.057978630065918,
          1.5257540941238403,
          1.7107797861099243,
          0.9762668609619141,
          1.559704065322876,
          2.796377658843994,
          1.2284561395645142,
          3.5084452629089355,
          2.329537868499756,
          1.6939857006072998,
          1.2135854959487915,
          2.0179388523101807,
          1.4999934434890747,
          1.4083702564239502,
          1.264249324798584,
          1.3981482982635498,
          0.8643489480018616,
          1.9671441316604614,
          1.759277105331421,
          1.729082703590393,
          2.4687228202819824,
          1.778863787651062,
          2.8206636905670166,
          1.6383719444274902,
          1.7358946800231934,
          2.09317684173584,
          2.765786647796631,
          2.452761173248291,
          2.6955032348632812,
          2.0786163806915283,
          0.6952121257781982,
          2.440453052520752,
          1.0272973775863647,
          2.4747486114501953,
          3.8137054443359375,
          1.5440826416015625,
          1.9243565797805786,
          1.8760641813278198,
          1.2553040981292725,
          1.8092212677001953,
          3.513843536376953
         ]
        }
       ],
       "layout": {
        "template": {
         "data": {
          "bar": [
           {
            "error_x": {
             "color": "#2a3f5f"
            },
            "error_y": {
             "color": "#2a3f5f"
            },
            "marker": {
             "line": {
              "color": "#E5ECF6",
              "width": 0.5
             },
             "pattern": {
              "fillmode": "overlay",
              "size": 10,
              "solidity": 0.2
             }
            },
            "type": "bar"
           }
          ],
          "barpolar": [
           {
            "marker": {
             "line": {
              "color": "#E5ECF6",
              "width": 0.5
             },
             "pattern": {
              "fillmode": "overlay",
              "size": 10,
              "solidity": 0.2
             }
            },
            "type": "barpolar"
           }
          ],
          "carpet": [
           {
            "aaxis": {
             "endlinecolor": "#2a3f5f",
             "gridcolor": "white",
             "linecolor": "white",
             "minorgridcolor": "white",
             "startlinecolor": "#2a3f5f"
            },
            "baxis": {
             "endlinecolor": "#2a3f5f",
             "gridcolor": "white",
             "linecolor": "white",
             "minorgridcolor": "white",
             "startlinecolor": "#2a3f5f"
            },
            "type": "carpet"
           }
          ],
          "choropleth": [
           {
            "colorbar": {
             "outlinewidth": 0,
             "ticks": ""
            },
            "type": "choropleth"
           }
          ],
          "contour": [
           {
            "colorbar": {
             "outlinewidth": 0,
             "ticks": ""
            },
            "colorscale": [
             [
              0,
              "#0d0887"
             ],
             [
              0.1111111111111111,
              "#46039f"
             ],
             [
              0.2222222222222222,
              "#7201a8"
             ],
             [
              0.3333333333333333,
              "#9c179e"
             ],
             [
              0.4444444444444444,
              "#bd3786"
             ],
             [
              0.5555555555555556,
              "#d8576b"
             ],
             [
              0.6666666666666666,
              "#ed7953"
             ],
             [
              0.7777777777777778,
              "#fb9f3a"
             ],
             [
              0.8888888888888888,
              "#fdca26"
             ],
             [
              1,
              "#f0f921"
             ]
            ],
            "type": "contour"
           }
          ],
          "contourcarpet": [
           {
            "colorbar": {
             "outlinewidth": 0,
             "ticks": ""
            },
            "type": "contourcarpet"
           }
          ],
          "heatmap": [
           {
            "colorbar": {
             "outlinewidth": 0,
             "ticks": ""
            },
            "colorscale": [
             [
              0,
              "#0d0887"
             ],
             [
              0.1111111111111111,
              "#46039f"
             ],
             [
              0.2222222222222222,
              "#7201a8"
             ],
             [
              0.3333333333333333,
              "#9c179e"
             ],
             [
              0.4444444444444444,
              "#bd3786"
             ],
             [
              0.5555555555555556,
              "#d8576b"
             ],
             [
              0.6666666666666666,
              "#ed7953"
             ],
             [
              0.7777777777777778,
              "#fb9f3a"
             ],
             [
              0.8888888888888888,
              "#fdca26"
             ],
             [
              1,
              "#f0f921"
             ]
            ],
            "type": "heatmap"
           }
          ],
          "heatmapgl": [
           {
            "colorbar": {
             "outlinewidth": 0,
             "ticks": ""
            },
            "colorscale": [
             [
              0,
              "#0d0887"
             ],
             [
              0.1111111111111111,
              "#46039f"
             ],
             [
              0.2222222222222222,
              "#7201a8"
             ],
             [
              0.3333333333333333,
              "#9c179e"
             ],
             [
              0.4444444444444444,
              "#bd3786"
             ],
             [
              0.5555555555555556,
              "#d8576b"
             ],
             [
              0.6666666666666666,
              "#ed7953"
             ],
             [
              0.7777777777777778,
              "#fb9f3a"
             ],
             [
              0.8888888888888888,
              "#fdca26"
             ],
             [
              1,
              "#f0f921"
             ]
            ],
            "type": "heatmapgl"
           }
          ],
          "histogram": [
           {
            "marker": {
             "pattern": {
              "fillmode": "overlay",
              "size": 10,
              "solidity": 0.2
             }
            },
            "type": "histogram"
           }
          ],
          "histogram2d": [
           {
            "colorbar": {
             "outlinewidth": 0,
             "ticks": ""
            },
            "colorscale": [
             [
              0,
              "#0d0887"
             ],
             [
              0.1111111111111111,
              "#46039f"
             ],
             [
              0.2222222222222222,
              "#7201a8"
             ],
             [
              0.3333333333333333,
              "#9c179e"
             ],
             [
              0.4444444444444444,
              "#bd3786"
             ],
             [
              0.5555555555555556,
              "#d8576b"
             ],
             [
              0.6666666666666666,
              "#ed7953"
             ],
             [
              0.7777777777777778,
              "#fb9f3a"
             ],
             [
              0.8888888888888888,
              "#fdca26"
             ],
             [
              1,
              "#f0f921"
             ]
            ],
            "type": "histogram2d"
           }
          ],
          "histogram2dcontour": [
           {
            "colorbar": {
             "outlinewidth": 0,
             "ticks": ""
            },
            "colorscale": [
             [
              0,
              "#0d0887"
             ],
             [
              0.1111111111111111,
              "#46039f"
             ],
             [
              0.2222222222222222,
              "#7201a8"
             ],
             [
              0.3333333333333333,
              "#9c179e"
             ],
             [
              0.4444444444444444,
              "#bd3786"
             ],
             [
              0.5555555555555556,
              "#d8576b"
             ],
             [
              0.6666666666666666,
              "#ed7953"
             ],
             [
              0.7777777777777778,
              "#fb9f3a"
             ],
             [
              0.8888888888888888,
              "#fdca26"
             ],
             [
              1,
              "#f0f921"
             ]
            ],
            "type": "histogram2dcontour"
           }
          ],
          "mesh3d": [
           {
            "colorbar": {
             "outlinewidth": 0,
             "ticks": ""
            },
            "type": "mesh3d"
           }
          ],
          "parcoords": [
           {
            "line": {
             "colorbar": {
              "outlinewidth": 0,
              "ticks": ""
             }
            },
            "type": "parcoords"
           }
          ],
          "pie": [
           {
            "automargin": true,
            "type": "pie"
           }
          ],
          "scatter": [
           {
            "fillpattern": {
             "fillmode": "overlay",
             "size": 10,
             "solidity": 0.2
            },
            "type": "scatter"
           }
          ],
          "scatter3d": [
           {
            "line": {
             "colorbar": {
              "outlinewidth": 0,
              "ticks": ""
             }
            },
            "marker": {
             "colorbar": {
              "outlinewidth": 0,
              "ticks": ""
             }
            },
            "type": "scatter3d"
           }
          ],
          "scattercarpet": [
           {
            "marker": {
             "colorbar": {
              "outlinewidth": 0,
              "ticks": ""
             }
            },
            "type": "scattercarpet"
           }
          ],
          "scattergeo": [
           {
            "marker": {
             "colorbar": {
              "outlinewidth": 0,
              "ticks": ""
             }
            },
            "type": "scattergeo"
           }
          ],
          "scattergl": [
           {
            "marker": {
             "colorbar": {
              "outlinewidth": 0,
              "ticks": ""
             }
            },
            "type": "scattergl"
           }
          ],
          "scattermapbox": [
           {
            "marker": {
             "colorbar": {
              "outlinewidth": 0,
              "ticks": ""
             }
            },
            "type": "scattermapbox"
           }
          ],
          "scatterpolar": [
           {
            "marker": {
             "colorbar": {
              "outlinewidth": 0,
              "ticks": ""
             }
            },
            "type": "scatterpolar"
           }
          ],
          "scatterpolargl": [
           {
            "marker": {
             "colorbar": {
              "outlinewidth": 0,
              "ticks": ""
             }
            },
            "type": "scatterpolargl"
           }
          ],
          "scatterternary": [
           {
            "marker": {
             "colorbar": {
              "outlinewidth": 0,
              "ticks": ""
             }
            },
            "type": "scatterternary"
           }
          ],
          "surface": [
           {
            "colorbar": {
             "outlinewidth": 0,
             "ticks": ""
            },
            "colorscale": [
             [
              0,
              "#0d0887"
             ],
             [
              0.1111111111111111,
              "#46039f"
             ],
             [
              0.2222222222222222,
              "#7201a8"
             ],
             [
              0.3333333333333333,
              "#9c179e"
             ],
             [
              0.4444444444444444,
              "#bd3786"
             ],
             [
              0.5555555555555556,
              "#d8576b"
             ],
             [
              0.6666666666666666,
              "#ed7953"
             ],
             [
              0.7777777777777778,
              "#fb9f3a"
             ],
             [
              0.8888888888888888,
              "#fdca26"
             ],
             [
              1,
              "#f0f921"
             ]
            ],
            "type": "surface"
           }
          ],
          "table": [
           {
            "cells": {
             "fill": {
              "color": "#EBF0F8"
             },
             "line": {
              "color": "white"
             }
            },
            "header": {
             "fill": {
              "color": "#C8D4E3"
             },
             "line": {
              "color": "white"
             }
            },
            "type": "table"
           }
          ]
         },
         "layout": {
          "annotationdefaults": {
           "arrowcolor": "#2a3f5f",
           "arrowhead": 0,
           "arrowwidth": 1
          },
          "autotypenumbers": "strict",
          "coloraxis": {
           "colorbar": {
            "outlinewidth": 0,
            "ticks": ""
           }
          },
          "colorscale": {
           "diverging": [
            [
             0,
             "#8e0152"
            ],
            [
             0.1,
             "#c51b7d"
            ],
            [
             0.2,
             "#de77ae"
            ],
            [
             0.3,
             "#f1b6da"
            ],
            [
             0.4,
             "#fde0ef"
            ],
            [
             0.5,
             "#f7f7f7"
            ],
            [
             0.6,
             "#e6f5d0"
            ],
            [
             0.7,
             "#b8e186"
            ],
            [
             0.8,
             "#7fbc41"
            ],
            [
             0.9,
             "#4d9221"
            ],
            [
             1,
             "#276419"
            ]
           ],
           "sequential": [
            [
             0,
             "#0d0887"
            ],
            [
             0.1111111111111111,
             "#46039f"
            ],
            [
             0.2222222222222222,
             "#7201a8"
            ],
            [
             0.3333333333333333,
             "#9c179e"
            ],
            [
             0.4444444444444444,
             "#bd3786"
            ],
            [
             0.5555555555555556,
             "#d8576b"
            ],
            [
             0.6666666666666666,
             "#ed7953"
            ],
            [
             0.7777777777777778,
             "#fb9f3a"
            ],
            [
             0.8888888888888888,
             "#fdca26"
            ],
            [
             1,
             "#f0f921"
            ]
           ],
           "sequentialminus": [
            [
             0,
             "#0d0887"
            ],
            [
             0.1111111111111111,
             "#46039f"
            ],
            [
             0.2222222222222222,
             "#7201a8"
            ],
            [
             0.3333333333333333,
             "#9c179e"
            ],
            [
             0.4444444444444444,
             "#bd3786"
            ],
            [
             0.5555555555555556,
             "#d8576b"
            ],
            [
             0.6666666666666666,
             "#ed7953"
            ],
            [
             0.7777777777777778,
             "#fb9f3a"
            ],
            [
             0.8888888888888888,
             "#fdca26"
            ],
            [
             1,
             "#f0f921"
            ]
           ]
          },
          "colorway": [
           "#636efa",
           "#EF553B",
           "#00cc96",
           "#ab63fa",
           "#FFA15A",
           "#19d3f3",
           "#FF6692",
           "#B6E880",
           "#FF97FF",
           "#FECB52"
          ],
          "font": {
           "color": "#2a3f5f"
          },
          "geo": {
           "bgcolor": "white",
           "lakecolor": "white",
           "landcolor": "#E5ECF6",
           "showlakes": true,
           "showland": true,
           "subunitcolor": "white"
          },
          "hoverlabel": {
           "align": "left"
          },
          "hovermode": "closest",
          "mapbox": {
           "style": "light"
          },
          "paper_bgcolor": "white",
          "plot_bgcolor": "#E5ECF6",
          "polar": {
           "angularaxis": {
            "gridcolor": "white",
            "linecolor": "white",
            "ticks": ""
           },
           "bgcolor": "#E5ECF6",
           "radialaxis": {
            "gridcolor": "white",
            "linecolor": "white",
            "ticks": ""
           }
          },
          "scene": {
           "xaxis": {
            "backgroundcolor": "#E5ECF6",
            "gridcolor": "white",
            "gridwidth": 2,
            "linecolor": "white",
            "showbackground": true,
            "ticks": "",
            "zerolinecolor": "white"
           },
           "yaxis": {
            "backgroundcolor": "#E5ECF6",
            "gridcolor": "white",
            "gridwidth": 2,
            "linecolor": "white",
            "showbackground": true,
            "ticks": "",
            "zerolinecolor": "white"
           },
           "zaxis": {
            "backgroundcolor": "#E5ECF6",
            "gridcolor": "white",
            "gridwidth": 2,
            "linecolor": "white",
            "showbackground": true,
            "ticks": "",
            "zerolinecolor": "white"
           }
          },
          "shapedefaults": {
           "line": {
            "color": "#2a3f5f"
           }
          },
          "ternary": {
           "aaxis": {
            "gridcolor": "white",
            "linecolor": "white",
            "ticks": ""
           },
           "baxis": {
            "gridcolor": "white",
            "linecolor": "white",
            "ticks": ""
           },
           "bgcolor": "#E5ECF6",
           "caxis": {
            "gridcolor": "white",
            "linecolor": "white",
            "ticks": ""
           }
          },
          "title": {
           "x": 0.05
          },
          "xaxis": {
           "automargin": true,
           "gridcolor": "white",
           "linecolor": "white",
           "ticks": "",
           "title": {
            "standoff": 15
           },
           "zerolinecolor": "white",
           "zerolinewidth": 2
          },
          "yaxis": {
           "automargin": true,
           "gridcolor": "white",
           "linecolor": "white",
           "ticks": "",
           "title": {
            "standoff": 15
           },
           "zerolinecolor": "white",
           "zerolinewidth": 2
          }
         }
        },
        "title": {
         "text": "losses during training"
        },
        "xaxis": {
         "title": {
          "text": "epoch"
         }
        },
        "yaxis": {
         "title": {
          "text": "loss"
         }
        }
       }
      }
     },
     "metadata": {},
     "output_type": "display_data"
    }
   ],
   "source": [
    "# Visualize learning (training loss)\n",
    "import plotly.graph_objects as go\n",
    "from plotly.offline import iplot\n",
    "\n",
    "\n",
    "losses_float = [float(loss.cpu().detach().numpy()) for loss in losses] \n",
    "loss_indices = [i for i,l in enumerate(losses_float)] \n",
    "\n",
    "trace = go.Scatter(x = loss_indices, y = losses_float, mode = \"lines\")\n",
    "\n",
    "layout = go.Layout(title = \"losses during training\", xaxis=dict(title = \"epoch\"),\n",
    "                   yaxis = dict(title = \"loss\"))\n",
    "\n",
    "figure = go.Figure(data = [trace], layout=layout)\n",
    "\n",
    "iplot(figure)"
   ]
  },
  {
   "cell_type": "code",
   "execution_count": 98,
   "metadata": {},
   "outputs": [],
   "source": [
    "import pandas as pd \n",
    "\n",
    "# Analyze the results for one batch\n",
    "y_real = []\n",
    "y_pred = []\n",
    "with torch.no_grad():\n",
    "    model.eval()\n",
    "    for batch in train_loader:\n",
    "        pred = model(batch)\n",
    "        y_real.append(batch.y.tolist())\n",
    "        y_pred.append(pred.tolist())\n",
    "\n",
    "    y_pred = torch.reshape(torch.tensor(y_pred), (-1,1))\n",
    "    y_real = torch.reshape(torch.tensor(y_real), (-1,1))\n",
    "\n",
    "    y_pred = torch.squeeze(y_pred)\n",
    "    y_real = torch.squeeze(y_real)\n"
   ]
  },
  {
   "cell_type": "code",
   "execution_count": 99,
   "metadata": {},
   "outputs": [
    {
     "data": {
      "application/vnd.plotly.v1+json": {
       "config": {
        "linkText": "Export to plot.ly",
        "plotlyServerURL": "https://plot.ly",
        "showLink": false
       },
       "data": [
        {
         "mode": "markers",
         "type": "scatter",
         "x": [
          -3.809999942779541,
          -4.289999961853027,
          -7,
          -3.819999933242798,
          -9.84000015258789,
          -4.21999979019165,
          -5.510000228881836,
          -0.1599999964237213,
          -3.109999895095825,
          -1.3799999952316284,
          -1.6399999856948853,
          -8.40999984741211,
          -3.1500000953674316,
          -7.769999980926514,
          -1.4600000381469727,
          -6.75,
          -4.429999828338623,
          -9.649999618530273,
          1.7699999809265137,
          -2.2200000286102295,
          2,
          -6.400000095367432,
          -1.659999966621399,
          -3.130000114440918,
          -0.6800000071525574,
          -0.029999999329447746,
          -3.2200000286102295,
          -6.25,
          -0.14000000059604645,
          0.9300000071525574,
          -9.529999732971191,
          -2.450000047683716,
          2.299999952316284,
          -3.609999895095825,
          -2.109999895095825,
          -1.3600000143051147,
          -2.2899999618530273,
          -6.349999904632568,
          -4.699999809265137,
          -3.9200000762939453,
          1.5800000429153442,
          -5.849999904632568,
          -3.559999942779541,
          -4.590000152587891,
          -1.2400000095367432,
          -7.400000095367432,
          0.10000000149011612,
          -2.4800000190734863,
          -0.30000001192092896,
          -9.199999809265137,
          -4.130000114440918,
          -6.739999771118164,
          -8.84000015258789,
          -6.5,
          -9.510000228881836,
          -0.7699999809265137,
          -4.010000228881836,
          -11.850000381469727,
          -2.9200000762939453,
          -3.8399999141693115,
          -0.550000011920929,
          -7.980000019073486,
          -4.53000020980835,
          -4.619999885559082,
          -9.859999656677246,
          0.6800000071525574,
          -1.9600000381469727,
          -1.3899999856948853,
          -3.640000104904175,
          -5.909999847412109,
          -5.449999809265137,
          -9.3100004196167,
          -7.289999961853027,
          -7.809999942779541,
          -1.4500000476837158,
          -1.340000033378601,
          -4.090000152587891,
          -5.900000095367432,
          -5.53000020980835,
          -1.1200000047683716,
          -1.1200000047683716,
          -4.730000019073486,
          -4.679999828338623,
          -5.110000133514404,
          -4.590000152587891,
          -9.4399995803833,
          -2.4600000381469727,
          -5.039999961853027,
          -2.9200000762939453,
          -0.7900000214576721,
          -6.090000152587891,
          1.3200000524520874,
          -2.640000104904175,
          -5.210000038146973,
          -2.630000114440918,
          -8.180000305175781,
          -1.0800000429153442,
          -9.609999656677246,
          -6.159999847412109,
          -4.699999809265137,
          -5.909999847412109,
          -10.220000267028809,
          -12.640000343322754,
          -3.7899999618530273,
          -0.5299999713897705,
          1.159999966621399,
          -9.9399995803833,
          -7.630000114440918,
          -6,
          -0.5699999928474426,
          -3.0899999141693115,
          -2.2799999713897705,
          -5.710000038146973,
          -2.700000047683716,
          -4.289999961853027,
          -3.299999952316284,
          -9.619999885559082,
          -4.039999961853027,
          -18.170000076293945,
          -4.78000020980835,
          -3.4100000858306885,
          -10.079999923706055,
          -0.8500000238418579,
          -2.3299999237060547,
          1.5800000429153442,
          3.119999885559082,
          -4.78000020980835,
          2.059999942779541,
          -3.3499999046325684,
          -1.340000033378601,
          -2.380000114440918,
          -1.1399999856948853,
          -5.730000019073486,
          -2.130000114440918,
          -8.210000038146973,
          -2.640000104904175,
          -2.9800000190734863,
          -7.369999885559082,
          -3.450000047683716,
          0.25,
          -4.349999904632568,
          -6.340000152587891,
          -1.2699999809265137,
          -5.900000095367432,
          1.3799999952316284,
          -0.5600000023841858,
          -6.159999847412109,
          -5.260000228881836,
          -1.7400000095367432,
          -4.420000076293945,
          -1.1200000047683716,
          -4.420000076293945,
          -11.949999809265137,
          -16.920000076293945,
          -9.630000114440918,
          -0.800000011920929,
          0.07999999821186066,
          -0.7400000095367432,
          -5.039999961853027,
          -7.28000020980835,
          -2.2200000286102295,
          -4.769999980926514,
          -3.7300000190734863,
          -23.6200008392334,
          -5.570000171661377,
          1.0700000524520874,
          -4.909999847412109,
          2.559999942779541,
          -4.239999771118164,
          -1.9900000095367432,
          -2.450000047683716,
          -6.690000057220459,
          -4,
          -8.680000305175781,
          1.6799999475479126,
          -3.799999952316284,
          -3.299999952316284,
          -0.9900000095367432,
          -3.880000114440918,
          -6.920000076293945,
          -0.8299999833106995,
          -1.909999966621399,
          -1.0099999904632568,
          -4.400000095367432,
          -18.719999313354492,
          -4.210000038146973,
          -1.2100000381469727,
          -7.289999961853027,
          -6.880000114440918,
          -1.2799999713897705,
          -0.8600000143051147,
          -3.369999885559082,
          -10.170000076293945,
          -6.019999980926514,
          -6.5,
          -12.739999771118164,
          2,
          -0.6399999856948853,
          -4.019999980926514,
          -6.440000057220459,
          -9.520000457763672,
          -2.740000009536743,
          -9.300000190734863,
          -3.6700000762939453,
          -5.489999771118164,
          -3.0399999618530273,
          -5.260000228881836,
          -2.1500000953674316,
          -1.8799999952316284,
          -4.46999979019165,
          -3.8399999141693115,
          -3.25,
          -5.21999979019165,
          -0.5299999713897705,
          -6.269999980926514,
          -1.8300000429153442,
          -15.829999923706055,
          -0.47999998927116394,
          -9.279999732971191,
          -3.640000104904175,
          -2.259999990463257,
          -3.950000047683716,
          -0.8999999761581421,
          1.090000033378601,
          -1.2100000381469727,
          -4.610000133514404,
          -9.800000190734863,
          -9.710000038146973,
          -3.0399999618530273,
          -0.800000011920929,
          -3.880000114440918,
          0.14000000059604645,
          0.18000000715255737,
          -3.200000047683716,
          -8.84000015258789,
          -7.099999904632568,
          -2.549999952316284,
          -2.690000057220459,
          -4.380000114440918,
          -3.0999999046325684,
          -9.760000228881836,
          -1.100000023841858,
          -4.71999979019165,
          -6.960000038146973,
          -0.8999999761581421,
          2.7100000381469727,
          -6.099999904632568,
          1.7000000476837158,
          0.5600000023841858,
          -0.949999988079071,
          -3.4700000286102295,
          -3.930000066757202,
          -2.559999942779541,
          -7.670000076293945,
          -4.099999904632568,
          -3.1700000762939453,
          -6.190000057220459,
          -0.25,
          -4.949999809265137,
          -5.480000019073486,
          -5.800000190734863,
          -0.7799999713897705,
          -0.10999999940395355,
          -6.400000095367432,
          -3.640000104904175,
          2.8299999237060547,
          0.6000000238418579,
          1.2300000190734863,
          -6.130000114440918,
          -1.8899999856948853,
          -9.399999618530273,
          -2.7300000190734863,
          -5.739999771118164,
          -1.8200000524520874,
          -3.240000009536743,
          -4.5,
          -5.099999904632568,
          1.8300000429153442,
          -0.8999999761581421,
          -7.650000095367432,
          -2.880000114440918,
          -0.8299999833106995,
          2.299999952316284,
          -3.240000009536743,
          0.10000000149011612,
          1.0099999904632568,
          -9.34000015258789,
          -9.010000228881836,
          -2.2300000190734863,
          -5.489999771118164,
          -0.5899999737739563,
          -4.909999847412109,
          -3.440000057220459,
          0.75,
          -6.320000171661377,
          2.4800000190734863,
          -5.659999847412109,
          0.3400000035762787,
          2.880000114440918,
          -1.659999966621399,
          1.7899999618530273,
          -4.710000038146973,
          -4.869999885559082,
          -0.4000000059604645,
          -4.690000057220459,
          -7.429999828338623,
          2.930000066757202,
          2.109999895095825,
          -9.449999809265137,
          -0.7400000095367432,
          -10.640000343322754,
          -0.2199999988079071,
          0.5,
          -1.9299999475479126,
          -2.940000057220459,
          -10,
          -3.5199999809265137,
          -2.490000009536743,
          1.0700000524520874,
          -5.099999904632568,
          -2.859999895095825,
          -2.0999999046325684,
          -9.729999542236328,
          -1.690000057220459,
          -5.21999979019165,
          -3.7799999713897705,
          -4.150000095367432,
          -8.720000267028809,
          -8.260000228881836,
          -2.490000009536743,
          -6.619999885559082,
          -1.590000033378601,
          -0.8199999928474426,
          -0.9900000095367432,
          -1.309999942779541,
          -4.840000152587891,
          0.28999999165534973,
          -2.930000066757202,
          -3.0299999713897705,
          -2.4000000953674316,
          -4.610000133514404,
          -3.1500000953674316,
          -5.489999771118164,
          -7.190000057220459,
          -3.880000114440918,
          -2.7899999618530273,
          0.4000000059604645,
          -15.460000038146973,
          -7.579999923706055,
          -0.4399999976158142,
          -5.880000114440918,
          -2.440000057220459,
          2.880000114440918,
          -3.7100000381469727,
          -4.019999980926514,
          -6.78000020980835,
          -0.9800000190734863,
          -11.010000228881836,
          3.130000114440918,
          -4.289999961853027,
          -9.399999618530273,
          -4.449999809265137,
          1.4700000286102295,
          -0.10999999940395355,
          -1.9600000381469727,
          -4.820000171661377,
          -4.71999979019165,
          -1.399999976158142,
          -1.2899999618530273,
          -0.699999988079071,
          -3.5199999809265137,
          1.8300000429153442,
          -7.78000020980835,
          -3.5399999618530273,
          -2.490000009536743,
          -4.5,
          -3.75,
          -18.059999465942383,
          -2.819999933242798,
          -2.6700000762939453,
          -2.4000000953674316,
          -6.119999885559082,
          -2.890000104904175,
          -0.800000011920929,
          -0.25,
          -1.9500000476837158,
          -4.869999885559082,
          2.549999952316284,
          -3.430000066757202,
          1.2799999713897705,
          2.509999990463257,
          -2.680000066757202,
          -0.8399999737739563,
          0.05999999865889549,
          -0.8899999856948853,
          2.5199999809265137,
          -3.7100000381469727,
          2.0999999046325684,
          -4.440000057220459,
          -7.070000171661377,
          -2.3399999141693115,
          -0.47999998927116394,
          -1.9199999570846558,
          -2.490000009536743,
          -10.029999732971191,
          -5.460000038146973,
          -1.6100000143051147,
          -2.4700000286102295,
          2.3399999141693115,
          -4.050000190734863,
          -4.929999828338623,
          -2.2799999713897705,
          -3.6500000953674316,
          -2.369999885559082,
          0,
          -2.130000114440918,
          -6.690000057220459,
          -3.5199999809265137,
          -4.400000095367432,
          -5.230000019073486,
          -8.420000076293945,
          -4.230000019073486,
          -4.420000076293945,
          -4.389999866485596,
          -2.8299999237060547,
          -7.619999885559082,
          -2.559999942779541,
          -1.2300000190734863,
          -8.109999656677246,
          -9.130000114440918,
          -4.590000152587891,
          -4.269999980926514,
          -4.630000114440918,
          -3.2200000286102295,
          -2.299999952316284,
          -5,
          -4.690000057220459,
          -8.609999656677246,
          -4.369999885559082,
          1.309999942779541,
          2.509999990463257,
          -3.5,
          0.07999999821186066,
          -6.460000038146973,
          -2.7799999713897705,
          -6.789999961853027,
          0.8399999737739563,
          -8.699999809265137,
          -6.599999904632568,
          2.6700000762939453,
          -7.03000020980835,
          -1.100000023841858,
          -0.44999998807907104,
          -4.070000171661377,
          -14.210000038146973,
          -4.329999923706055,
          -2.819999933242798,
          -2.009999990463257,
          -7.659999847412109,
          -5.210000038146973,
          -25.469999313354492,
          2.559999942779541,
          -0.23000000417232513,
          -20.520000457763672,
          -1.1399999856948853,
          -3.4800000190734863,
          -5.179999828338623,
          -0.1599999964237213,
          -4.059999942779541,
          -2.869999885559082,
          -3.6500000953674316,
          -5.559999942779541,
          0.6700000166893005,
          -5.71999979019165,
          3.1600000858306885,
          -9.289999961853027,
          -6.199999809265137,
          -2.5299999713897705,
          -2.549999952316284,
          -3.880000114440918,
          -5.659999847412109,
          -16.43000030517578,
          -0.33000001311302185,
          1.309999942779541,
          -0.03999999910593033,
          -3.180000066757202,
          -3.9200000762939453,
          2.930000066757202,
          -1.4600000381469727,
          -9.300000190734863,
          -3.680000066757202,
          -3.119999885559082,
          -2.069999933242798,
          -2.4000000953674316,
          -2.2100000381469727,
          -6.210000038146973,
          1.590000033378601,
          -3.9000000953674316,
          -5.329999923706055,
          -2.7799999713897705,
          -4.119999885559082,
          -10.779999732971191,
          -0.4000000059604645,
          0.5199999809265137,
          -3.3399999141693115,
          -5.309999942779541,
          -1.7899999618530273,
          -2.75,
          -4.099999904632568,
          -2.490000009536743,
          -3.880000114440918,
          -4.860000133514404
         ],
         "y": [
          -4.920260429382324,
          -3.6113691329956055,
          -7.411774158477783,
          -3.153254508972168,
          -5.4065022468566895,
          -4.024106025695801,
          -6.640457630157471,
          -0.948949933052063,
          -3.3876500129699707,
          -2.36885404586792,
          -2.545685291290283,
          -6.780460834503174,
          -6.44270658493042,
          -6.672875881195068,
          -1.356728196144104,
          -8.083022117614746,
          -3.936427116394043,
          -8.948912620544434,
          -0.2808927297592163,
          -4.315104961395264,
          2.2896623611450195,
          -5.016366481781006,
          -2.9824535846710205,
          -5.143369197845459,
          -1.3077749013900757,
          -0.17580413818359375,
          -3.420863628387451,
          -6.049826145172119,
          -0.15187394618988037,
          1.2852743864059448,
          -10.429422378540039,
          -3.994229793548584,
          3.1470398902893066,
          -3.559784412384033,
          -4.139889717102051,
          -1.3438037633895874,
          -2.958652973175049,
          -4.572298526763916,
          -5.6330952644348145,
          -3.698089122772217,
          1.8196648359298706,
          -5.947938442230225,
          -5.254627704620361,
          -7.061717510223389,
          -1.4910627603530884,
          -6.7970805168151855,
          -0.8082319498062134,
          -2.422548770904541,
          -1.3670886754989624,
          -8.541813850402832,
          -2.01863431930542,
          -6.546684265136719,
          -6.940824031829834,
          -8.68188762664795,
          -8.348119735717773,
          -1.4086452722549438,
          -3.243042469024658,
          -9.811826705932617,
          -2.205962657928467,
          -5.219833850860596,
          -2.268679141998291,
          -10.343903541564941,
          -5.162877559661865,
          -2.980112314224243,
          -5.767333507537842,
          0.4704235792160034,
          -4.326406002044678,
          -1.7829478979110718,
          -4.228877067565918,
          -5.6878862380981445,
          -6.341088771820068,
          -4.754665851593018,
          -5.752720355987549,
          -5.2419514656066895,
          -2.092597484588623,
          -2.5648975372314453,
          -2.878601551055908,
          -6.543964862823486,
          -4.454316139221191,
          -1.5904985666275024,
          -1.2388132810592651,
          -4.685970783233643,
          -8.508453369140625,
          -3.9501185417175293,
          -3.885521411895752,
          -9.198899269104004,
          -2.968606472015381,
          -4.912055015563965,
          -3.924551486968994,
          -1.0878633260726929,
          -3.804914951324463,
          2.189857006072998,
          -3.764869213104248,
          -4.349634647369385,
          -2.4157896041870117,
          -5.495213985443115,
          -0.2862778902053833,
          -6.398470878601074,
          -4.2540106773376465,
          -6.167123317718506,
          -6.453298091888428,
          -6.583615779876709,
          -16.690757751464844,
          -3.082639694213867,
          -0.6978577375411987,
          1.60391366481781,
          -6.9218430519104,
          -5.91060209274292,
          -5.95337438583374,
          -0.6419929265975952,
          -3.4077773094177246,
          -4.160665988922119,
          -6.383049011230469,
          -2.5035934448242188,
          -7.286132335662842,
          -3.0842795372009277,
          -8.975444793701172,
          -3.4991965293884277,
          -14.248296737670898,
          -3.211059093475342,
          -4.361125946044922,
          -8.828804016113281,
          -0.8693479299545288,
          -0.19720327854156494,
          0.9093102216720581,
          2.038534164428711,
          -4.027652263641357,
          1.3325985670089722,
          -2.895993232727051,
          -1.6863435506820679,
          -1.898259162902832,
          -1.5402010679244995,
          -3.9346561431884766,
          -1.6342698335647583,
          -5.000640869140625,
          -3.718240261077881,
          -4.364631175994873,
          -6.747250556945801,
          -4.6719584465026855,
          -0.8585294485092163,
          -4.009777069091797,
          -6.997899055480957,
          0.3771153688430786,
          -3.6454343795776367,
          1.8546255826950073,
          0.186745285987854,
          -6.299325466156006,
          -6.664956569671631,
          -2.9865150451660156,
          -3.238588333129883,
          -2.0933303833007812,
          -3.5106310844421387,
          -8.53791618347168,
          -16.234359741210938,
          -6.799462795257568,
          -6.21990442276001,
          -0.16583454608917236,
          -1.1273921728134155,
          -5.530190944671631,
          -5.548545837402344,
          -2.1973602771759033,
          -4.929750919342041,
          -2.993401050567627,
          -21.9209041595459,
          -4.580234527587891,
          -0.9122127294540405,
          -5.419074535369873,
          2.799227714538574,
          -3.400524616241455,
          -0.3120781183242798,
          -4.912529468536377,
          -5.903324604034424,
          -4.170233249664307,
          -8.333317756652832,
          1.9317787885665894,
          -5.0518107414245605,
          -4.25115966796875,
          0.2312619686126709,
          -4.156394004821777,
          -4.624225616455078,
          -3.279740810394287,
          -3.203439712524414,
          -1.7692464590072632,
          -3.0028109550476074,
          -14.317791938781738,
          -2.9086594581604004,
          -0.7421385049819946,
          -6.053189277648926,
          -7.004603862762451,
          -0.49710679054260254,
          -1.100566029548645,
          -5.572661876678467,
          -8.915532112121582,
          -8.041419982910156,
          -4.191154956817627,
          -9.942811012268066,
          3.828634262084961,
          -0.5910454988479614,
          -4.965578079223633,
          -7.473074436187744,
          -8.814111709594727,
          -4.433775424957275,
          -9.587641716003418,
          -5.393423557281494,
          -4.942461967468262,
          -3.370736598968506,
          -6.265312671661377,
          -3.398073196411133,
          -2.551464557647705,
          -3.825467586517334,
          -5.068500995635986,
          -4.651302337646484,
          -4.624087810516357,
          -3.6002793312072754,
          -6.757686138153076,
          -3.2328624725341797,
          -14.266980171203613,
          0.08476746082305908,
          -6.936585903167725,
          -5.590242862701416,
          -3.302983283996582,
          -3.526449680328369,
          -1.207647442817688,
          -0.8510359525680542,
          -0.7482742071151733,
          -4.14117431640625,
          -5.81494140625,
          -7.136044025421143,
          -3.5901989936828613,
          -1.7200876474380493,
          -4.390553951263428,
          -0.06339085102081299,
          0.3011035919189453,
          -5.634731769561768,
          -7.963200092315674,
          -7.407899379730225,
          -3.788405418395996,
          -2.5856523513793945,
          -3.948434352874756,
          -5.127870559692383,
          -7.115694522857666,
          0.0357813835144043,
          -4.261122703552246,
          -8.55014419555664,
          -0.7572870254516602,
          2.7211084365844727,
          -4.438934326171875,
          0.8542822599411011,
          0.8103824853897095,
          -1.0025638341903687,
          -4.197504997253418,
          -5.082516670227051,
          -2.6489980220794678,
          -7.282179355621338,
          -4.734464168548584,
          -3.7685065269470215,
          -8.131680488586426,
          0.003971576690673828,
          -5.658385753631592,
          -3.988605499267578,
          -7.557404041290283,
          -0.26932060718536377,
          0.32081496715545654,
          -5.879003524780273,
          -2.9408512115478516,
          2.74527645111084,
          -0.5323187112808228,
          1.2587238550186157,
          -5.995678424835205,
          -2.153883457183838,
          -6.256433963775635,
          -2.1730542182922363,
          -7.27276086807251,
          -3.2254629135131836,
          -4.061497211456299,
          -4.3797173500061035,
          -2.4168362617492676,
          4.197038173675537,
          -0.5279420614242554,
          -6.566077709197998,
          -3.3150901794433594,
          -1.0558024644851685,
          3.6314358711242676,
          -3.5767502784729004,
          -0.8659011125564575,
          1.1856423616409302,
          -7.671940326690674,
          -8.83460521697998,
          -3.612679958343506,
          -6.797314643859863,
          -1.7733114957809448,
          -3.550215721130371,
          -3.5441036224365234,
          1.8415526151657104,
          -6.432861804962158,
          2.9424633979797363,
          -5.723499774932861,
          0.22771763801574707,
          3.247467517852783,
          -2.1599488258361816,
          1.650391936302185,
          -5.013277530670166,
          -4.903690338134766,
          -0.950173020362854,
          -4.149439334869385,
          -6.558389186859131,
          2.8627686500549316,
          0.6690083742141724,
          -5.904927730560303,
          -1.7033497095108032,
          -8.913536071777344,
          -2.318349838256836,
          0.2763221263885498,
          -1.5339072942733765,
          -4.713533401489258,
          -6.659430980682373,
          -3.782714366912842,
          -1.8920623064041138,
          -1.0624924898147583,
          -6.745498180389404,
          -4.261467933654785,
          -3.3337297439575195,
          -9.185192108154297,
          -4.397799968719482,
          -4.5842413902282715,
          -2.5688304901123047,
          -5.072566509246826,
          -8.25033187866211,
          -8.020966529846191,
          -3.9008989334106445,
          -5.795722484588623,
          -3.426600456237793,
          -3.313277244567871,
          -1.6610894203186035,
          -1.342474102973938,
          -5.224830150604248,
          -0.49586474895477295,
          -3.352924346923828,
          -3.308403491973877,
          -2.722295045852661,
          -5.452672958374023,
          -3.1400742530822754,
          -4.198399543762207,
          -6.193288803100586,
          -3.4112067222595215,
          -4.226600170135498,
          0.23795878887176514,
          -11.84196662902832,
          -6.817030429840088,
          -0.47346746921539307,
          -4.523719310760498,
          -4.543944835662842,
          2.500058174133301,
          -4.48978328704834,
          -5.598320484161377,
          -7.178171634674072,
          -2.1036691665649414,
          -7.882081985473633,
          2.296285629272461,
          -4.371212005615234,
          -9.636780738830566,
          -3.211059093475342,
          1.3482846021652222,
          0.40138232707977295,
          -2.187060832977295,
          -4.093066692352295,
          -3.5153751373291016,
          -2.066129207611084,
          -3.119553565979004,
          -2.5296554565429688,
          -3.693943977355957,
          1.7863279581069946,
          -8.378232955932617,
          -5.191007137298584,
          -3.3094277381896973,
          -3.9724740982055664,
          -4.58766508102417,
          -17.2642765045166,
          -3.221249580383301,
          -3.00396728515625,
          -2.1940808296203613,
          -5.831762790679932,
          -4.260756969451904,
          -0.9041937589645386,
          0.1957932710647583,
          -0.1856142282485962,
          -8.067928314208984,
          0.6587036848068237,
          -4.521978855133057,
          2.484893321990967,
          3.041713237762451,
          -4.303343296051025,
          -0.21966803073883057,
          0.2952321767807007,
          -2.93464994430542,
          2.438718318939209,
          -5.282177448272705,
          3.3916125297546387,
          -2.805614948272705,
          -8.308127403259277,
          -3.3401193618774414,
          -0.5282586812973022,
          -1.0612887144088745,
          -3.9903488159179688,
          -13.869935035705566,
          -4.0507636070251465,
          -3.423048496246338,
          -2.439563512802124,
          2.838130474090576,
          -5.12227201461792,
          -4.902299880981445,
          -3.6899399757385254,
          -3.107876777648926,
          -0.6256920099258423,
          0.5583372116088867,
          -1.6421023607254028,
          -6.230864524841309,
          -4.931113243103027,
          -3.7099242210388184,
          -4.199345111846924,
          -9.687553405761719,
          -3.355985164642334,
          -5.204310417175293,
          -2.3617238998413086,
          -3.5301437377929688,
          -8.003921508789062,
          -3.3276925086975098,
          -0.3125714063644409,
          -7.555610179901123,
          -6.816096305847168,
          -2.978363037109375,
          -5.18283224105835,
          -4.398571491241455,
          -4.000396728515625,
          -2.196206569671631,
          -4.503390312194824,
          -4.97053337097168,
          -7.898947238922119,
          -3.033010959625244,
          1.997073769569397,
          2.8046655654907227,
          -4.9271345138549805,
          1.0613411664962769,
          -5.359389781951904,
          -2.321506977081299,
          -4.179147720336914,
          1.3362833261489868,
          -6.953967571258545,
          -7.063740253448486,
          2.706542491912842,
          -5.7570366859436035,
          -1.5338116884231567,
          -1.3248242139816284,
          -3.8588786125183105,
          -9.907970428466797,
          -4.480319499969482,
          -2.3983936309814453,
          -3.3249220848083496,
          -8.109589576721191,
          -5.863945484161377,
          -21.645158767700195,
          2.346194267272949,
          -0.9609206914901733,
          -20.50420570373535,
          -1.0354188680648804,
          -3.123040199279785,
          -5.377268314361572,
          0.34016692638397217,
          -4.113407611846924,
          -7.038724422454834,
          -3.8487749099731445,
          -4.663696765899658,
          -0.371773362159729,
          -5.295483112335205,
          2.0944132804870605,
          -7.290421962738037,
          -5.5442352294921875,
          -4.478774070739746,
          -1.8538812398910522,
          -5.745858192443848,
          -5.325608730316162,
          -13.515292167663574,
          0.1959167718887329,
          1.8782414197921753,
          -1.0532151460647583,
          -3.6836791038513184,
          -5.3151631355285645,
          -1.4914947748184204,
          -1.6344729661941528,
          -8.541142463684082,
          -3.294888496398926,
          -3.7430763244628906,
          -2.9612574577331543,
          -2.8408315181732178,
          -2.675405979156494,
          -3.9584217071533203,
          1.0500746965408325,
          -5.0155487060546875,
          -5.252912521362305,
          -3.580341339111328,
          -5.540799617767334,
          -10.60152816772461,
          0.3445775508880615,
          0.12746691703796387,
          -3.6844348907470703,
          -6.057474136352539,
          -0.20225679874420166,
          -2.3852195739746094,
          -6.270172119140625,
          -3.7716684341430664,
          -2.893411159515381,
          -4.2361321449279785
         ]
        },
        {
         "marker": {
          "color": "blue"
         },
         "mode": "lines",
         "name": "Perfect Prediction",
         "type": "scatter",
         "x": [
          -25.469999313354492,
          3.1600000858306885
         ],
         "y": [
          -25.469999313354492,
          3.1600000858306885
         ]
        }
       ],
       "layout": {
        "template": {
         "data": {
          "bar": [
           {
            "error_x": {
             "color": "#2a3f5f"
            },
            "error_y": {
             "color": "#2a3f5f"
            },
            "marker": {
             "line": {
              "color": "#E5ECF6",
              "width": 0.5
             },
             "pattern": {
              "fillmode": "overlay",
              "size": 10,
              "solidity": 0.2
             }
            },
            "type": "bar"
           }
          ],
          "barpolar": [
           {
            "marker": {
             "line": {
              "color": "#E5ECF6",
              "width": 0.5
             },
             "pattern": {
              "fillmode": "overlay",
              "size": 10,
              "solidity": 0.2
             }
            },
            "type": "barpolar"
           }
          ],
          "carpet": [
           {
            "aaxis": {
             "endlinecolor": "#2a3f5f",
             "gridcolor": "white",
             "linecolor": "white",
             "minorgridcolor": "white",
             "startlinecolor": "#2a3f5f"
            },
            "baxis": {
             "endlinecolor": "#2a3f5f",
             "gridcolor": "white",
             "linecolor": "white",
             "minorgridcolor": "white",
             "startlinecolor": "#2a3f5f"
            },
            "type": "carpet"
           }
          ],
          "choropleth": [
           {
            "colorbar": {
             "outlinewidth": 0,
             "ticks": ""
            },
            "type": "choropleth"
           }
          ],
          "contour": [
           {
            "colorbar": {
             "outlinewidth": 0,
             "ticks": ""
            },
            "colorscale": [
             [
              0,
              "#0d0887"
             ],
             [
              0.1111111111111111,
              "#46039f"
             ],
             [
              0.2222222222222222,
              "#7201a8"
             ],
             [
              0.3333333333333333,
              "#9c179e"
             ],
             [
              0.4444444444444444,
              "#bd3786"
             ],
             [
              0.5555555555555556,
              "#d8576b"
             ],
             [
              0.6666666666666666,
              "#ed7953"
             ],
             [
              0.7777777777777778,
              "#fb9f3a"
             ],
             [
              0.8888888888888888,
              "#fdca26"
             ],
             [
              1,
              "#f0f921"
             ]
            ],
            "type": "contour"
           }
          ],
          "contourcarpet": [
           {
            "colorbar": {
             "outlinewidth": 0,
             "ticks": ""
            },
            "type": "contourcarpet"
           }
          ],
          "heatmap": [
           {
            "colorbar": {
             "outlinewidth": 0,
             "ticks": ""
            },
            "colorscale": [
             [
              0,
              "#0d0887"
             ],
             [
              0.1111111111111111,
              "#46039f"
             ],
             [
              0.2222222222222222,
              "#7201a8"
             ],
             [
              0.3333333333333333,
              "#9c179e"
             ],
             [
              0.4444444444444444,
              "#bd3786"
             ],
             [
              0.5555555555555556,
              "#d8576b"
             ],
             [
              0.6666666666666666,
              "#ed7953"
             ],
             [
              0.7777777777777778,
              "#fb9f3a"
             ],
             [
              0.8888888888888888,
              "#fdca26"
             ],
             [
              1,
              "#f0f921"
             ]
            ],
            "type": "heatmap"
           }
          ],
          "heatmapgl": [
           {
            "colorbar": {
             "outlinewidth": 0,
             "ticks": ""
            },
            "colorscale": [
             [
              0,
              "#0d0887"
             ],
             [
              0.1111111111111111,
              "#46039f"
             ],
             [
              0.2222222222222222,
              "#7201a8"
             ],
             [
              0.3333333333333333,
              "#9c179e"
             ],
             [
              0.4444444444444444,
              "#bd3786"
             ],
             [
              0.5555555555555556,
              "#d8576b"
             ],
             [
              0.6666666666666666,
              "#ed7953"
             ],
             [
              0.7777777777777778,
              "#fb9f3a"
             ],
             [
              0.8888888888888888,
              "#fdca26"
             ],
             [
              1,
              "#f0f921"
             ]
            ],
            "type": "heatmapgl"
           }
          ],
          "histogram": [
           {
            "marker": {
             "pattern": {
              "fillmode": "overlay",
              "size": 10,
              "solidity": 0.2
             }
            },
            "type": "histogram"
           }
          ],
          "histogram2d": [
           {
            "colorbar": {
             "outlinewidth": 0,
             "ticks": ""
            },
            "colorscale": [
             [
              0,
              "#0d0887"
             ],
             [
              0.1111111111111111,
              "#46039f"
             ],
             [
              0.2222222222222222,
              "#7201a8"
             ],
             [
              0.3333333333333333,
              "#9c179e"
             ],
             [
              0.4444444444444444,
              "#bd3786"
             ],
             [
              0.5555555555555556,
              "#d8576b"
             ],
             [
              0.6666666666666666,
              "#ed7953"
             ],
             [
              0.7777777777777778,
              "#fb9f3a"
             ],
             [
              0.8888888888888888,
              "#fdca26"
             ],
             [
              1,
              "#f0f921"
             ]
            ],
            "type": "histogram2d"
           }
          ],
          "histogram2dcontour": [
           {
            "colorbar": {
             "outlinewidth": 0,
             "ticks": ""
            },
            "colorscale": [
             [
              0,
              "#0d0887"
             ],
             [
              0.1111111111111111,
              "#46039f"
             ],
             [
              0.2222222222222222,
              "#7201a8"
             ],
             [
              0.3333333333333333,
              "#9c179e"
             ],
             [
              0.4444444444444444,
              "#bd3786"
             ],
             [
              0.5555555555555556,
              "#d8576b"
             ],
             [
              0.6666666666666666,
              "#ed7953"
             ],
             [
              0.7777777777777778,
              "#fb9f3a"
             ],
             [
              0.8888888888888888,
              "#fdca26"
             ],
             [
              1,
              "#f0f921"
             ]
            ],
            "type": "histogram2dcontour"
           }
          ],
          "mesh3d": [
           {
            "colorbar": {
             "outlinewidth": 0,
             "ticks": ""
            },
            "type": "mesh3d"
           }
          ],
          "parcoords": [
           {
            "line": {
             "colorbar": {
              "outlinewidth": 0,
              "ticks": ""
             }
            },
            "type": "parcoords"
           }
          ],
          "pie": [
           {
            "automargin": true,
            "type": "pie"
           }
          ],
          "scatter": [
           {
            "fillpattern": {
             "fillmode": "overlay",
             "size": 10,
             "solidity": 0.2
            },
            "type": "scatter"
           }
          ],
          "scatter3d": [
           {
            "line": {
             "colorbar": {
              "outlinewidth": 0,
              "ticks": ""
             }
            },
            "marker": {
             "colorbar": {
              "outlinewidth": 0,
              "ticks": ""
             }
            },
            "type": "scatter3d"
           }
          ],
          "scattercarpet": [
           {
            "marker": {
             "colorbar": {
              "outlinewidth": 0,
              "ticks": ""
             }
            },
            "type": "scattercarpet"
           }
          ],
          "scattergeo": [
           {
            "marker": {
             "colorbar": {
              "outlinewidth": 0,
              "ticks": ""
             }
            },
            "type": "scattergeo"
           }
          ],
          "scattergl": [
           {
            "marker": {
             "colorbar": {
              "outlinewidth": 0,
              "ticks": ""
             }
            },
            "type": "scattergl"
           }
          ],
          "scattermapbox": [
           {
            "marker": {
             "colorbar": {
              "outlinewidth": 0,
              "ticks": ""
             }
            },
            "type": "scattermapbox"
           }
          ],
          "scatterpolar": [
           {
            "marker": {
             "colorbar": {
              "outlinewidth": 0,
              "ticks": ""
             }
            },
            "type": "scatterpolar"
           }
          ],
          "scatterpolargl": [
           {
            "marker": {
             "colorbar": {
              "outlinewidth": 0,
              "ticks": ""
             }
            },
            "type": "scatterpolargl"
           }
          ],
          "scatterternary": [
           {
            "marker": {
             "colorbar": {
              "outlinewidth": 0,
              "ticks": ""
             }
            },
            "type": "scatterternary"
           }
          ],
          "surface": [
           {
            "colorbar": {
             "outlinewidth": 0,
             "ticks": ""
            },
            "colorscale": [
             [
              0,
              "#0d0887"
             ],
             [
              0.1111111111111111,
              "#46039f"
             ],
             [
              0.2222222222222222,
              "#7201a8"
             ],
             [
              0.3333333333333333,
              "#9c179e"
             ],
             [
              0.4444444444444444,
              "#bd3786"
             ],
             [
              0.5555555555555556,
              "#d8576b"
             ],
             [
              0.6666666666666666,
              "#ed7953"
             ],
             [
              0.7777777777777778,
              "#fb9f3a"
             ],
             [
              0.8888888888888888,
              "#fdca26"
             ],
             [
              1,
              "#f0f921"
             ]
            ],
            "type": "surface"
           }
          ],
          "table": [
           {
            "cells": {
             "fill": {
              "color": "#EBF0F8"
             },
             "line": {
              "color": "white"
             }
            },
            "header": {
             "fill": {
              "color": "#C8D4E3"
             },
             "line": {
              "color": "white"
             }
            },
            "type": "table"
           }
          ]
         },
         "layout": {
          "annotationdefaults": {
           "arrowcolor": "#2a3f5f",
           "arrowhead": 0,
           "arrowwidth": 1
          },
          "autotypenumbers": "strict",
          "coloraxis": {
           "colorbar": {
            "outlinewidth": 0,
            "ticks": ""
           }
          },
          "colorscale": {
           "diverging": [
            [
             0,
             "#8e0152"
            ],
            [
             0.1,
             "#c51b7d"
            ],
            [
             0.2,
             "#de77ae"
            ],
            [
             0.3,
             "#f1b6da"
            ],
            [
             0.4,
             "#fde0ef"
            ],
            [
             0.5,
             "#f7f7f7"
            ],
            [
             0.6,
             "#e6f5d0"
            ],
            [
             0.7,
             "#b8e186"
            ],
            [
             0.8,
             "#7fbc41"
            ],
            [
             0.9,
             "#4d9221"
            ],
            [
             1,
             "#276419"
            ]
           ],
           "sequential": [
            [
             0,
             "#0d0887"
            ],
            [
             0.1111111111111111,
             "#46039f"
            ],
            [
             0.2222222222222222,
             "#7201a8"
            ],
            [
             0.3333333333333333,
             "#9c179e"
            ],
            [
             0.4444444444444444,
             "#bd3786"
            ],
            [
             0.5555555555555556,
             "#d8576b"
            ],
            [
             0.6666666666666666,
             "#ed7953"
            ],
            [
             0.7777777777777778,
             "#fb9f3a"
            ],
            [
             0.8888888888888888,
             "#fdca26"
            ],
            [
             1,
             "#f0f921"
            ]
           ],
           "sequentialminus": [
            [
             0,
             "#0d0887"
            ],
            [
             0.1111111111111111,
             "#46039f"
            ],
            [
             0.2222222222222222,
             "#7201a8"
            ],
            [
             0.3333333333333333,
             "#9c179e"
            ],
            [
             0.4444444444444444,
             "#bd3786"
            ],
            [
             0.5555555555555556,
             "#d8576b"
            ],
            [
             0.6666666666666666,
             "#ed7953"
            ],
            [
             0.7777777777777778,
             "#fb9f3a"
            ],
            [
             0.8888888888888888,
             "#fdca26"
            ],
            [
             1,
             "#f0f921"
            ]
           ]
          },
          "colorway": [
           "#636efa",
           "#EF553B",
           "#00cc96",
           "#ab63fa",
           "#FFA15A",
           "#19d3f3",
           "#FF6692",
           "#B6E880",
           "#FF97FF",
           "#FECB52"
          ],
          "font": {
           "color": "#2a3f5f"
          },
          "geo": {
           "bgcolor": "white",
           "lakecolor": "white",
           "landcolor": "#E5ECF6",
           "showlakes": true,
           "showland": true,
           "subunitcolor": "white"
          },
          "hoverlabel": {
           "align": "left"
          },
          "hovermode": "closest",
          "mapbox": {
           "style": "light"
          },
          "paper_bgcolor": "white",
          "plot_bgcolor": "#E5ECF6",
          "polar": {
           "angularaxis": {
            "gridcolor": "white",
            "linecolor": "white",
            "ticks": ""
           },
           "bgcolor": "#E5ECF6",
           "radialaxis": {
            "gridcolor": "white",
            "linecolor": "white",
            "ticks": ""
           }
          },
          "scene": {
           "xaxis": {
            "backgroundcolor": "#E5ECF6",
            "gridcolor": "white",
            "gridwidth": 2,
            "linecolor": "white",
            "showbackground": true,
            "ticks": "",
            "zerolinecolor": "white"
           },
           "yaxis": {
            "backgroundcolor": "#E5ECF6",
            "gridcolor": "white",
            "gridwidth": 2,
            "linecolor": "white",
            "showbackground": true,
            "ticks": "",
            "zerolinecolor": "white"
           },
           "zaxis": {
            "backgroundcolor": "#E5ECF6",
            "gridcolor": "white",
            "gridwidth": 2,
            "linecolor": "white",
            "showbackground": true,
            "ticks": "",
            "zerolinecolor": "white"
           }
          },
          "shapedefaults": {
           "line": {
            "color": "#2a3f5f"
           }
          },
          "ternary": {
           "aaxis": {
            "gridcolor": "white",
            "linecolor": "white",
            "ticks": ""
           },
           "baxis": {
            "gridcolor": "white",
            "linecolor": "white",
            "ticks": ""
           },
           "bgcolor": "#E5ECF6",
           "caxis": {
            "gridcolor": "white",
            "linecolor": "white",
            "ticks": ""
           }
          },
          "title": {
           "x": 0.05
          },
          "xaxis": {
           "automargin": true,
           "gridcolor": "white",
           "linecolor": "white",
           "ticks": "",
           "title": {
            "standoff": 15
           },
           "zerolinecolor": "white",
           "zerolinewidth": 2
          },
          "yaxis": {
           "automargin": true,
           "gridcolor": "white",
           "linecolor": "white",
           "ticks": "",
           "title": {
            "standoff": 15
           },
           "zerolinecolor": "white",
           "zerolinewidth": 2
          }
         }
        },
        "title": {
         "text": "predicted values vs real values"
        },
        "xaxis": {
         "title": {
          "text": "real"
         }
        },
        "yaxis": {
         "title": {
          "text": "pred"
         }
        }
       }
      }
     },
     "metadata": {},
     "output_type": "display_data"
    }
   ],
   "source": [
    "trace = go.Scatter(x = y_real,y = y_pred, mode = \"markers\")\n",
    "line_trace = go.Scatter(x = [min(y_real), max(y_real)],\n",
    "                        y = [min(y_real), max(y_real)],\n",
    "                        mode = \"lines\",\n",
    "                        marker=dict(color='blue'),\n",
    "                        name='Perfect Prediction')\n",
    "layout = go.Layout(title = \"predicted values vs real values\", xaxis=dict(title = \"real\"),\n",
    "                   yaxis = dict(title = \"pred\"))\n",
    "\n",
    "figure = go.Figure(data = [trace, line_trace], layout=layout)\n",
    "\n",
    "iplot(figure)"
   ]
  },
  {
   "cell_type": "code",
   "execution_count": 81,
   "metadata": {},
   "outputs": [
    {
     "data": {
      "application/vnd.plotly.v1+json": {
       "config": {
        "linkText": "Export to plot.ly",
        "plotlyServerURL": "https://plot.ly",
        "showLink": false
       },
       "data": [
        {
         "mode": "markers",
         "type": "scatter",
         "x": [
          -3.8399999141693115,
          0.05999999865889549,
          -2.890000104904175,
          -4.929999828338623,
          -2.7899999618530273,
          -4.46999979019165,
          -5.489999771118164,
          -3.680000066757202,
          -4.070000171661377,
          -5.71999979019165,
          -3.809999942779541,
          2.109999895095825,
          -3.5199999809265137,
          1.8300000429153442,
          -2.9800000190734863,
          -9.300000190734863,
          -2.3399999141693115,
          -4.590000152587891,
          -0.800000011920929,
          -4.78000020980835,
          -5.900000095367432,
          -0.550000011920929,
          1.090000033378601,
          -3.8399999141693115,
          -4.050000190734863,
          -7.980000019073486,
          -4.820000171661377,
          -5.039999961853027,
          -3.6500000953674316,
          -2.0999999046325684,
          -4.630000114440918,
          -6.130000114440918,
          -9.619999885559082,
          -1.4500000476837158,
          -3.0899999141693115,
          -1.340000033378601,
          -8.720000267028809,
          -4.21999979019165,
          2.880000114440918,
          -0.7400000095367432,
          -2.009999990463257,
          -6.690000057220459,
          -3.9000000953674316,
          -4,
          -6.690000057220459,
          -2.4000000953674316,
          -2.130000114440918,
          -2.4000000953674316,
          2.559999942779541,
          -3.5199999809265137,
          -10,
          1.2300000190734863,
          -1.2699999809265137,
          -2.640000104904175,
          0.3400000035762787,
          -7,
          -9.520000457763672,
          -0.8299999833106995,
          1.5800000429153442,
          -4.71999979019165,
          -6.400000095367432,
          1.3200000524520874,
          -0.7400000095367432,
          -4.400000095367432,
          1.159999966621399,
          -3.930000066757202,
          -4.289999961853027,
          -7.769999980926514,
          -3.430000066757202,
          -4.610000133514404,
          -9.199999809265137,
          -15.829999923706055,
          -0.25,
          -4.590000152587891,
          -3.799999952316284,
          -2.259999990463257,
          -1.4600000381469727,
          -4.5,
          -6,
          -4.420000076293945,
          -2.940000057220459,
          2,
          -10.640000343322754,
          -2.490000009536743,
          -4.710000038146973,
          -2.369999885559082,
          2.880000114440918,
          -0.33000001311302185,
          -4.440000057220459,
          -0.47999998927116394,
          -4.269999980926514,
          -4.349999904632568,
          0.5,
          -8.699999809265137,
          0.5199999809265137,
          -4.769999980926514,
          -1.2899999618530273,
          -5.21999979019165,
          -1.1200000047683716,
          -8.84000015258789,
          -6.25,
          -7.289999961853027,
          -4.619999885559082,
          2.3399999141693115,
          -20.520000457763672,
          1.4700000286102295,
          -4.909999847412109,
          -4.400000095367432,
          -6.739999771118164,
          -9.760000228881836,
          -4.099999904632568,
          -4.019999980926514,
          -2.2799999713897705,
          -5.099999904632568,
          -6.920000076293945,
          -11.949999809265137,
          -2.6700000762939453,
          -3.5399999618530273,
          -5.110000133514404,
          -4.699999809265137,
          -2.4800000190734863,
          -2.75,
          -6.5,
          -1.8899999856948853,
          -6.159999847412109,
          -3.4700000286102295,
          -1.6100000143051147,
          -1.340000033378601,
          -3.4800000190734863,
          -3.950000047683716,
          -3.609999895095825,
          -1.6399999856948853,
          -2.690000057220459,
          -5.909999847412109,
          -1.3600000143051147,
          -0.9900000095367432,
          -0.8299999833106995,
          -7.400000095367432,
          -5.849999904632568,
          -6.78000020980835,
          -6.190000057220459,
          -2.299999952316284,
          -1.2100000381469727,
          2.299999952316284,
          -4.289999961853027,
          -3.640000104904175,
          -1.9600000381469727,
          -2.819999933242798,
          -0.5899999737739563,
          -0.6399999856948853,
          -2.869999885559082,
          -4.369999885559082,
          -2.130000114440918,
          -1.2300000190734863,
          -2.630000114440918,
          -4.590000152587891,
          0.25,
          -0.44999998807907104,
          -2.880000114440918,
          -3.450000047683716,
          -14.210000038146973,
          -2.109999895095825,
          -6.75,
          -3.7100000381469727,
          3.130000114440918,
          -5.909999847412109,
          -5.460000038146973,
          -4.380000114440918,
          -3.3499999046325684,
          0.75,
          -5.260000228881836,
          -12.739999771118164,
          -4.099999904632568,
          1.2799999713897705,
          -7.670000076293945,
          -4.699999809265137,
          -3.3399999141693115,
          -1.3799999952316284,
          -3.6500000953674316,
          -0.1599999964237213,
          -1.100000023841858,
          -3.7300000190734863,
          -0.9800000190734863,
          -0.800000011920929,
          -5.800000190734863,
          -6.960000038146973,
          2.0999999046325684,
          -0.5699999928474426,
          -0.8500000238418579,
          -0.7699999809265137,
          -12.640000343322754,
          -0.949999988079071,
          -4.389999866485596,
          2.509999990463257,
          -4.429999828338623,
          -0.4399999976158142,
          -3.640000104904175,
          -5.510000228881836,
          -9.510000228881836,
          -7.630000114440918,
          -18.059999465942383,
          -1.2400000095367432,
          0,
          -4.059999942779541,
          -5.489999771118164,
          -6.599999904632568,
          -5.900000095367432,
          -2.2200000286102295,
          1.590000033378601,
          2.059999942779541,
          -2.819999933242798,
          -2.8299999237060547,
          -3.180000066757202,
          -1.399999976158142,
          -4.329999923706055,
          -3.880000114440918,
          -0.14000000059604645,
          -8.680000305175781,
          -9.449999809265137,
          -2.069999933242798,
          -2.1500000953674316,
          2.6700000762939453,
          -3.25,
          0.07999999821186066,
          -0.5,
          -6.119999885559082,
          -3.1500000953674316,
          -3.119999885559082,
          -0.8999999761581421,
          -5.730000019073486,
          -4.53000020980835,
          -2.7300000190734863,
          -7.659999847412109,
          -9.859999656677246,
          -7.070000171661377,
          -0.30000001192092896,
          -2.7799999713897705,
          1.7899999618530273,
          -1.1399999856948853,
          -8.109999656677246,
          -5.329999923706055,
          3.1600000858306885,
          1.0099999904632568,
          -5.260000228881836,
          -1.690000057220459,
          -0.029999999329447746,
          -0.8600000143051147,
          -3.7100000381469727,
          -9.4399995803833,
          -0.03999999910593033,
          -7.289999961853027,
          0.5600000023841858,
          -9.9399995803833,
          -6.880000114440918,
          -3.559999942779541,
          -4.909999847412109,
          2.8299999237060547,
          -11.850000381469727,
          -0.699999988079071,
          -3.75,
          -3.200000047683716,
          -0.47999998927116394,
          -2.740000009536743,
          -0.8199999928474426,
          -2.549999952316284,
          -9.649999618530273,
          -3.880000114440918,
          -9.300000190734863,
          -1.8300000429153442,
          -7.28000020980835,
          -6.199999809265137,
          2.549999952316284,
          -4.78000020980835,
          -2.450000047683716,
          -2.2100000381469727,
          -11.010000228881836,
          -7.099999904632568,
          -7.579999923706055,
          -8.40999984741211,
          -6.159999847412109,
          -10.170000076293945,
          1.8300000429153442,
          -1.0099999904632568,
          -2.4700000286102295,
          -4.420000076293945,
          -5.21999979019165,
          -7.78000020980835,
          -2.549999952316284,
          -2.559999942779541,
          -7.650000095367432,
          -0.5600000023841858,
          -9.010000228881836,
          2.7100000381469727,
          -9.800000190734863,
          -23.6200008392334,
          -1.1399999856948853,
          -5.880000114440918,
          -4.289999961853027,
          0.10000000149011612,
          0.9300000071525574,
          -10.079999923706055,
          -15.460000038146973,
          -6.320000171661377,
          -3.819999933242798,
          -6.269999980926514,
          -9.529999732971191,
          -3.640000104904175,
          2.559999942779541,
          -3.9200000762939453,
          -8.420000076293945,
          2.930000066757202,
          -5.739999771118164,
          -2.5299999713897705,
          -0.23000000417232513,
          1.7699999809265137,
          -6.340000152587891,
          -2.700000047683716,
          -1.9900000095367432,
          0.10000000149011612,
          2.4800000190734863,
          -2.9200000762939453,
          -7.190000057220459,
          -1.2799999713897705,
          -0.6800000071525574,
          -5.210000038146973,
          -1.0800000429153442,
          -3.7899999618530273,
          -0.800000011920929,
          -9.729999542236328,
          -0.25,
          -0.8999999761581421,
          -5.480000019073486,
          -1.7899999618530273,
          -9.34000015258789,
          -2.7799999713897705,
          -0.1599999964237213,
          -1.3899999856948853,
          -5.659999847412109,
          -1.9199999570846558,
          -7.429999828338623,
          -4.679999828338623,
          -16.43000030517578,
          2.5199999809265137,
          -8.84000015258789,
          -4.119999885559082,
          -0.10999999940395355,
          0.6700000166893005,
          -3.1700000762939453,
          -4.130000114440918,
          -3.369999885559082,
          -5.489999771118164,
          -9.630000114440918,
          -7.619999885559082,
          -4.010000228881836,
          -2.4600000381469727,
          1.6799999475479126,
          -3.2200000286102295,
          1.3799999952316284,
          3.119999885559082,
          -9.289999961853027,
          -9.84000015258789,
          -3.0999999046325684,
          -4.869999885559082,
          -4.690000057220459,
          -4.019999980926514,
          -1.659999966621399,
          -1.1200000047683716,
          -3.240000009536743,
          -10.220000267028809,
          -6.019999980926514,
          -3.4100000858306885,
          -4.210000038146973,
          -4.610000133514404,
          -7.809999942779541,
          -5.449999809265137,
          -1.590000033378601,
          -4.869999885559082,
          -0.7799999713897705,
          -18.170000076293945,
          0.8399999737739563,
          -1.9500000476837158,
          1.5800000429153442,
          -9.3100004196167,
          -6.789999961853027,
          2.509999990463257,
          1.309999942779541,
          -3.1500000953674316,
          -4.840000152587891,
          -0.7900000214576721,
          -3.299999952316284,
          -3.5199999809265137,
          -5.570000171661377,
          -1.7400000095367432,
          -0.4000000059604645,
          1.0700000524520874,
          -3.299999952316284,
          -2.490000009536743,
          -5.53000020980835,
          -9.130000114440918,
          -3.0399999618530273,
          -4.150000095367432,
          -2.2799999713897705,
          -2.680000066757202,
          -1.1200000047683716,
          -4.690000057220459,
          -8.210000038146973,
          -2.490000009536743,
          -10.029999732971191,
          -2.859999895095825,
          -6.5,
          0.6000000238418579,
          -6.349999904632568,
          2,
          -4.5,
          1.309999942779541,
          -5.179999828338623,
          -9.399999618530273,
          -6.460000038146973,
          -3.6700000762939453,
          -1.8200000524520874,
          -3.7799999713897705,
          1.0700000524520874,
          2.299999952316284,
          0.14000000059604645,
          -3.0399999618530273,
          -25.469999313354492,
          -5.559999942779541,
          -2.9200000762939453,
          -2.2200000286102295,
          -5.210000038146973,
          -4.039999961853027,
          -4.730000019073486,
          -8.609999656677246,
          -3.880000114440918,
          -2.559999942779541,
          -2.380000114440918,
          -0.5299999713897705,
          -5.309999942779541,
          -2.450000047683716,
          -1.309999942779541,
          -4.239999771118164,
          -2.440000057220459,
          -10.779999732971191,
          -2.2899999618530273,
          -2.2300000190734863,
          -4.949999809265137,
          -1.659999966621399,
          -8.180000305175781,
          0.28999999165534973,
          -3.880000114440918,
          -6.090000152587891,
          -6.210000038146973,
          -3.109999895095825,
          -3.880000114440918,
          -2.930000066757202,
          -7.369999885559082,
          -0.4000000059604645,
          -2.4000000953674316,
          -4.71999979019165,
          -9.399999618530273,
          -2.3299999237060547,
          -2.640000104904175,
          -4.860000133514404,
          -3.240000009536743,
          -1.4600000381469727,
          -2.490000009536743,
          -1.2100000381469727,
          -4.230000019073486,
          -5,
          -0.9900000095367432,
          -0.5299999713897705,
          -8.260000228881836,
          -5.039999961853027,
          -0.8899999856948853,
          -1.8799999952316284,
          -6.440000057220459,
          -1.909999966621399,
          2.930000066757202,
          -7.03000020980835,
          -1.100000023841858,
          -1.9299999475479126,
          0.6800000071525574,
          -9.710000038146973,
          -5.099999904632568,
          -1.9600000381469727,
          -3.130000114440918,
          -5.710000038146973,
          0.4000000059604645,
          -0.8999999761581421,
          -0.8399999737739563,
          -6.400000095367432,
          1.7000000476837158,
          0.07999999821186066,
          -9.609999656677246,
          -4.449999809265137,
          -6.099999904632568,
          -3.0299999713897705,
          0.18000000715255737,
          -3.2200000286102295,
          -3.5,
          -4.420000076293945,
          -6.619999885559082,
          -5.659999847412109,
          -9.279999732971191,
          -16.920000076293945,
          -5.230000019073486,
          -0.2199999988079071,
          -0.10999999940395355,
          -3.440000057220459,
          -18.719999313354492,
          -2.490000009536743,
          -3.9200000762939453
         ],
         "y": [
          -4.624180793762207,
          -0.05966109037399292,
          -4.194100856781006,
          -4.37343692779541,
          -4.453572750091553,
          -3.5951955318450928,
          -5.509422302246094,
          -2.8070757389068604,
          -3.205780506134033,
          -4.769018173217773,
          -3.8414626121520996,
          1.233018159866333,
          -4.021514415740967,
          0.6864796280860901,
          -3.078531503677368,
          -9.821429252624512,
          -3.734227418899536,
          -4.2508978843688965,
          -0.8812770247459412,
          -2.9761533737182617,
          -6.227346420288086,
          -2.176030397415161,
          -0.02927631139755249,
          -2.123035192489624,
          -3.108920097351074,
          -10.34081745147705,
          -4.334196090698242,
          -5.423650741577148,
          -3.1699111461639404,
          -2.8485066890716553,
          -4.889280796051025,
          -5.877740383148193,
          -9.045182228088379,
          -2.1189358234405518,
          -2.779806137084961,
          -1.9880149364471436,
          -7.050982475280762,
          -4.253293514251709,
          3.088719129562378,
          0.26087361574172974,
          -3.2222230434417725,
          -5.2239227294921875,
          -4.168098449707031,
          -4.854995250701904,
          -7.2584099769592285,
          -2.505009174346924,
          -2.527392625808716,
          -2.369361639022827,
          2.941147565841675,
          -1.8891253471374512,
          -7.392940998077393,
          2.0134570598602295,
          -1.8901543617248535,
          -4.642002105712891,
          -0.1614643931388855,
          -8.415658950805664,
          -8.83536434173584,
          -0.9544486403465271,
          0.3550342917442322,
          -4.03326940536499,
          -5.256540298461914,
          0.9693006873130798,
          -0.015237510204315186,
          -3.1986167430877686,
          1.79990816116333,
          -4.515619277954102,
          -4.192293167114258,
          -7.514324188232422,
          -3.928055763244629,
          -4.908603191375732,
          -6.249184608459473,
          -14.959403991699219,
          0.14912062883377075,
          -5.4093732833862305,
          -5.364474296569824,
          -4.073732376098633,
          -1.390841007232666,
          -3.0131781101226807,
          -4.368028163909912,
          -2.7077789306640625,
          -3.8823912143707275,
          2.708502769470215,
          -9.577781677246094,
          -2.3887317180633545,
          -5.225955009460449,
          -0.40619224309921265,
          2.484917640686035,
          -0.3175193667411804,
          -8.014225959777832,
          0.6492202877998352,
          -4.322887420654297,
          -4.053244590759277,
          -1.0788819789886475,
          -6.056005477905273,
          -0.21648424863815308,
          -3.9948971271514893,
          -4.626318454742432,
          -4.635585308074951,
          -1.5665993690490723,
          -7.431854724884033,
          -5.726834297180176,
          -7.709867477416992,
          -4.63663387298584,
          3.6540048122406006,
          -22.108844757080078,
          1.3321475982666016,
          -4.932206630706787,
          -3.7263219356536865,
          -8.49057674407959,
          -7.816615581512451,
          -5.240973949432373,
          -4.909103870391846,
          -3.503371477127075,
          -5.136833667755127,
          -7.427894592285156,
          -9.96148681640625,
          -3.372049570083618,
          -4.1725873947143555,
          -4.393716335296631,
          -7.05499792098999,
          -2.854398250579834,
          -1.1088948249816895,
          -7.032942771911621,
          -0.8172475695610046,
          -6.173521041870117,
          -3.684506893157959,
          -3.2142174243927,
          -1.494356632232666,
          -2.3263211250305176,
          -3.6847190856933594,
          -3.2659671306610107,
          -1.702350378036499,
          -2.018575668334961,
          -4.785589694976807,
          -1.2778515815734863,
          -1.2573329210281372,
          -3.3251144886016846,
          -6.725873947143555,
          -6.475610733032227,
          -6.498669624328613,
          -9.957864761352539,
          -1.9186838865280151,
          -1.4253969192504883,
          2.751915216445923,
          -5.309854507446289,
          -3.3763697147369385,
          -1.4312188625335693,
          -2.3609390258789062,
          -1.4329428672790527,
          0.44227415323257446,
          -5.116794586181641,
          -4.6670427322387695,
          -1.907395601272583,
          0.2141011357307434,
          -2.3289737701416016,
          -4.7568769454956055,
          -0.3428635001182556,
          -0.8288628458976746,
          -3.9600319862365723,
          -5.269918441772461,
          -12.184830665588379,
          -3.6754863262176514,
          -8.093001365661621,
          -3.7848222255706787,
          2.407845973968506,
          -5.776165962219238,
          -5.258010387420654,
          -2.534473180770874,
          -3.2229530811309814,
          2.2107436656951904,
          -5.361839771270752,
          -10.879433631896973,
          -4.487029552459717,
          2.2439815998077393,
          -6.957667350769043,
          -6.413026809692383,
          -3.1873910427093506,
          -1.7912776470184326,
          -3.167532205581665,
          -0.7432562708854675,
          -0.9511024355888367,
          -2.7469706535339355,
          -1.243830919265747,
          -0.8421798348426819,
          -6.488229274749756,
          -7.1096906661987305,
          2.9139158725738525,
          -2.1198530197143555,
          -0.5280171036720276,
          -0.8231279253959656,
          -15.811543464660645,
          -0.5222952961921692,
          -3.600346326828003,
          2.944584369659424,
          -4.435496807098389,
          -1.8204777240753174,
          -1.8086786270141602,
          -7.97006893157959,
          -8.761064529418945,
          -5.57663106918335,
          -18.457351684570312,
          -1.7186765670776367,
          0.8337097764015198,
          -2.7563893795013428,
          -6.554781436920166,
          -7.1848649978637695,
          -6.145079135894775,
          -3.3444509506225586,
          1.0983412265777588,
          0.44869643449783325,
          -2.4533724784851074,
          -3.991304874420166,
          -4.01289701461792,
          -0.826963484287262,
          -3.311958074569702,
          -3.4178833961486816,
          0.01847440004348755,
          -6.921619415283203,
          -9.277827262878418,
          -3.1351425647735596,
          -3.6659910678863525,
          2.5652215480804443,
          -4.287458896636963,
          -0.3484184145927429,
          0.33976632356643677,
          -5.924053192138672,
          -2.7917838096618652,
          -3.2806761264801025,
          -0.24102503061294556,
          -4.721522808074951,
          -4.0327467918396,
          -2.6038222312927246,
          -8.532052040100098,
          -6.101251602172852,
          -7.158846855163574,
          -0.2411746382713318,
          -2.9995105266571045,
          -0.8594633936882019,
          -0.8036366701126099,
          -7.929788589477539,
          -4.297887802124023,
          2.3330352306365967,
          1.5902063846588135,
          -5.720170974731445,
          -2.6552207469940186,
          0.4833441376686096,
          -1.2847850322723389,
          -4.415860176086426,
          -9.07187557220459,
          -1.229750633239746,
          -6.85444450378418,
          1.4619240760803223,
          -9.763184547424316,
          -7.826921463012695,
          -4.16774320602417,
          -6.036770343780518,
          3.554870843887329,
          -9.873043060302734,
          -1.9047536849975586,
          -4.377216339111328,
          -3.766843318939209,
          0.012993395328521729,
          -2.45560884475708,
          -1.5405302047729492,
          -3.5016047954559326,
          -9.681195259094238,
          -4.909702301025391,
          -7.319311141967773,
          -2.598493814468384,
          -5.759467124938965,
          -5.971615791320801,
          1.0403687953948975,
          -4.21003532409668,
          -3.730003595352173,
          -2.5866963863372803,
          -9.456746101379395,
          -7.532064437866211,
          -6.3667144775390625,
          -8.079194068908691,
          -4.7627458572387695,
          -10.319823265075684,
          2.1238741874694824,
          -2.157843828201294,
          -2.1064512729644775,
          -3.654744863510132,
          -4.66089391708374,
          -7.3283233642578125,
          -1.6948394775390625,
          -2.6585185527801514,
          -6.0928263664245605,
          0.30731135606765747,
          -7.423479080200195,
          1.5001139640808105,
          -5.932685375213623,
          -21.399261474609375,
          -1.8108208179473877,
          -3.9085967540740967,
          -5.015980243682861,
          -1.0406084060668945,
          0.29771608114242554,
          -7.904566287994385,
          -10.922309875488281,
          -6.943804740905762,
          -3.918933868408203,
          -6.381465435028076,
          -10.026122093200684,
          -4.262166976928711,
          3.027003049850464,
          -4.1042938232421875,
          -6.804457664489746,
          -0.021019399166107178,
          -8.415542602539062,
          -3.1204593181610107,
          -1.33976149559021,
          1.047588586807251,
          -7.376715183258057,
          -2.1390206813812256,
          -0.9651071429252625,
          -1.3541860580444336,
          2.6683084964752197,
          -2.5356452465057373,
          -12.000743865966797,
          -0.8484689593315125,
          -0.6150656342506409,
          -5.293960094451904,
          -1.355619192123413,
          -3.225618362426758,
          -3.8196065425872803,
          -9.315214157104492,
          -0.5685202479362488,
          -0.4035646319389343,
          -5.111447334289551,
          -1.6625111103057861,
          -8.456779479980469,
          -2.79350209236145,
          0.42545467615127563,
          -1.6456995010375977,
          -5.755218505859375,
          -2.5483617782592773,
          -8.124258995056152,
          -7.731203079223633,
          -12.640297889709473,
          2.9613287448883057,
          -7.615874290466309,
          -4.2913618087768555,
          -0.8620731830596924,
          -0.2475910782814026,
          -3.4043068885803223,
          -1.8330347537994385,
          -4.827862739562988,
          -5.34849214553833,
          -8.695552825927734,
          -10.922463417053223,
          -4.848636150360107,
          -2.1766257286071777,
          0.5156974196434021,
          -3.2884950637817383,
          0.8323739171028137,
          3.5301167964935303,
          -8.11316204071045,
          -8.136517524719238,
          -4.247623443603516,
          -6.857141494750977,
          -5.405958652496338,
          -4.60137939453125,
          -2.784437894821167,
          -0.933617115020752,
          -3.520031690597534,
          -6.535857200622559,
          -9.098291397094727,
          -3.7588627338409424,
          -3.5813655853271484,
          -2.3948490619659424,
          -6.449926853179932,
          -5.819291591644287,
          -2.876887083053589,
          -6.502265930175781,
          -2.695720911026001,
          -14.576226234436035,
          0.8438647389411926,
          -1.2878401279449463,
          0.3486185669898987,
          -5.086706638336182,
          -8.720734596252441,
          2.8837106227874756,
          0.8035516142845154,
          -4.356247425079346,
          -6.502598762512207,
          -0.21524041891098022,
          -2.401520252227783,
          -4.55565881729126,
          -5.014435291290283,
          -2.111715316772461,
          -1.4943864345550537,
          -0.39337867498397827,
          -3.625166893005371,
          -3.82926344871521,
          -4.91522216796875,
          -8.999198913574219,
          -3.2703146934509277,
          -4.458914279937744,
          -2.515547037124634,
          -3.0639305114746094,
          -1.4592955112457275,
          -4.778873920440674,
          -7.018021583557129,
          -2.6955418586730957,
          -12.973824501037598,
          -2.583873987197876,
          -5.922276496887207,
          0.2368813157081604,
          -5.097017765045166,
          1.8308541774749756,
          -3.259796380996704,
          0.7949159741401672,
          -5.079341411590576,
          -6.265271186828613,
          -5.54069185256958,
          -4.952443599700928,
          -1.8983707427978516,
          -2.955807685852051,
          0.12107259035110474,
          4.216217994689941,
          -0.34360450506210327,
          -4.139932155609131,
          -21.638751983642578,
          -5.155471324920654,
          -3.468447208404541,
          -1.8690717220306396,
          -4.441703796386719,
          -4.260711193084717,
          -3.7365591526031494,
          -6.993793487548828,
          -3.3774755001068115,
          -3.7948715686798096,
          -2.8605964183807373,
          -2.0055172443389893,
          -4.878274917602539,
          -4.2922563552856445,
          -2.0096771717071533,
          -3.6915981769561768,
          -3.828763246536255,
          -6.762146949768066,
          -3.233126640319824,
          -2.2053487300872803,
          -4.469842433929443,
          -1.3033101558685303,
          -6.827747344970703,
          0.033319294452667236,
          -2.479149103164673,
          -4.369846820831299,
          -4.390830039978027,
          -3.328094720840454,
          -3.4200143814086914,
          -2.796950578689575,
          -6.581040382385254,
          -0.08858174085617065,
          -1.7293434143066406,
          -4.369540691375732,
          -9.672938346862793,
          -0.6441485285758972,
          -5.072924613952637,
          -4.269002437591553,
          -3.3984434604644775,
          -0.24318283796310425,
          -1.0886085033416748,
          -1.432835578918457,
          -3.705378293991089,
          -3.4769227504730225,
          -2.492798089981079,
          -1.6913793087005615,
          -9.96576976776123,
          -7.691648483276367,
          -2.25569748878479,
          -1.2457501888275146,
          -5.741790294647217,
          -2.646641731262207,
          2.717355966567993,
          -7.976568222045898,
          -2.201044797897339,
          -2.4681546688079834,
          0.7847546935081482,
          -7.449403762817383,
          -6.372622489929199,
          -2.0238561630249023,
          -6.047308921813965,
          -4.124790668487549,
          1.8397748470306396,
          -1.0957465171813965,
          0.599933922290802,
          -5.743675231933594,
          0.9478222727775574,
          0.015664398670196533,
          -8.061336517333984,
          -4.21003532409668,
          -6.029053688049316,
          -3.8542776107788086,
          -0.10951250791549683,
          -2.542518377304077,
          -5.777404308319092,
          -3.571540117263794,
          -5.565545082092285,
          -4.925500392913818,
          -7.787619590759277,
          -16.864076614379883,
          -4.368044853210449,
          0.8580709099769592,
          1.0417053699493408,
          -3.664216995239258,
          -15.70652961730957,
          -6.602826118469238,
          -5.887160778045654
         ]
        },
        {
         "marker": {
          "color": "blue"
         },
         "mode": "lines",
         "name": "Perfect Prediction",
         "type": "scatter",
         "x": [
          -25.469999313354492,
          3.1600000858306885
         ],
         "y": [
          -25.469999313354492,
          3.1600000858306885
         ]
        }
       ],
       "layout": {
        "template": {
         "data": {
          "bar": [
           {
            "error_x": {
             "color": "#2a3f5f"
            },
            "error_y": {
             "color": "#2a3f5f"
            },
            "marker": {
             "line": {
              "color": "#E5ECF6",
              "width": 0.5
             },
             "pattern": {
              "fillmode": "overlay",
              "size": 10,
              "solidity": 0.2
             }
            },
            "type": "bar"
           }
          ],
          "barpolar": [
           {
            "marker": {
             "line": {
              "color": "#E5ECF6",
              "width": 0.5
             },
             "pattern": {
              "fillmode": "overlay",
              "size": 10,
              "solidity": 0.2
             }
            },
            "type": "barpolar"
           }
          ],
          "carpet": [
           {
            "aaxis": {
             "endlinecolor": "#2a3f5f",
             "gridcolor": "white",
             "linecolor": "white",
             "minorgridcolor": "white",
             "startlinecolor": "#2a3f5f"
            },
            "baxis": {
             "endlinecolor": "#2a3f5f",
             "gridcolor": "white",
             "linecolor": "white",
             "minorgridcolor": "white",
             "startlinecolor": "#2a3f5f"
            },
            "type": "carpet"
           }
          ],
          "choropleth": [
           {
            "colorbar": {
             "outlinewidth": 0,
             "ticks": ""
            },
            "type": "choropleth"
           }
          ],
          "contour": [
           {
            "colorbar": {
             "outlinewidth": 0,
             "ticks": ""
            },
            "colorscale": [
             [
              0,
              "#0d0887"
             ],
             [
              0.1111111111111111,
              "#46039f"
             ],
             [
              0.2222222222222222,
              "#7201a8"
             ],
             [
              0.3333333333333333,
              "#9c179e"
             ],
             [
              0.4444444444444444,
              "#bd3786"
             ],
             [
              0.5555555555555556,
              "#d8576b"
             ],
             [
              0.6666666666666666,
              "#ed7953"
             ],
             [
              0.7777777777777778,
              "#fb9f3a"
             ],
             [
              0.8888888888888888,
              "#fdca26"
             ],
             [
              1,
              "#f0f921"
             ]
            ],
            "type": "contour"
           }
          ],
          "contourcarpet": [
           {
            "colorbar": {
             "outlinewidth": 0,
             "ticks": ""
            },
            "type": "contourcarpet"
           }
          ],
          "heatmap": [
           {
            "colorbar": {
             "outlinewidth": 0,
             "ticks": ""
            },
            "colorscale": [
             [
              0,
              "#0d0887"
             ],
             [
              0.1111111111111111,
              "#46039f"
             ],
             [
              0.2222222222222222,
              "#7201a8"
             ],
             [
              0.3333333333333333,
              "#9c179e"
             ],
             [
              0.4444444444444444,
              "#bd3786"
             ],
             [
              0.5555555555555556,
              "#d8576b"
             ],
             [
              0.6666666666666666,
              "#ed7953"
             ],
             [
              0.7777777777777778,
              "#fb9f3a"
             ],
             [
              0.8888888888888888,
              "#fdca26"
             ],
             [
              1,
              "#f0f921"
             ]
            ],
            "type": "heatmap"
           }
          ],
          "heatmapgl": [
           {
            "colorbar": {
             "outlinewidth": 0,
             "ticks": ""
            },
            "colorscale": [
             [
              0,
              "#0d0887"
             ],
             [
              0.1111111111111111,
              "#46039f"
             ],
             [
              0.2222222222222222,
              "#7201a8"
             ],
             [
              0.3333333333333333,
              "#9c179e"
             ],
             [
              0.4444444444444444,
              "#bd3786"
             ],
             [
              0.5555555555555556,
              "#d8576b"
             ],
             [
              0.6666666666666666,
              "#ed7953"
             ],
             [
              0.7777777777777778,
              "#fb9f3a"
             ],
             [
              0.8888888888888888,
              "#fdca26"
             ],
             [
              1,
              "#f0f921"
             ]
            ],
            "type": "heatmapgl"
           }
          ],
          "histogram": [
           {
            "marker": {
             "pattern": {
              "fillmode": "overlay",
              "size": 10,
              "solidity": 0.2
             }
            },
            "type": "histogram"
           }
          ],
          "histogram2d": [
           {
            "colorbar": {
             "outlinewidth": 0,
             "ticks": ""
            },
            "colorscale": [
             [
              0,
              "#0d0887"
             ],
             [
              0.1111111111111111,
              "#46039f"
             ],
             [
              0.2222222222222222,
              "#7201a8"
             ],
             [
              0.3333333333333333,
              "#9c179e"
             ],
             [
              0.4444444444444444,
              "#bd3786"
             ],
             [
              0.5555555555555556,
              "#d8576b"
             ],
             [
              0.6666666666666666,
              "#ed7953"
             ],
             [
              0.7777777777777778,
              "#fb9f3a"
             ],
             [
              0.8888888888888888,
              "#fdca26"
             ],
             [
              1,
              "#f0f921"
             ]
            ],
            "type": "histogram2d"
           }
          ],
          "histogram2dcontour": [
           {
            "colorbar": {
             "outlinewidth": 0,
             "ticks": ""
            },
            "colorscale": [
             [
              0,
              "#0d0887"
             ],
             [
              0.1111111111111111,
              "#46039f"
             ],
             [
              0.2222222222222222,
              "#7201a8"
             ],
             [
              0.3333333333333333,
              "#9c179e"
             ],
             [
              0.4444444444444444,
              "#bd3786"
             ],
             [
              0.5555555555555556,
              "#d8576b"
             ],
             [
              0.6666666666666666,
              "#ed7953"
             ],
             [
              0.7777777777777778,
              "#fb9f3a"
             ],
             [
              0.8888888888888888,
              "#fdca26"
             ],
             [
              1,
              "#f0f921"
             ]
            ],
            "type": "histogram2dcontour"
           }
          ],
          "mesh3d": [
           {
            "colorbar": {
             "outlinewidth": 0,
             "ticks": ""
            },
            "type": "mesh3d"
           }
          ],
          "parcoords": [
           {
            "line": {
             "colorbar": {
              "outlinewidth": 0,
              "ticks": ""
             }
            },
            "type": "parcoords"
           }
          ],
          "pie": [
           {
            "automargin": true,
            "type": "pie"
           }
          ],
          "scatter": [
           {
            "fillpattern": {
             "fillmode": "overlay",
             "size": 10,
             "solidity": 0.2
            },
            "type": "scatter"
           }
          ],
          "scatter3d": [
           {
            "line": {
             "colorbar": {
              "outlinewidth": 0,
              "ticks": ""
             }
            },
            "marker": {
             "colorbar": {
              "outlinewidth": 0,
              "ticks": ""
             }
            },
            "type": "scatter3d"
           }
          ],
          "scattercarpet": [
           {
            "marker": {
             "colorbar": {
              "outlinewidth": 0,
              "ticks": ""
             }
            },
            "type": "scattercarpet"
           }
          ],
          "scattergeo": [
           {
            "marker": {
             "colorbar": {
              "outlinewidth": 0,
              "ticks": ""
             }
            },
            "type": "scattergeo"
           }
          ],
          "scattergl": [
           {
            "marker": {
             "colorbar": {
              "outlinewidth": 0,
              "ticks": ""
             }
            },
            "type": "scattergl"
           }
          ],
          "scattermapbox": [
           {
            "marker": {
             "colorbar": {
              "outlinewidth": 0,
              "ticks": ""
             }
            },
            "type": "scattermapbox"
           }
          ],
          "scatterpolar": [
           {
            "marker": {
             "colorbar": {
              "outlinewidth": 0,
              "ticks": ""
             }
            },
            "type": "scatterpolar"
           }
          ],
          "scatterpolargl": [
           {
            "marker": {
             "colorbar": {
              "outlinewidth": 0,
              "ticks": ""
             }
            },
            "type": "scatterpolargl"
           }
          ],
          "scatterternary": [
           {
            "marker": {
             "colorbar": {
              "outlinewidth": 0,
              "ticks": ""
             }
            },
            "type": "scatterternary"
           }
          ],
          "surface": [
           {
            "colorbar": {
             "outlinewidth": 0,
             "ticks": ""
            },
            "colorscale": [
             [
              0,
              "#0d0887"
             ],
             [
              0.1111111111111111,
              "#46039f"
             ],
             [
              0.2222222222222222,
              "#7201a8"
             ],
             [
              0.3333333333333333,
              "#9c179e"
             ],
             [
              0.4444444444444444,
              "#bd3786"
             ],
             [
              0.5555555555555556,
              "#d8576b"
             ],
             [
              0.6666666666666666,
              "#ed7953"
             ],
             [
              0.7777777777777778,
              "#fb9f3a"
             ],
             [
              0.8888888888888888,
              "#fdca26"
             ],
             [
              1,
              "#f0f921"
             ]
            ],
            "type": "surface"
           }
          ],
          "table": [
           {
            "cells": {
             "fill": {
              "color": "#EBF0F8"
             },
             "line": {
              "color": "white"
             }
            },
            "header": {
             "fill": {
              "color": "#C8D4E3"
             },
             "line": {
              "color": "white"
             }
            },
            "type": "table"
           }
          ]
         },
         "layout": {
          "annotationdefaults": {
           "arrowcolor": "#2a3f5f",
           "arrowhead": 0,
           "arrowwidth": 1
          },
          "autotypenumbers": "strict",
          "coloraxis": {
           "colorbar": {
            "outlinewidth": 0,
            "ticks": ""
           }
          },
          "colorscale": {
           "diverging": [
            [
             0,
             "#8e0152"
            ],
            [
             0.1,
             "#c51b7d"
            ],
            [
             0.2,
             "#de77ae"
            ],
            [
             0.3,
             "#f1b6da"
            ],
            [
             0.4,
             "#fde0ef"
            ],
            [
             0.5,
             "#f7f7f7"
            ],
            [
             0.6,
             "#e6f5d0"
            ],
            [
             0.7,
             "#b8e186"
            ],
            [
             0.8,
             "#7fbc41"
            ],
            [
             0.9,
             "#4d9221"
            ],
            [
             1,
             "#276419"
            ]
           ],
           "sequential": [
            [
             0,
             "#0d0887"
            ],
            [
             0.1111111111111111,
             "#46039f"
            ],
            [
             0.2222222222222222,
             "#7201a8"
            ],
            [
             0.3333333333333333,
             "#9c179e"
            ],
            [
             0.4444444444444444,
             "#bd3786"
            ],
            [
             0.5555555555555556,
             "#d8576b"
            ],
            [
             0.6666666666666666,
             "#ed7953"
            ],
            [
             0.7777777777777778,
             "#fb9f3a"
            ],
            [
             0.8888888888888888,
             "#fdca26"
            ],
            [
             1,
             "#f0f921"
            ]
           ],
           "sequentialminus": [
            [
             0,
             "#0d0887"
            ],
            [
             0.1111111111111111,
             "#46039f"
            ],
            [
             0.2222222222222222,
             "#7201a8"
            ],
            [
             0.3333333333333333,
             "#9c179e"
            ],
            [
             0.4444444444444444,
             "#bd3786"
            ],
            [
             0.5555555555555556,
             "#d8576b"
            ],
            [
             0.6666666666666666,
             "#ed7953"
            ],
            [
             0.7777777777777778,
             "#fb9f3a"
            ],
            [
             0.8888888888888888,
             "#fdca26"
            ],
            [
             1,
             "#f0f921"
            ]
           ]
          },
          "colorway": [
           "#636efa",
           "#EF553B",
           "#00cc96",
           "#ab63fa",
           "#FFA15A",
           "#19d3f3",
           "#FF6692",
           "#B6E880",
           "#FF97FF",
           "#FECB52"
          ],
          "font": {
           "color": "#2a3f5f"
          },
          "geo": {
           "bgcolor": "white",
           "lakecolor": "white",
           "landcolor": "#E5ECF6",
           "showlakes": true,
           "showland": true,
           "subunitcolor": "white"
          },
          "hoverlabel": {
           "align": "left"
          },
          "hovermode": "closest",
          "mapbox": {
           "style": "light"
          },
          "paper_bgcolor": "white",
          "plot_bgcolor": "#E5ECF6",
          "polar": {
           "angularaxis": {
            "gridcolor": "white",
            "linecolor": "white",
            "ticks": ""
           },
           "bgcolor": "#E5ECF6",
           "radialaxis": {
            "gridcolor": "white",
            "linecolor": "white",
            "ticks": ""
           }
          },
          "scene": {
           "xaxis": {
            "backgroundcolor": "#E5ECF6",
            "gridcolor": "white",
            "gridwidth": 2,
            "linecolor": "white",
            "showbackground": true,
            "ticks": "",
            "zerolinecolor": "white"
           },
           "yaxis": {
            "backgroundcolor": "#E5ECF6",
            "gridcolor": "white",
            "gridwidth": 2,
            "linecolor": "white",
            "showbackground": true,
            "ticks": "",
            "zerolinecolor": "white"
           },
           "zaxis": {
            "backgroundcolor": "#E5ECF6",
            "gridcolor": "white",
            "gridwidth": 2,
            "linecolor": "white",
            "showbackground": true,
            "ticks": "",
            "zerolinecolor": "white"
           }
          },
          "shapedefaults": {
           "line": {
            "color": "#2a3f5f"
           }
          },
          "ternary": {
           "aaxis": {
            "gridcolor": "white",
            "linecolor": "white",
            "ticks": ""
           },
           "baxis": {
            "gridcolor": "white",
            "linecolor": "white",
            "ticks": ""
           },
           "bgcolor": "#E5ECF6",
           "caxis": {
            "gridcolor": "white",
            "linecolor": "white",
            "ticks": ""
           }
          },
          "title": {
           "x": 0.05
          },
          "xaxis": {
           "automargin": true,
           "gridcolor": "white",
           "linecolor": "white",
           "ticks": "",
           "title": {
            "standoff": 15
           },
           "zerolinecolor": "white",
           "zerolinewidth": 2
          },
          "yaxis": {
           "automargin": true,
           "gridcolor": "white",
           "linecolor": "white",
           "ticks": "",
           "title": {
            "standoff": 15
           },
           "zerolinecolor": "white",
           "zerolinewidth": 2
          }
         }
        },
        "title": {
         "text": "predicted values vs real values"
        },
        "xaxis": {
         "title": {
          "text": "real"
         }
        },
        "yaxis": {
         "title": {
          "text": "pred"
         }
        }
       }
      }
     },
     "metadata": {},
     "output_type": "display_data"
    }
   ],
   "source": [
    "trace = go.Scatter(x = y_real,y = y_pred, mode = \"markers\")\n",
    "line_trace = go.Scatter(x = [min(y_real), max(y_real)],\n",
    "                        y = [min(y_real), max(y_real)],\n",
    "                        mode = \"lines\",\n",
    "                        marker=dict(color='blue'),\n",
    "                        name='Perfect Prediction')\n",
    "layout = go.Layout(title = \"predicted values vs real values\", xaxis=dict(title = \"real\"),\n",
    "                   yaxis = dict(title = \"pred\"))\n",
    "\n",
    "figure = go.Figure(data = [trace, line_trace], layout=layout)\n",
    "\n",
    "iplot(figure)"
   ]
  },
  {
   "cell_type": "code",
   "execution_count": null,
   "metadata": {},
   "outputs": [],
   "source": []
  }
 ],
 "metadata": {
  "kernelspec": {
   "display_name": "base",
   "language": "python",
   "name": "python3"
  },
  "language_info": {
   "codemirror_mode": {
    "name": "ipython",
    "version": 3
   },
   "file_extension": ".py",
   "mimetype": "text/x-python",
   "name": "python",
   "nbconvert_exporter": "python",
   "pygments_lexer": "ipython3",
   "version": "3.11.3"
  }
 },
 "nbformat": 4,
 "nbformat_minor": 2
}
